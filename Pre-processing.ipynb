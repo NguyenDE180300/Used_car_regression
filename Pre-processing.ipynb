{
 "cells": [
  {
   "cell_type": "markdown",
   "metadata": {},
   "source": [
    "# Import libraries"
   ]
  },
  {
   "cell_type": "code",
   "execution_count": 815,
   "metadata": {},
   "outputs": [],
   "source": [
    "import pandas as pd\n",
    "import pyodbc\n",
    "import numpy as np\n",
    "from fuzzywuzzy import process\n",
    "from fuzzywuzzy import fuzz"
   ]
  },
  {
   "cell_type": "markdown",
   "metadata": {},
   "source": [
    "# Get datas from database"
   ]
  },
  {
   "cell_type": "code",
   "execution_count": 816,
   "metadata": {},
   "outputs": [],
   "source": [
    "server = 'DESKTOP-4I8KM5F'\n",
    "database = 'cars_data'\n",
    "driver = 'ODBC Driver 17 for SQL Server'\n",
    "connection_string = f'DRIVER={{{driver}}};SERVER={server};DATABASE={database};Trusted_Connection=yes;'\n",
    "\n",
    "conn = pyodbc.connect(connection_string)"
   ]
  },
  {
   "cell_type": "code",
   "execution_count": 817,
   "metadata": {},
   "outputs": [],
   "source": [
    "def get_table(connection):\n",
    "    cursor = connection.cursor()\n",
    "    cursor.execute(\"SELECT table_name FROM information_schema.tables WHERE table_type = 'BASE TABLE' AND table_name LIKE '%[_]%'\")\n",
    "    tables = cursor.fetchall()\n",
    "    cursor.close()\n",
    "    return [table[0] for table in tables]"
   ]
  },
  {
   "cell_type": "code",
   "execution_count": 818,
   "metadata": {},
   "outputs": [],
   "source": [
    "car_tables = get_table(conn)\n",
    "dfs = {}"
   ]
  },
  {
   "cell_type": "code",
   "execution_count": 819,
   "metadata": {},
   "outputs": [
    {
     "name": "stdout",
     "output_type": "stream",
     "text": [
      "Data from table 'bonbanh_inf' retrieved successfully\n",
      "Data from table 'newcar_inf' retrieved successfully\n",
      "Data from table 'used_Car' retrieved successfully\n",
      "Data from table 'final_data' retrieved successfully\n"
     ]
    },
    {
     "name": "stderr",
     "output_type": "stream",
     "text": [
      "C:\\Users\\Admin\\AppData\\Local\\Temp\\ipykernel_26584\\1449589249.py:4: UserWarning: pandas only supports SQLAlchemy connectable (engine/connection) or database string URI or sqlite3 DBAPI2 connection. Other DBAPI2 objects are not tested. Please consider using SQLAlchemy.\n",
      "  df = pd.read_sql(query, conn)\n"
     ]
    }
   ],
   "source": [
    "for table in car_tables:\n",
    "    query = f\"SELECT * FROM [{table}]\"\n",
    "    try:\n",
    "        df = pd.read_sql(query, conn)\n",
    "        dfs[table] = df\n",
    "        print(f\"Data from table '{table}' retrieved successfully\")\n",
    "    \n",
    "    except Exception as e:\n",
    "        print(f\"Error retrieving data from table '{table}': {e}\")\n",
    "\n",
    "conn.close()"
   ]
  },
  {
   "cell_type": "code",
   "execution_count": 820,
   "metadata": {},
   "outputs": [],
   "source": [
    "df_bonbanh_inf = dfs['bonbanh_inf']\n",
    "df_used_Car = dfs['used_Car']\n",
    "df_newcar_inf = dfs['newcar_inf']"
   ]
  },
  {
   "cell_type": "markdown",
   "metadata": {},
   "source": [
    "# Pre-processing"
   ]
  },
  {
   "cell_type": "markdown",
   "metadata": {},
   "source": [
    "## New cars"
   ]
  },
  {
   "cell_type": "code",
   "execution_count": 821,
   "metadata": {},
   "outputs": [
    {
     "name": "stdout",
     "output_type": "stream",
     "text": [
      "<class 'pandas.core.frame.DataFrame'>\n",
      "RangeIndex: 587 entries, 0 to 586\n",
      "Data columns (total 13 columns):\n",
      " #   Column            Non-Null Count  Dtype \n",
      "---  ------            --------------  ----- \n",
      " 0   name              587 non-null    object\n",
      " 1   link              587 non-null    object\n",
      " 2   manufacturer      587 non-null    object\n",
      " 3   origin            587 non-null    object\n",
      " 4   body_type         587 non-null    object\n",
      " 5   seating_capacity  587 non-null    object\n",
      " 6   engine            587 non-null    object\n",
      " 7   torque            587 non-null    object\n",
      " 8   transmission      587 non-null    object\n",
      " 9   max_power         587 non-null    object\n",
      " 10  drive             587 non-null    object\n",
      " 11  fuel_type         587 non-null    object\n",
      " 12  fuel_capacity     587 non-null    object\n",
      "dtypes: object(13)\n",
      "memory usage: 59.7+ KB\n"
     ]
    }
   ],
   "source": [
    "df_newcar_inf.info()"
   ]
  },
  {
   "cell_type": "markdown",
   "metadata": {},
   "source": [
    "### Replace None"
   ]
  },
  {
   "cell_type": "code",
   "execution_count": 822,
   "metadata": {},
   "outputs": [
    {
     "name": "stdout",
     "output_type": "stream",
     "text": [
      "<class 'pandas.core.frame.DataFrame'>\n",
      "RangeIndex: 587 entries, 0 to 586\n",
      "Data columns (total 13 columns):\n",
      " #   Column            Non-Null Count  Dtype  \n",
      "---  ------            --------------  -----  \n",
      " 0   name              587 non-null    object \n",
      " 1   link              587 non-null    object \n",
      " 2   manufacturer      586 non-null    object \n",
      " 3   origin            587 non-null    object \n",
      " 4   body_type         587 non-null    object \n",
      " 5   seating_capacity  587 non-null    object \n",
      " 6   engine            587 non-null    object \n",
      " 7   torque            0 non-null      float64\n",
      " 8   transmission      587 non-null    object \n",
      " 9   max_power         530 non-null    object \n",
      " 10  drive             587 non-null    object \n",
      " 11  fuel_type         585 non-null    object \n",
      " 12  fuel_capacity     587 non-null    object \n",
      "dtypes: float64(1), object(12)\n",
      "memory usage: 59.7+ KB\n"
     ]
    },
    {
     "name": "stderr",
     "output_type": "stream",
     "text": [
      "C:\\Users\\Admin\\AppData\\Local\\Temp\\ipykernel_26584\\2749820825.py:1: FutureWarning: Downcasting behavior in `replace` is deprecated and will be removed in a future version. To retain the old behavior, explicitly call `result.infer_objects(copy=False)`. To opt-in to the future behavior, set `pd.set_option('future.no_silent_downcasting', True)`\n",
      "  df_newcar_inf.replace({'None': np.nan}, inplace=True)\n"
     ]
    }
   ],
   "source": [
    "df_newcar_inf.replace({'None': np.nan}, inplace=True)\n",
    "df_newcar_inf.info()"
   ]
  },
  {
   "cell_type": "markdown",
   "metadata": {},
   "source": [
    "### Fuel_capacity"
   ]
  },
  {
   "cell_type": "code",
   "execution_count": 823,
   "metadata": {},
   "outputs": [
    {
     "data": {
      "text/plain": [
       "array(['35 Lit', '33 Lit', '43 Lit', '42 Lit', '32 Lit', '0 Lit',\n",
       "       '45 Lit', '40 Lit', '41 Lit', '37 Lit', '48 Lit', '44 Lit',\n",
       "       '52 Lit', '50 Lit', '58 Lit', '80 Lit', '51 Lit', '46 Lit',\n",
       "       '79 Lit', '55 Lit', '65 Lit', '76 Lit', '53 Lit', '47 Lit',\n",
       "       '75 Lit', '54 Lit', '70 Lit', '62 Lit', '72 Lit', '60 Lit',\n",
       "       '56 Lit', '78 Lit', '68 Lit', '57 Lit', '71 Lit', '103 Lit',\n",
       "       '26 Lit', '85 Lit', '73 Lit', '66 Lit', '59 Lit', '88 Lit',\n",
       "       '87 Lit', '67 Lit', '83 Lit', '82 Lit', '93 Lit', '90 Lit',\n",
       "       '143 Lit', '89 Lit', '64 Lit', '104 Lit', '98 Lit', '84 Lit',\n",
       "       '99 Lit', '77 Lit', '96 Lit'], dtype=object)"
      ]
     },
     "execution_count": 823,
     "metadata": {},
     "output_type": "execute_result"
    }
   ],
   "source": [
    "df_newcar_inf['fuel_capacity'].unique()"
   ]
  },
  {
   "cell_type": "code",
   "execution_count": 824,
   "metadata": {},
   "outputs": [
    {
     "name": "stdout",
     "output_type": "stream",
     "text": [
      "21     Vinfast Fadil 1.4 Tieu chuan CVT\n",
      "175                Toyota Venza 2.5 CVT\n",
      "244                Honda CR-V 1.5E 2021\n",
      "248            Hyundai SantaFe 2.4 Xang\n",
      "263                Honda CR-V 1.5G 2021\n",
      "273                Honda CR-V 1.5L 2021\n",
      "302      Toyota Fortuner 2.4 TRD AT 4X2\n",
      "552                  BMW i8 1.5L Hybrid\n",
      "585            Rolls-Royce Cullinan V12\n",
      "586                Rolls-Royce Dawn V12\n",
      "Name: name, dtype: object\n"
     ]
    }
   ],
   "source": [
    "filtered_cars = df_newcar_inf[df_newcar_inf['fuel_capacity'] == '0 Lit']\n",
    "\n",
    "car_names = filtered_cars['name']\n",
    "print(car_names)"
   ]
  },
  {
   "cell_type": "code",
   "execution_count": 825,
   "metadata": {},
   "outputs": [],
   "source": [
    "df_newcar_inf.loc[df_newcar_inf['name'] == 'Vinfast Fadil 1.4 Tieu chuan CVT', 'fuel_capacity'] = '32 Lit'\n",
    "df_newcar_inf.loc[df_newcar_inf['name'] == 'Toyota Venza 2.5 CVT',  'fuel_capacity'] = '55 Lit'\n",
    "df_newcar_inf.loc[df_newcar_inf['name'] == 'Honda CR-V 1.5E 2021',  'fuel_capacity'] = '57 Lit'\n",
    "df_newcar_inf.loc[df_newcar_inf['name'] == 'Hyundai SantaFe 2.4 Xang',  'fuel_capacity'] = '71 Lit'\n",
    "df_newcar_inf.loc[df_newcar_inf['name'] == 'Honda CR-V 1.5G 2021',  'fuel_capacity'] = '57 Lit'\n",
    "df_newcar_inf.loc[df_newcar_inf['name'] == 'Honda CR-V 1.5L 2021',  'fuel_capacity'] = '57 Lit'\n",
    "df_newcar_inf.loc[df_newcar_inf['name'] == 'Toyota Fortuner 2.4 TRD AT 4X2',  'fuel_capacity'] = '80 Lit'\n",
    "df_newcar_inf.loc[df_newcar_inf['name'] == 'BMW i8 1.5L Hybrid',  'fuel_capacity'] = '42 Lit'\n",
    "df_newcar_inf.loc[df_newcar_inf['name'] == 'Rolls-Royce Cullinan V12',  'fuel_capacity'] = '83 Lit'\n",
    "df_newcar_inf.loc[df_newcar_inf['name'] == 'Rolls-Royce Dawn V12',  'fuel_capacity'] = '78 Lit'"
   ]
  },
  {
   "cell_type": "code",
   "execution_count": 826,
   "metadata": {},
   "outputs": [
    {
     "name": "stdout",
     "output_type": "stream",
     "text": [
      "Series([], Name: name, dtype: object)\n"
     ]
    }
   ],
   "source": [
    "filtered_cars = df_newcar_inf[df_newcar_inf['fuel_capacity'] == '0 Lit']\n",
    "\n",
    "car_names = filtered_cars['name']\n",
    "print(car_names)"
   ]
  },
  {
   "cell_type": "code",
   "execution_count": 827,
   "metadata": {},
   "outputs": [
    {
     "name": "stdout",
     "output_type": "stream",
     "text": [
      "<class 'pandas.core.frame.DataFrame'>\n",
      "RangeIndex: 587 entries, 0 to 586\n",
      "Data columns (total 13 columns):\n",
      " #   Column            Non-Null Count  Dtype  \n",
      "---  ------            --------------  -----  \n",
      " 0   name              587 non-null    object \n",
      " 1   link              587 non-null    object \n",
      " 2   manufacturer      586 non-null    object \n",
      " 3   origin            587 non-null    object \n",
      " 4   body_type         587 non-null    object \n",
      " 5   seating_capacity  587 non-null    object \n",
      " 6   engine            587 non-null    object \n",
      " 7   torque            0 non-null      float64\n",
      " 8   transmission      587 non-null    object \n",
      " 9   max_power         530 non-null    object \n",
      " 10  drive             587 non-null    object \n",
      " 11  fuel_type         585 non-null    object \n",
      " 12  fuel_capacity     587 non-null    int64  \n",
      "dtypes: float64(1), int64(1), object(11)\n",
      "memory usage: 59.7+ KB\n"
     ]
    }
   ],
   "source": [
    "df_newcar_inf['fuel_capacity'] = df_newcar_inf['fuel_capacity'].str.replace(' Lit', '', regex=False).astype(int)\n",
    "df_newcar_inf.info()"
   ]
  },
  {
   "cell_type": "markdown",
   "metadata": {},
   "source": [
    "### fuel_type"
   ]
  },
  {
   "cell_type": "code",
   "execution_count": 828,
   "metadata": {},
   "outputs": [
    {
     "data": {
      "text/plain": [
       "array(['Xang', 'Dau', nan, 'Dien'], dtype=object)"
      ]
     },
     "execution_count": 828,
     "metadata": {},
     "output_type": "execute_result"
    }
   ],
   "source": [
    "df_newcar_inf['fuel_type'].unique()"
   ]
  },
  {
   "cell_type": "code",
   "execution_count": 829,
   "metadata": {},
   "outputs": [
    {
     "name": "stdout",
     "output_type": "stream",
     "text": [
      "178        Honda Civic 1.8 G\n",
      "245    Honda CR-V 1.5 E 2019\n",
      "Name: name, dtype: object\n"
     ]
    }
   ],
   "source": [
    "filtered_cars = df_newcar_inf[df_newcar_inf['fuel_type'].isna()]\n",
    "\n",
    "car_names = filtered_cars['name']\n",
    "print(car_names)"
   ]
  },
  {
   "cell_type": "code",
   "execution_count": 830,
   "metadata": {},
   "outputs": [
    {
     "data": {
      "text/plain": [
       "array(['Xang', 'Dau', 'Dien'], dtype=object)"
      ]
     },
     "execution_count": 830,
     "metadata": {},
     "output_type": "execute_result"
    }
   ],
   "source": [
    "df_newcar_inf.loc[df_newcar_inf['name'] == 'Honda Civic 1.8 G', 'fuel_type'] = 'Xang'\n",
    "df_newcar_inf.loc[df_newcar_inf['name'] == 'Honda CR-V 1.5 E 2019',  'fuel_type'] = 'Xang'\n",
    "df_newcar_inf['fuel_type'].unique()"
   ]
  },
  {
   "cell_type": "markdown",
   "metadata": {},
   "source": [
    "### max_power, torque, link"
   ]
  },
  {
   "cell_type": "code",
   "execution_count": 831,
   "metadata": {},
   "outputs": [],
   "source": [
    "df_newcar_inf.drop(columns=['max_power', 'torque', 'link'], inplace=True)"
   ]
  },
  {
   "cell_type": "markdown",
   "metadata": {},
   "source": [
    "### manufacturer"
   ]
  },
  {
   "cell_type": "code",
   "execution_count": 832,
   "metadata": {},
   "outputs": [
    {
     "data": {
      "text/plain": [
       "array(['Kia', 'Suzuki', 'Toyota', 'Hyundai', 'Chevrolet', 'Mitsubishi',\n",
       "       'VinFast', 'Honda', 'Nissan', 'Mazda', 'Ford', 'Renault', 'Isuzu',\n",
       "       'Volkswagen', 'Subaru', 'Peugeot', 'Land Rover', 'Mercedes',\n",
       "       'Audi', 'BMW', 'Mini', 'Volvo', 'Jaguar', 'Lexus', 'Infiniti',\n",
       "       'Porsche', nan, 'Cadillac', 'Lincoln', 'Maserati',\n",
       "       'Mercedes Maybach', 'McLaren', 'Aston Martin', 'Bentley',\n",
       "       'Rolls Royce'], dtype=object)"
      ]
     },
     "execution_count": 832,
     "metadata": {},
     "output_type": "execute_result"
    }
   ],
   "source": [
    "df_newcar_inf['manufacturer'].unique()"
   ]
  },
  {
   "cell_type": "code",
   "execution_count": 833,
   "metadata": {},
   "outputs": [
    {
     "data": {
      "text/plain": [
       "464    Land Rover Range Rover Evoque 2.0L I4 Turbocha...\n",
       "Name: name, dtype: object"
      ]
     },
     "execution_count": 833,
     "metadata": {},
     "output_type": "execute_result"
    }
   ],
   "source": [
    "filtered_cars = df_newcar_inf[df_newcar_inf['manufacturer'].isna()]\n",
    "filtered_cars['name']"
   ]
  },
  {
   "cell_type": "code",
   "execution_count": 834,
   "metadata": {},
   "outputs": [],
   "source": [
    "df_newcar_inf.loc[464, 'manufacturer'] = 'Land Rover'"
   ]
  },
  {
   "cell_type": "code",
   "execution_count": 835,
   "metadata": {},
   "outputs": [
    {
     "data": {
      "text/plain": [
       "array(['Kia', 'Suzuki', 'Toyota', 'Hyundai', 'Chevrolet', 'Mitsubishi',\n",
       "       'VinFast', 'Honda', 'Nissan', 'Mazda', 'Ford', 'Renault', 'Isuzu',\n",
       "       'Volkswagen', 'Subaru', 'Peugeot', 'Land Rover', 'Mercedes',\n",
       "       'Audi', 'BMW', 'Mini', 'Volvo', 'Jaguar', 'Lexus', 'Infiniti',\n",
       "       'Porsche', 'Cadillac', 'Lincoln', 'Maserati', 'McLaren',\n",
       "       'Aston Martin', 'Bentley', 'Rolls-Royce'], dtype=object)"
      ]
     },
     "execution_count": 835,
     "metadata": {},
     "output_type": "execute_result"
    }
   ],
   "source": [
    "df_newcar_inf['manufacturer'] = df_newcar_inf['manufacturer'].replace('Mercedes Maybach', 'Mercedes')\n",
    "df_newcar_inf['manufacturer'] = df_newcar_inf['manufacturer'].replace('Rolls Royce', 'Rolls-Royce')\n",
    "df_newcar_inf['manufacturer'].unique()"
   ]
  },
  {
   "cell_type": "markdown",
   "metadata": {},
   "source": [
    "### origin"
   ]
  },
  {
   "cell_type": "code",
   "execution_count": 836,
   "metadata": {},
   "outputs": [
    {
     "data": {
      "text/plain": [
       "array(['Lap rap', 'Nhap khau'], dtype=object)"
      ]
     },
     "execution_count": 836,
     "metadata": {},
     "output_type": "execute_result"
    }
   ],
   "source": [
    "df_newcar_inf['origin'].unique()"
   ]
  },
  {
   "cell_type": "markdown",
   "metadata": {},
   "source": [
    "### body_type, seating_capacity, engine"
   ]
  },
  {
   "cell_type": "code",
   "execution_count": 837,
   "metadata": {},
   "outputs": [
    {
     "data": {
      "text/plain": [
       "array(['Hatchback', 'Sedan', 'Minivan', 'SUV', 'Crossover', 'Xe ban tai',\n",
       "       'Wagon', 'Van', 'Coupe', 'Convertible'], dtype=object)"
      ]
     },
     "execution_count": 837,
     "metadata": {},
     "output_type": "execute_result"
    }
   ],
   "source": [
    "df_newcar_inf['body_type'].unique()"
   ]
  },
  {
   "cell_type": "code",
   "execution_count": 838,
   "metadata": {},
   "outputs": [],
   "source": [
    "df_newcar_inf['body_type'] = df_newcar_inf['body_type'].apply(lambda x: x.replace('Xe ban tai', 'Ban tai'))"
   ]
  },
  {
   "cell_type": "code",
   "execution_count": 839,
   "metadata": {},
   "outputs": [
    {
     "data": {
      "text/plain": [
       "array(['Hatchback', 'Sedan', 'Minivan', 'SUV', 'Crossover', 'Ban tai',\n",
       "       'Wagon', 'Van', 'Coupe', 'Convertible'], dtype=object)"
      ]
     },
     "execution_count": 839,
     "metadata": {},
     "output_type": "execute_result"
    }
   ],
   "source": [
    "df_newcar_inf['body_type'].unique()"
   ]
  },
  {
   "cell_type": "code",
   "execution_count": 840,
   "metadata": {},
   "outputs": [],
   "source": [
    "df_newcar_inf['seating_capacity'].unique()\n",
    "df_newcar_inf['seating_capacity'] = df_newcar_inf['seating_capacity'].str.replace(' cho', '', regex=False).astype(int)"
   ]
  },
  {
   "cell_type": "code",
   "execution_count": 841,
   "metadata": {},
   "outputs": [],
   "source": [
    "df_newcar_inf['engine'].unique()\n",
    "df_newcar_inf['engine'] = df_newcar_inf['engine'].str.replace(' cc', '', regex=False).astype(int)"
   ]
  },
  {
   "cell_type": "code",
   "execution_count": 842,
   "metadata": {},
   "outputs": [
    {
     "data": {
      "text/plain": [
       "array([1248,  998, 1197, 1206, 1193, 1399, 1368, 1395, 1199, 1498, 1496,\n",
       "       1397, 1495, 1373, 1462, 1497, 1329, 1500, 1499, 1591, 1999, 2488,\n",
       "       1353, 1598, 1599, 1596, 2198, 2393, 2457, 1796, 1898, 1364,  999,\n",
       "       1000, 1798, 1799, 2396, 3198, 1998, 1996, 2402, 1988, 2359, 2999,\n",
       "       1997, 2499, 2755, 1987, 1995, 2199, 2442, 2497, 2395, 2982, 1618,\n",
       "       2998, 2360, 2694, 2995, 2494, 2498, 1595, 2448, 3342, 3471, 1984,\n",
       "       1991, 1797, 1398, 3630, 1969, 2356, 2972, 2000, 2261, 2487, 3456,\n",
       "       3778, 3498, 2979, 2996, 3696, 3457, 4608, 5663, 2894, 2993, 3649,\n",
       "       3596, 4605, 4395, 2981, 5552, 3444, 3802, 4691, 6162, 3997, 5461,\n",
       "       3996, 3994, 5935, 3982, 5000, 5980, 3995, 6592, 6755])"
      ]
     },
     "execution_count": 842,
     "metadata": {},
     "output_type": "execute_result"
    }
   ],
   "source": [
    "df_newcar_inf['engine'].unique()"
   ]
  },
  {
   "cell_type": "code",
   "execution_count": 843,
   "metadata": {},
   "outputs": [
    {
     "data": {
      "text/plain": [
       "array([1250, 1000, 1200, 1400, 1500, 1350, 1600, 2000, 2500, 2200, 2400,\n",
       "       1800, 1900, 3200, 2450, 3000, 2800, 1650, 2700, 3350, 3500, 3650,\n",
       "       2300, 3800, 3700, 4650, 5700, 2900, 3600, 4400, 5600, 3450, 3850,\n",
       "       4700, 6200, 4000, 5500, 5950, 5000, 6000, 6600, 6800])"
      ]
     },
     "execution_count": 843,
     "metadata": {},
     "output_type": "execute_result"
    }
   ],
   "source": [
    "def round_up(x):\n",
    "    return ((x + 49) // 50) * 50\n",
    "df_newcar_inf['engine'] = df_newcar_inf['engine'].apply(round_up)\n",
    "df_newcar_inf['engine'].unique()"
   ]
  },
  {
   "cell_type": "markdown",
   "metadata": {},
   "source": [
    "### Final"
   ]
  },
  {
   "cell_type": "code",
   "execution_count": 844,
   "metadata": {},
   "outputs": [
    {
     "data": {
      "text/html": [
       "<div>\n",
       "<style scoped>\n",
       "    .dataframe tbody tr th:only-of-type {\n",
       "        vertical-align: middle;\n",
       "    }\n",
       "\n",
       "    .dataframe tbody tr th {\n",
       "        vertical-align: top;\n",
       "    }\n",
       "\n",
       "    .dataframe thead th {\n",
       "        text-align: right;\n",
       "    }\n",
       "</style>\n",
       "<table border=\"1\" class=\"dataframe\">\n",
       "  <thead>\n",
       "    <tr style=\"text-align: right;\">\n",
       "      <th></th>\n",
       "      <th>Name</th>\n",
       "      <th>Manufacturer</th>\n",
       "      <th>Origin</th>\n",
       "      <th>Body_Type</th>\n",
       "      <th>Seating_Capacity</th>\n",
       "      <th>Engine</th>\n",
       "      <th>Transmission</th>\n",
       "      <th>Drive</th>\n",
       "      <th>Fuel_Type</th>\n",
       "      <th>Fuel_Capacity</th>\n",
       "    </tr>\n",
       "  </thead>\n",
       "  <tbody>\n",
       "    <tr>\n",
       "      <th>0</th>\n",
       "      <td>Kia Morning MT</td>\n",
       "      <td>Kia</td>\n",
       "      <td>Lap rap</td>\n",
       "      <td>Hatchback</td>\n",
       "      <td>5</td>\n",
       "      <td>1250</td>\n",
       "      <td>So san</td>\n",
       "      <td>FWD</td>\n",
       "      <td>Xang</td>\n",
       "      <td>35</td>\n",
       "    </tr>\n",
       "    <tr>\n",
       "      <th>1</th>\n",
       "      <td>Suzuki Celerio MT</td>\n",
       "      <td>Suzuki</td>\n",
       "      <td>Nhap khau</td>\n",
       "      <td>Hatchback</td>\n",
       "      <td>5</td>\n",
       "      <td>1000</td>\n",
       "      <td>So san</td>\n",
       "      <td>2WD</td>\n",
       "      <td>Xang</td>\n",
       "      <td>35</td>\n",
       "    </tr>\n",
       "    <tr>\n",
       "      <th>2</th>\n",
       "      <td>Kia Morning AT</td>\n",
       "      <td>Kia</td>\n",
       "      <td>Lap rap</td>\n",
       "      <td>Hatchback</td>\n",
       "      <td>5</td>\n",
       "      <td>1250</td>\n",
       "      <td>Tu dong</td>\n",
       "      <td>FWD</td>\n",
       "      <td>Xang</td>\n",
       "      <td>35</td>\n",
       "    </tr>\n",
       "    <tr>\n",
       "      <th>3</th>\n",
       "      <td>Toyota Wigo 1.2 G MT</td>\n",
       "      <td>Toyota</td>\n",
       "      <td>Nhap khau</td>\n",
       "      <td>Hatchback</td>\n",
       "      <td>5</td>\n",
       "      <td>1200</td>\n",
       "      <td>So san</td>\n",
       "      <td>FWD</td>\n",
       "      <td>Xang</td>\n",
       "      <td>33</td>\n",
       "    </tr>\n",
       "    <tr>\n",
       "      <th>4</th>\n",
       "      <td>Suzuki Celerio CVT</td>\n",
       "      <td>Suzuki</td>\n",
       "      <td>Nhap khau</td>\n",
       "      <td>Hatchback</td>\n",
       "      <td>5</td>\n",
       "      <td>1000</td>\n",
       "      <td>Vo cap CVT</td>\n",
       "      <td>2WD</td>\n",
       "      <td>Xang</td>\n",
       "      <td>35</td>\n",
       "    </tr>\n",
       "    <tr>\n",
       "      <th>...</th>\n",
       "      <td>...</td>\n",
       "      <td>...</td>\n",
       "      <td>...</td>\n",
       "      <td>...</td>\n",
       "      <td>...</td>\n",
       "      <td>...</td>\n",
       "      <td>...</td>\n",
       "      <td>...</td>\n",
       "      <td>...</td>\n",
       "      <td>...</td>\n",
       "    </tr>\n",
       "    <tr>\n",
       "      <th>582</th>\n",
       "      <td>Mercedes-AMG G65 6.0 V12</td>\n",
       "      <td>Mercedes</td>\n",
       "      <td>Nhap khau</td>\n",
       "      <td>SUV</td>\n",
       "      <td>5</td>\n",
       "      <td>6000</td>\n",
       "      <td>Tu dong</td>\n",
       "      <td>4WD</td>\n",
       "      <td>Xang</td>\n",
       "      <td>96</td>\n",
       "    </tr>\n",
       "    <tr>\n",
       "      <th>583</th>\n",
       "      <td>Aston Martin Vanquish S V12</td>\n",
       "      <td>Aston Martin</td>\n",
       "      <td>Nhap khau</td>\n",
       "      <td>Coupe</td>\n",
       "      <td>2</td>\n",
       "      <td>5950</td>\n",
       "      <td>Tu dong</td>\n",
       "      <td>RWD</td>\n",
       "      <td>Xang</td>\n",
       "      <td>77</td>\n",
       "    </tr>\n",
       "    <tr>\n",
       "      <th>584</th>\n",
       "      <td>Rolls-Royce Ghost V12</td>\n",
       "      <td>Rolls-Royce</td>\n",
       "      <td>Nhap khau</td>\n",
       "      <td>Sedan</td>\n",
       "      <td>5</td>\n",
       "      <td>6600</td>\n",
       "      <td>Tu dong</td>\n",
       "      <td>RWD</td>\n",
       "      <td>Xang</td>\n",
       "      <td>82</td>\n",
       "    </tr>\n",
       "    <tr>\n",
       "      <th>585</th>\n",
       "      <td>Rolls-Royce Cullinan V12</td>\n",
       "      <td>Rolls-Royce</td>\n",
       "      <td>Nhap khau</td>\n",
       "      <td>SUV</td>\n",
       "      <td>4</td>\n",
       "      <td>6800</td>\n",
       "      <td>Tu dong</td>\n",
       "      <td>AWD</td>\n",
       "      <td>Xang</td>\n",
       "      <td>83</td>\n",
       "    </tr>\n",
       "    <tr>\n",
       "      <th>586</th>\n",
       "      <td>Rolls-Royce Dawn V12</td>\n",
       "      <td>Rolls-Royce</td>\n",
       "      <td>Nhap khau</td>\n",
       "      <td>Convertible</td>\n",
       "      <td>4</td>\n",
       "      <td>6600</td>\n",
       "      <td>Tu dong</td>\n",
       "      <td>RWD</td>\n",
       "      <td>Xang</td>\n",
       "      <td>78</td>\n",
       "    </tr>\n",
       "  </tbody>\n",
       "</table>\n",
       "<p>586 rows × 10 columns</p>\n",
       "</div>"
      ],
      "text/plain": [
       "                            Name  Manufacturer     Origin    Body_Type  \\\n",
       "0                 Kia Morning MT           Kia    Lap rap    Hatchback   \n",
       "1              Suzuki Celerio MT        Suzuki  Nhap khau    Hatchback   \n",
       "2                 Kia Morning AT           Kia    Lap rap    Hatchback   \n",
       "3           Toyota Wigo 1.2 G MT        Toyota  Nhap khau    Hatchback   \n",
       "4             Suzuki Celerio CVT        Suzuki  Nhap khau    Hatchback   \n",
       "..                           ...           ...        ...          ...   \n",
       "582     Mercedes-AMG G65 6.0 V12      Mercedes  Nhap khau          SUV   \n",
       "583  Aston Martin Vanquish S V12  Aston Martin  Nhap khau        Coupe   \n",
       "584        Rolls-Royce Ghost V12   Rolls-Royce  Nhap khau        Sedan   \n",
       "585     Rolls-Royce Cullinan V12   Rolls-Royce  Nhap khau          SUV   \n",
       "586         Rolls-Royce Dawn V12   Rolls-Royce  Nhap khau  Convertible   \n",
       "\n",
       "     Seating_Capacity  Engine Transmission Drive Fuel_Type  Fuel_Capacity  \n",
       "0                   5    1250       So san   FWD      Xang             35  \n",
       "1                   5    1000       So san   2WD      Xang             35  \n",
       "2                   5    1250      Tu dong   FWD      Xang             35  \n",
       "3                   5    1200       So san   FWD      Xang             33  \n",
       "4                   5    1000   Vo cap CVT   2WD      Xang             35  \n",
       "..                ...     ...          ...   ...       ...            ...  \n",
       "582                 5    6000      Tu dong   4WD      Xang             96  \n",
       "583                 2    5950      Tu dong   RWD      Xang             77  \n",
       "584                 5    6600      Tu dong   RWD      Xang             82  \n",
       "585                 4    6800      Tu dong   AWD      Xang             83  \n",
       "586                 4    6600      Tu dong   RWD      Xang             78  \n",
       "\n",
       "[586 rows x 10 columns]"
      ]
     },
     "execution_count": 844,
     "metadata": {},
     "output_type": "execute_result"
    }
   ],
   "source": [
    "df_newcar_inf.columns = df_newcar_inf.columns.str.title()\n",
    "df_newcar_inf.drop_duplicates()"
   ]
  },
  {
   "cell_type": "code",
   "execution_count": 845,
   "metadata": {},
   "outputs": [
    {
     "name": "stdout",
     "output_type": "stream",
     "text": [
      "<class 'pandas.core.frame.DataFrame'>\n",
      "RangeIndex: 587 entries, 0 to 586\n",
      "Data columns (total 10 columns):\n",
      " #   Column            Non-Null Count  Dtype \n",
      "---  ------            --------------  ----- \n",
      " 0   Name              587 non-null    object\n",
      " 1   Manufacturer      587 non-null    object\n",
      " 2   Origin            587 non-null    object\n",
      " 3   Body_Type         587 non-null    object\n",
      " 4   Seating_Capacity  587 non-null    int64 \n",
      " 5   Engine            587 non-null    int64 \n",
      " 6   Transmission      587 non-null    object\n",
      " 7   Drive             587 non-null    object\n",
      " 8   Fuel_Type         587 non-null    object\n",
      " 9   Fuel_Capacity     587 non-null    int64 \n",
      "dtypes: int64(3), object(7)\n",
      "memory usage: 46.0+ KB\n"
     ]
    }
   ],
   "source": [
    "df_newcar_inf.info()"
   ]
  },
  {
   "cell_type": "code",
   "execution_count": 846,
   "metadata": {},
   "outputs": [
    {
     "data": {
      "text/html": [
       "<div>\n",
       "<style scoped>\n",
       "    .dataframe tbody tr th:only-of-type {\n",
       "        vertical-align: middle;\n",
       "    }\n",
       "\n",
       "    .dataframe tbody tr th {\n",
       "        vertical-align: top;\n",
       "    }\n",
       "\n",
       "    .dataframe thead th {\n",
       "        text-align: right;\n",
       "    }\n",
       "</style>\n",
       "<table border=\"1\" class=\"dataframe\">\n",
       "  <thead>\n",
       "    <tr style=\"text-align: right;\">\n",
       "      <th></th>\n",
       "      <th>Name</th>\n",
       "      <th>Manufacturer</th>\n",
       "      <th>Origin</th>\n",
       "      <th>Body_Type</th>\n",
       "      <th>Seating_Capacity</th>\n",
       "      <th>Engine</th>\n",
       "      <th>Transmission</th>\n",
       "      <th>Drive</th>\n",
       "      <th>Fuel_Type</th>\n",
       "      <th>Fuel_Capacity</th>\n",
       "    </tr>\n",
       "  </thead>\n",
       "  <tbody>\n",
       "    <tr>\n",
       "      <th>0</th>\n",
       "      <td>Kia Morning MT</td>\n",
       "      <td>Kia</td>\n",
       "      <td>Lap rap</td>\n",
       "      <td>Hatchback</td>\n",
       "      <td>5</td>\n",
       "      <td>1250</td>\n",
       "      <td>So san</td>\n",
       "      <td>FWD</td>\n",
       "      <td>Xang</td>\n",
       "      <td>35</td>\n",
       "    </tr>\n",
       "    <tr>\n",
       "      <th>1</th>\n",
       "      <td>Suzuki Celerio MT</td>\n",
       "      <td>Suzuki</td>\n",
       "      <td>Nhap khau</td>\n",
       "      <td>Hatchback</td>\n",
       "      <td>5</td>\n",
       "      <td>1000</td>\n",
       "      <td>So san</td>\n",
       "      <td>2WD</td>\n",
       "      <td>Xang</td>\n",
       "      <td>35</td>\n",
       "    </tr>\n",
       "    <tr>\n",
       "      <th>2</th>\n",
       "      <td>Kia Morning AT</td>\n",
       "      <td>Kia</td>\n",
       "      <td>Lap rap</td>\n",
       "      <td>Hatchback</td>\n",
       "      <td>5</td>\n",
       "      <td>1250</td>\n",
       "      <td>Tu dong</td>\n",
       "      <td>FWD</td>\n",
       "      <td>Xang</td>\n",
       "      <td>35</td>\n",
       "    </tr>\n",
       "    <tr>\n",
       "      <th>3</th>\n",
       "      <td>Toyota Wigo 1.2 G MT</td>\n",
       "      <td>Toyota</td>\n",
       "      <td>Nhap khau</td>\n",
       "      <td>Hatchback</td>\n",
       "      <td>5</td>\n",
       "      <td>1200</td>\n",
       "      <td>So san</td>\n",
       "      <td>FWD</td>\n",
       "      <td>Xang</td>\n",
       "      <td>33</td>\n",
       "    </tr>\n",
       "    <tr>\n",
       "      <th>4</th>\n",
       "      <td>Suzuki Celerio CVT</td>\n",
       "      <td>Suzuki</td>\n",
       "      <td>Nhap khau</td>\n",
       "      <td>Hatchback</td>\n",
       "      <td>5</td>\n",
       "      <td>1000</td>\n",
       "      <td>Vo cap CVT</td>\n",
       "      <td>2WD</td>\n",
       "      <td>Xang</td>\n",
       "      <td>35</td>\n",
       "    </tr>\n",
       "  </tbody>\n",
       "</table>\n",
       "</div>"
      ],
      "text/plain": [
       "                   Name Manufacturer     Origin  Body_Type  Seating_Capacity  \\\n",
       "0        Kia Morning MT          Kia    Lap rap  Hatchback                 5   \n",
       "1     Suzuki Celerio MT       Suzuki  Nhap khau  Hatchback                 5   \n",
       "2        Kia Morning AT          Kia    Lap rap  Hatchback                 5   \n",
       "3  Toyota Wigo 1.2 G MT       Toyota  Nhap khau  Hatchback                 5   \n",
       "4    Suzuki Celerio CVT       Suzuki  Nhap khau  Hatchback                 5   \n",
       "\n",
       "   Engine Transmission Drive Fuel_Type  Fuel_Capacity  \n",
       "0    1250       So san   FWD      Xang             35  \n",
       "1    1000       So san   2WD      Xang             35  \n",
       "2    1250      Tu dong   FWD      Xang             35  \n",
       "3    1200       So san   FWD      Xang             33  \n",
       "4    1000   Vo cap CVT   2WD      Xang             35  "
      ]
     },
     "execution_count": 846,
     "metadata": {},
     "output_type": "execute_result"
    }
   ],
   "source": [
    "df_newcar_inf.head()"
   ]
  },
  {
   "cell_type": "markdown",
   "metadata": {},
   "source": [
    "## Bonbanh.com"
   ]
  },
  {
   "cell_type": "code",
   "execution_count": 847,
   "metadata": {},
   "outputs": [
    {
     "name": "stdout",
     "output_type": "stream",
     "text": [
      "<class 'pandas.core.frame.DataFrame'>\n",
      "RangeIndex: 5440 entries, 0 to 5439\n",
      "Data columns (total 14 columns):\n",
      " #   Column       Non-Null Count  Dtype \n",
      "---  ------       --------------  ----- \n",
      " 0   name         5440 non-null   object\n",
      " 1   Price        5440 non-null   object\n",
      " 2   SellDate     5440 non-null   object\n",
      " 3   Date         5440 non-null   object\n",
      " 4   Condition    5440 non-null   object\n",
      " 5   Mileage      5440 non-null   object\n",
      " 6   Origin       5440 non-null   object\n",
      " 7   BodyType     5440 non-null   object\n",
      " 8   EngineType   5440 non-null   object\n",
      " 9   Color        5440 non-null   object\n",
      " 10  ColorInside  5440 non-null   object\n",
      " 11  Seats        5440 non-null   object\n",
      " 12  Doors        5440 non-null   object\n",
      " 13  City         5440 non-null   object\n",
      "dtypes: object(14)\n",
      "memory usage: 595.1+ KB\n"
     ]
    }
   ],
   "source": [
    "df_bonbanh_inf.info()"
   ]
  },
  {
   "cell_type": "markdown",
   "metadata": {},
   "source": [
    "### Replace None"
   ]
  },
  {
   "cell_type": "code",
   "execution_count": 848,
   "metadata": {},
   "outputs": [
    {
     "name": "stdout",
     "output_type": "stream",
     "text": [
      "<class 'pandas.core.frame.DataFrame'>\n",
      "RangeIndex: 5440 entries, 0 to 5439\n",
      "Data columns (total 14 columns):\n",
      " #   Column       Non-Null Count  Dtype \n",
      "---  ------       --------------  ----- \n",
      " 0   name         5440 non-null   object\n",
      " 1   Price        5440 non-null   object\n",
      " 2   SellDate     5440 non-null   object\n",
      " 3   Date         5440 non-null   object\n",
      " 4   Condition    5440 non-null   object\n",
      " 5   Mileage      5440 non-null   object\n",
      " 6   Origin       5440 non-null   object\n",
      " 7   BodyType     5440 non-null   object\n",
      " 8   EngineType   5440 non-null   object\n",
      " 9   Color        5436 non-null   object\n",
      " 10  ColorInside  5377 non-null   object\n",
      " 11  Seats        5440 non-null   object\n",
      " 12  Doors        5360 non-null   object\n",
      " 13  City         5440 non-null   object\n",
      "dtypes: object(14)\n",
      "memory usage: 595.1+ KB\n"
     ]
    }
   ],
   "source": [
    "df_bonbanh_inf.replace({'-': np.nan, 'None': np.nan}, inplace=True)\n",
    "df_bonbanh_inf.info()"
   ]
  },
  {
   "cell_type": "markdown",
   "metadata": {},
   "source": [
    "### Condition   "
   ]
  },
  {
   "cell_type": "code",
   "execution_count": 849,
   "metadata": {},
   "outputs": [
    {
     "data": {
      "text/plain": [
       "array(['Xe da dung', 'Xe moi'], dtype=object)"
      ]
     },
     "execution_count": 849,
     "metadata": {},
     "output_type": "execute_result"
    }
   ],
   "source": [
    "df_bonbanh_inf['Condition'].unique()"
   ]
  },
  {
   "cell_type": "code",
   "execution_count": 850,
   "metadata": {},
   "outputs": [
    {
     "name": "stderr",
     "output_type": "stream",
     "text": [
      "C:\\Users\\Admin\\AppData\\Local\\Temp\\ipykernel_26584\\1946601528.py:2: SettingWithCopyWarning: \n",
      "A value is trying to be set on a copy of a slice from a DataFrame\n",
      "\n",
      "See the caveats in the documentation: https://pandas.pydata.org/pandas-docs/stable/user_guide/indexing.html#returning-a-view-versus-a-copy\n",
      "  df_bonbanh_inf.drop(columns=['Condition'], inplace=True)\n"
     ]
    }
   ],
   "source": [
    "df_bonbanh_inf = df_bonbanh_inf[df_bonbanh_inf['Condition'] != 'Xe moi']\n",
    "df_bonbanh_inf.drop(columns=['Condition'], inplace=True)"
   ]
  },
  {
   "cell_type": "code",
   "execution_count": 851,
   "metadata": {},
   "outputs": [
    {
     "name": "stdout",
     "output_type": "stream",
     "text": [
      "<class 'pandas.core.frame.DataFrame'>\n",
      "Index: 5360 entries, 0 to 5439\n",
      "Data columns (total 13 columns):\n",
      " #   Column       Non-Null Count  Dtype \n",
      "---  ------       --------------  ----- \n",
      " 0   name         5360 non-null   object\n",
      " 1   Price        5360 non-null   object\n",
      " 2   SellDate     5360 non-null   object\n",
      " 3   Date         5360 non-null   object\n",
      " 4   Mileage      5360 non-null   object\n",
      " 5   Origin       5360 non-null   object\n",
      " 6   BodyType     5360 non-null   object\n",
      " 7   EngineType   5360 non-null   object\n",
      " 8   Color        5359 non-null   object\n",
      " 9   ColorInside  5297 non-null   object\n",
      " 10  Seats        5360 non-null   object\n",
      " 11  Doors        5360 non-null   object\n",
      " 12  City         5360 non-null   object\n",
      "dtypes: object(13)\n",
      "memory usage: 586.2+ KB\n"
     ]
    }
   ],
   "source": [
    "df_bonbanh_inf.info()"
   ]
  },
  {
   "cell_type": "markdown",
   "metadata": {},
   "source": [
    "### Name"
   ]
  },
  {
   "cell_type": "markdown",
   "metadata": {},
   "source": [
    "#### Checking\n"
   ]
  },
  {
   "cell_type": "code",
   "execution_count": 852,
   "metadata": {},
   "outputs": [
    {
     "name": "stdout",
     "output_type": "stream",
     "text": [
      "False\n"
     ]
    },
    {
     "data": {
      "text/plain": [
       "array(['2022', '2021', '2019', '2018', '2014', '2016', '2020', '2013',\n",
       "       '2023', '2010', '2024', '2017', '2012', '2015', '2009', '2006',\n",
       "       '2004', '4 AT'], dtype=object)"
      ]
     },
     "execution_count": 852,
     "metadata": {},
     "output_type": "execute_result"
    }
   ],
   "source": [
    "filtered_cars = df_bonbanh_inf['name'].apply(lambda x: x.split(\" - \")[0].strip()[-4:])\n",
    "print(filtered_cars.apply(lambda x: x.isdigit()).all())\n",
    "filtered_cars.unique()"
   ]
  },
  {
   "cell_type": "code",
   "execution_count": 853,
   "metadata": {},
   "outputs": [
    {
     "name": "stdout",
     "output_type": "stream",
     "text": [
      "                                           name  year  is_valid_year\n",
      "345   Xe Honda CRV 2.4 AT - TG 2016 - 585 Trieu  4 AT          False\n",
      "752   Xe Honda CRV 2.4 AT - TG 2016 - 568 Trieu  4 AT          False\n",
      "2585  Xe Honda CRV 2.4 AT - TG 2017 - 605 Trieu  4 AT          False\n",
      "2592  Xe Honda CRV 2.4 AT - TG 2017 - 619 Trieu  4 AT          False\n",
      "3717  Xe Honda CRV 2.4 AT - TG 2017 - 635 Trieu  4 AT          False\n",
      "3786  Xe Honda CRV 2.4 AT - TG 2017 - 595 Trieu  4 AT          False\n",
      "5186  Xe Honda CRV 2.4 AT - TG 2017 - 625 Trieu  4 AT          False\n"
     ]
    }
   ],
   "source": [
    "filtered_cars = df_bonbanh_inf[['name']].copy()\n",
    "\n",
    "filtered_cars['year'] = filtered_cars['name'].apply(lambda x: x.split(\" - \")[0].strip()[-4:])\n",
    "filtered_cars['is_valid_year'] = filtered_cars['year'].apply(lambda x: x.isdigit())\n",
    "\n",
    "invalid_years = filtered_cars[~filtered_cars['is_valid_year']]\n",
    "\n",
    "print(invalid_years)"
   ]
  },
  {
   "cell_type": "markdown",
   "metadata": {},
   "source": [
    "#### Formating name"
   ]
  },
  {
   "cell_type": "code",
   "execution_count": 854,
   "metadata": {},
   "outputs": [],
   "source": [
    "def extract_car_name(car_info):\n",
    "    if car_info == 'Honda CRV 2.4 AT':\n",
    "        return 'Xe Honda CRV 2.4'\n",
    "    name_with_year = car_info.split(\" - \")[0].strip()\n",
    "    return name_with_year[:-5].strip()"
   ]
  },
  {
   "cell_type": "code",
   "execution_count": 855,
   "metadata": {},
   "outputs": [
    {
     "name": "stderr",
     "output_type": "stream",
     "text": [
      "C:\\Users\\Admin\\AppData\\Local\\Temp\\ipykernel_26584\\2417567429.py:1: SettingWithCopyWarning: \n",
      "A value is trying to be set on a copy of a slice from a DataFrame.\n",
      "Try using .loc[row_indexer,col_indexer] = value instead\n",
      "\n",
      "See the caveats in the documentation: https://pandas.pydata.org/pandas-docs/stable/user_guide/indexing.html#returning-a-view-versus-a-copy\n",
      "  df_bonbanh_inf['name'] = df_bonbanh_inf['name'].apply(lambda x: x.replace(\"Xe \", \"\"))\n",
      "C:\\Users\\Admin\\AppData\\Local\\Temp\\ipykernel_26584\\2417567429.py:2: SettingWithCopyWarning: \n",
      "A value is trying to be set on a copy of a slice from a DataFrame.\n",
      "Try using .loc[row_indexer,col_indexer] = value instead\n",
      "\n",
      "See the caveats in the documentation: https://pandas.pydata.org/pandas-docs/stable/user_guide/indexing.html#returning-a-view-versus-a-copy\n",
      "  df_bonbanh_inf['name'] = df_bonbanh_inf['name'].apply(extract_car_name)\n"
     ]
    },
    {
     "data": {
      "text/html": [
       "<div>\n",
       "<style scoped>\n",
       "    .dataframe tbody tr th:only-of-type {\n",
       "        vertical-align: middle;\n",
       "    }\n",
       "\n",
       "    .dataframe tbody tr th {\n",
       "        vertical-align: top;\n",
       "    }\n",
       "\n",
       "    .dataframe thead th {\n",
       "        text-align: right;\n",
       "    }\n",
       "</style>\n",
       "<table border=\"1\" class=\"dataframe\">\n",
       "  <thead>\n",
       "    <tr style=\"text-align: right;\">\n",
       "      <th></th>\n",
       "      <th>name</th>\n",
       "      <th>Price</th>\n",
       "      <th>SellDate</th>\n",
       "      <th>Date</th>\n",
       "      <th>Mileage</th>\n",
       "      <th>Origin</th>\n",
       "      <th>BodyType</th>\n",
       "      <th>EngineType</th>\n",
       "      <th>Color</th>\n",
       "      <th>ColorInside</th>\n",
       "      <th>Seats</th>\n",
       "      <th>Doors</th>\n",
       "      <th>City</th>\n",
       "    </tr>\n",
       "  </thead>\n",
       "  <tbody>\n",
       "    <tr>\n",
       "      <th>0</th>\n",
       "      <td>Hyundai Accent 1.4 AT Dac Biet</td>\n",
       "      <td>465 Trieu</td>\n",
       "      <td>4/11/2024</td>\n",
       "      <td>2022</td>\n",
       "      <td>31,000 Km</td>\n",
       "      <td>Lap rap trong nuoc</td>\n",
       "      <td>Sedan</td>\n",
       "      <td>Xang 1.4 L</td>\n",
       "      <td>Cat</td>\n",
       "      <td>Kem</td>\n",
       "      <td>5 cho</td>\n",
       "      <td>4 cua</td>\n",
       "      <td>Ha Noi</td>\n",
       "    </tr>\n",
       "    <tr>\n",
       "      <th>1</th>\n",
       "      <td>Hyundai Accent 1.4 AT Dac Biet</td>\n",
       "      <td>465 Trieu</td>\n",
       "      <td>4/11/2024</td>\n",
       "      <td>2022</td>\n",
       "      <td>31,000 Km</td>\n",
       "      <td>Lap rap trong nuoc</td>\n",
       "      <td>Sedan</td>\n",
       "      <td>Xang 1.4 L</td>\n",
       "      <td>Cat</td>\n",
       "      <td>Kem</td>\n",
       "      <td>5 cho</td>\n",
       "      <td>4 cua</td>\n",
       "      <td>Ha Noi</td>\n",
       "    </tr>\n",
       "    <tr>\n",
       "      <th>2</th>\n",
       "      <td>Hyundai SantaFe Cao cap 2.2L HTRAC</td>\n",
       "      <td>1 Ty 90 Trieu</td>\n",
       "      <td>4/11/2024</td>\n",
       "      <td>2021</td>\n",
       "      <td>47,000 Km</td>\n",
       "      <td>Lap rap trong nuoc</td>\n",
       "      <td>SUV</td>\n",
       "      <td>Dau 2.2 L</td>\n",
       "      <td>Trang</td>\n",
       "      <td>Nau</td>\n",
       "      <td>7 cho</td>\n",
       "      <td>5 cua</td>\n",
       "      <td>Ha Noi</td>\n",
       "    </tr>\n",
       "    <tr>\n",
       "      <th>3</th>\n",
       "      <td>Hyundai SantaFe Cao cap 2.2L HTRAC</td>\n",
       "      <td>1 Ty 90 Trieu</td>\n",
       "      <td>4/11/2024</td>\n",
       "      <td>2021</td>\n",
       "      <td>47,000 Km</td>\n",
       "      <td>Lap rap trong nuoc</td>\n",
       "      <td>SUV</td>\n",
       "      <td>Dau 2.2 L</td>\n",
       "      <td>Trang</td>\n",
       "      <td>Nau</td>\n",
       "      <td>7 cho</td>\n",
       "      <td>5 cua</td>\n",
       "      <td>TP HCM</td>\n",
       "    </tr>\n",
       "    <tr>\n",
       "      <th>4</th>\n",
       "      <td>MG 5 Standard 1.5 AT</td>\n",
       "      <td>410 Trieu</td>\n",
       "      <td>4/11/2024</td>\n",
       "      <td>2022</td>\n",
       "      <td>25,000 Km</td>\n",
       "      <td>Nhap khau</td>\n",
       "      <td>Sedan</td>\n",
       "      <td>Xang 1.5 L</td>\n",
       "      <td>Den</td>\n",
       "      <td>Den</td>\n",
       "      <td>5 cho</td>\n",
       "      <td>4 cua</td>\n",
       "      <td>TP HCM</td>\n",
       "    </tr>\n",
       "    <tr>\n",
       "      <th>5</th>\n",
       "      <td>MG 5 Standard 1.5 AT</td>\n",
       "      <td>410 Trieu</td>\n",
       "      <td>4/11/2024</td>\n",
       "      <td>2022</td>\n",
       "      <td>25,000 Km</td>\n",
       "      <td>Nhap khau</td>\n",
       "      <td>Sedan</td>\n",
       "      <td>Xang 1.5 L</td>\n",
       "      <td>Den</td>\n",
       "      <td>Den</td>\n",
       "      <td>5 cho</td>\n",
       "      <td>4 cua</td>\n",
       "      <td>Hai Phong</td>\n",
       "    </tr>\n",
       "    <tr>\n",
       "      <th>12</th>\n",
       "      <td>Hyundai Accent 1.4 AT Dac Biet</td>\n",
       "      <td>465 Trieu</td>\n",
       "      <td>4/11/2024</td>\n",
       "      <td>2022</td>\n",
       "      <td>31,000 Km</td>\n",
       "      <td>Lap rap trong nuoc</td>\n",
       "      <td>Sedan</td>\n",
       "      <td>Xang 1.4 L</td>\n",
       "      <td>Cat</td>\n",
       "      <td>Kem</td>\n",
       "      <td>5 cho</td>\n",
       "      <td>4 cua</td>\n",
       "      <td>Ha Noi</td>\n",
       "    </tr>\n",
       "    <tr>\n",
       "      <th>13</th>\n",
       "      <td>Hyundai Accent 1.4 AT Dac Biet</td>\n",
       "      <td>465 Trieu</td>\n",
       "      <td>4/11/2024</td>\n",
       "      <td>2022</td>\n",
       "      <td>31,000 Km</td>\n",
       "      <td>Lap rap trong nuoc</td>\n",
       "      <td>Sedan</td>\n",
       "      <td>Xang 1.4 L</td>\n",
       "      <td>Cat</td>\n",
       "      <td>Kem</td>\n",
       "      <td>5 cho</td>\n",
       "      <td>4 cua</td>\n",
       "      <td>Ha Noi</td>\n",
       "    </tr>\n",
       "    <tr>\n",
       "      <th>14</th>\n",
       "      <td>Toyota Innova 2.0E</td>\n",
       "      <td>530 Trieu</td>\n",
       "      <td>4/11/2024</td>\n",
       "      <td>2019</td>\n",
       "      <td>60,800 Km</td>\n",
       "      <td>Lap rap trong nuoc</td>\n",
       "      <td>Crossover</td>\n",
       "      <td>Xang 2.0 L</td>\n",
       "      <td>Bac</td>\n",
       "      <td>Cam</td>\n",
       "      <td>8 cho</td>\n",
       "      <td>5 cua</td>\n",
       "      <td>Dak Lak</td>\n",
       "    </tr>\n",
       "    <tr>\n",
       "      <th>15</th>\n",
       "      <td>Toyota Innova 2.0E</td>\n",
       "      <td>530 Trieu</td>\n",
       "      <td>4/11/2024</td>\n",
       "      <td>2019</td>\n",
       "      <td>60,800 Km</td>\n",
       "      <td>Lap rap trong nuoc</td>\n",
       "      <td>Crossover</td>\n",
       "      <td>Xang 2.0 L</td>\n",
       "      <td>Bac</td>\n",
       "      <td>Cam</td>\n",
       "      <td>8 cho</td>\n",
       "      <td>5 cua</td>\n",
       "      <td>Ha Noi</td>\n",
       "    </tr>\n",
       "  </tbody>\n",
       "</table>\n",
       "</div>"
      ],
      "text/plain": [
       "                                  name          Price   SellDate  Date  \\\n",
       "0       Hyundai Accent 1.4 AT Dac Biet      465 Trieu  4/11/2024  2022   \n",
       "1       Hyundai Accent 1.4 AT Dac Biet      465 Trieu  4/11/2024  2022   \n",
       "2   Hyundai SantaFe Cao cap 2.2L HTRAC  1 Ty 90 Trieu  4/11/2024  2021   \n",
       "3   Hyundai SantaFe Cao cap 2.2L HTRAC  1 Ty 90 Trieu  4/11/2024  2021   \n",
       "4                 MG 5 Standard 1.5 AT      410 Trieu  4/11/2024  2022   \n",
       "5                 MG 5 Standard 1.5 AT      410 Trieu  4/11/2024  2022   \n",
       "12      Hyundai Accent 1.4 AT Dac Biet      465 Trieu  4/11/2024  2022   \n",
       "13      Hyundai Accent 1.4 AT Dac Biet      465 Trieu  4/11/2024  2022   \n",
       "14                  Toyota Innova 2.0E      530 Trieu  4/11/2024  2019   \n",
       "15                  Toyota Innova 2.0E      530 Trieu  4/11/2024  2019   \n",
       "\n",
       "      Mileage              Origin   BodyType  EngineType  Color ColorInside  \\\n",
       "0   31,000 Km  Lap rap trong nuoc      Sedan  Xang 1.4 L    Cat         Kem   \n",
       "1   31,000 Km  Lap rap trong nuoc      Sedan  Xang 1.4 L    Cat         Kem   \n",
       "2   47,000 Km  Lap rap trong nuoc        SUV   Dau 2.2 L  Trang         Nau   \n",
       "3   47,000 Km  Lap rap trong nuoc        SUV   Dau 2.2 L  Trang         Nau   \n",
       "4   25,000 Km           Nhap khau      Sedan  Xang 1.5 L    Den         Den   \n",
       "5   25,000 Km           Nhap khau      Sedan  Xang 1.5 L    Den         Den   \n",
       "12  31,000 Km  Lap rap trong nuoc      Sedan  Xang 1.4 L    Cat         Kem   \n",
       "13  31,000 Km  Lap rap trong nuoc      Sedan  Xang 1.4 L    Cat         Kem   \n",
       "14  60,800 Km  Lap rap trong nuoc  Crossover  Xang 2.0 L    Bac         Cam   \n",
       "15  60,800 Km  Lap rap trong nuoc  Crossover  Xang 2.0 L    Bac         Cam   \n",
       "\n",
       "    Seats  Doors       City  \n",
       "0   5 cho  4 cua     Ha Noi  \n",
       "1   5 cho  4 cua     Ha Noi  \n",
       "2   7 cho  5 cua     Ha Noi  \n",
       "3   7 cho  5 cua     TP HCM  \n",
       "4   5 cho  4 cua     TP HCM  \n",
       "5   5 cho  4 cua  Hai Phong  \n",
       "12  5 cho  4 cua     Ha Noi  \n",
       "13  5 cho  4 cua     Ha Noi  \n",
       "14  8 cho  5 cua    Dak Lak  \n",
       "15  8 cho  5 cua     Ha Noi  "
      ]
     },
     "execution_count": 855,
     "metadata": {},
     "output_type": "execute_result"
    }
   ],
   "source": [
    "df_bonbanh_inf['name'] = df_bonbanh_inf['name'].apply(lambda x: x.replace(\"Xe \", \"\"))\n",
    "df_bonbanh_inf['name'] = df_bonbanh_inf['name'].apply(extract_car_name)\n",
    "df_bonbanh_inf.head(10)"
   ]
  },
  {
   "cell_type": "code",
   "execution_count": 856,
   "metadata": {},
   "outputs": [
    {
     "name": "stdout",
     "output_type": "stream",
     "text": [
      "                  name      Price   SellDate  Date    Mileage  \\\n",
      "850   Honda CRV 2.4 AT  495 Trieu  4/11/2024  2014  93,000 Km   \n",
      "1250  Honda CRV 2.4 AT  575 Trieu  4/11/2024  2015  60,000 Km   \n",
      "1838  Honda CRV 2.4 AT  620 Trieu  4/11/2024  2016  50,000 Km   \n",
      "2662  Honda CRV 2.4 AT  555 Trieu  4/11/2024  2015  95,000 Km   \n",
      "3128  Honda CRV 2.4 AT  548 Trieu  4/11/2024  2016  82,000 Km   \n",
      "3441  Honda CRV 2.4 AT  526 Trieu  4/11/2024  2015       0 Km   \n",
      "3527  Honda CRV 2.4 AT  590 Trieu  4/11/2024  2016  85,000 Km   \n",
      "3787  Honda CRV 2.4 AT  462 Trieu  4/11/2024  2014  90,000 Km   \n",
      "\n",
      "                  Origin BodyType  EngineType  Color ColorInside  Seats  \\\n",
      "850   Lap rap trong nuoc      SUV  Xang 2.4 L    Nau         Den  5 cho   \n",
      "1250  Lap rap trong nuoc      SUV  Xang 2.4 L  Trang         Den  5 cho   \n",
      "1838  Lap rap trong nuoc      SUV  Xang 2.4 L  Trang         Den  5 cho   \n",
      "2662  Lap rap trong nuoc      SUV  Xang 2.4 L    Bac         Den  5 cho   \n",
      "3128  Lap rap trong nuoc      SUV  Xang 2.4 L    Nau         Den  5 cho   \n",
      "3441  Lap rap trong nuoc      SUV  Xang 2.4 L    Nau         Den  5 cho   \n",
      "3527  Lap rap trong nuoc      SUV  Xang 2.4 L  Trang         Den  5 cho   \n",
      "3787  Lap rap trong nuoc      SUV  Xang 2.4 L    Nau         Den  5 cho   \n",
      "\n",
      "      Doors    City  \n",
      "850   5 cua  Ha Noi  \n",
      "1250  5 cua  Ha Noi  \n",
      "1838  5 cua  Ha Noi  \n",
      "2662  5 cua  Ha Noi  \n",
      "3128  5 cua  Ha Noi  \n",
      "3441  5 cua  Ha Noi  \n",
      "3527  5 cua  Ha Noi  \n",
      "3787  5 cua  Ha Noi  \n"
     ]
    }
   ],
   "source": [
    "filtered_data = df_bonbanh_inf[df_bonbanh_inf['name'].str.contains('Honda CRV 2.4 AT', case=False)]\n",
    "\n",
    "print(filtered_data)"
   ]
  },
  {
   "cell_type": "markdown",
   "metadata": {},
   "source": [
    "### Price"
   ]
  },
  {
   "cell_type": "code",
   "execution_count": 857,
   "metadata": {},
   "outputs": [
    {
     "data": {
      "text/plain": [
       "array(['465 Trieu', '1 Ty 90 Trieu', '410 Trieu', ..., '1 Ty 925 Trieu',\n",
       "       '6 Ty 300 Trieu', '2 Ty 298 Trieu'], dtype=object)"
      ]
     },
     "execution_count": 857,
     "metadata": {},
     "output_type": "execute_result"
    }
   ],
   "source": [
    "df_bonbanh_inf['Price'].unique()"
   ]
  },
  {
   "cell_type": "code",
   "execution_count": 858,
   "metadata": {},
   "outputs": [
    {
     "data": {
      "text/html": [
       "<div>\n",
       "<style scoped>\n",
       "    .dataframe tbody tr th:only-of-type {\n",
       "        vertical-align: middle;\n",
       "    }\n",
       "\n",
       "    .dataframe tbody tr th {\n",
       "        vertical-align: top;\n",
       "    }\n",
       "\n",
       "    .dataframe thead th {\n",
       "        text-align: right;\n",
       "    }\n",
       "</style>\n",
       "<table border=\"1\" class=\"dataframe\">\n",
       "  <thead>\n",
       "    <tr style=\"text-align: right;\">\n",
       "      <th></th>\n",
       "      <th>name</th>\n",
       "      <th>Price</th>\n",
       "      <th>SellDate</th>\n",
       "      <th>Date</th>\n",
       "      <th>Mileage</th>\n",
       "      <th>Origin</th>\n",
       "      <th>BodyType</th>\n",
       "      <th>EngineType</th>\n",
       "      <th>Color</th>\n",
       "      <th>ColorInside</th>\n",
       "      <th>Seats</th>\n",
       "      <th>Doors</th>\n",
       "      <th>City</th>\n",
       "    </tr>\n",
       "  </thead>\n",
       "  <tbody>\n",
       "  </tbody>\n",
       "</table>\n",
       "</div>"
      ],
      "text/plain": [
       "Empty DataFrame\n",
       "Columns: [name, Price, SellDate, Date, Mileage, Origin, BodyType, EngineType, Color, ColorInside, Seats, Doors, City]\n",
       "Index: []"
      ]
     },
     "execution_count": 858,
     "metadata": {},
     "output_type": "execute_result"
    }
   ],
   "source": [
    "filtered_df = df_bonbanh_inf[df_bonbanh_inf['Price'].isin(['Ha Noi', 'Dak Lak', 'TP HCM', 'Hai Phong'])]\n",
    "\n",
    "filtered_df.head()"
   ]
  },
  {
   "cell_type": "code",
   "execution_count": 859,
   "metadata": {},
   "outputs": [
    {
     "name": "stderr",
     "output_type": "stream",
     "text": [
      "C:\\Users\\Admin\\AppData\\Local\\Temp\\ipykernel_26584\\2514178514.py:17: SettingWithCopyWarning: \n",
      "A value is trying to be set on a copy of a slice from a DataFrame.\n",
      "Try using .loc[row_indexer,col_indexer] = value instead\n",
      "\n",
      "See the caveats in the documentation: https://pandas.pydata.org/pandas-docs/stable/user_guide/indexing.html#returning-a-view-versus-a-copy\n",
      "  df_bonbanh_inf['Price'] = df_bonbanh_inf['Price'].apply(convert_price_to_number)\n"
     ]
    },
    {
     "data": {
      "text/html": [
       "<div>\n",
       "<style scoped>\n",
       "    .dataframe tbody tr th:only-of-type {\n",
       "        vertical-align: middle;\n",
       "    }\n",
       "\n",
       "    .dataframe tbody tr th {\n",
       "        vertical-align: top;\n",
       "    }\n",
       "\n",
       "    .dataframe thead th {\n",
       "        text-align: right;\n",
       "    }\n",
       "</style>\n",
       "<table border=\"1\" class=\"dataframe\">\n",
       "  <thead>\n",
       "    <tr style=\"text-align: right;\">\n",
       "      <th></th>\n",
       "      <th>name</th>\n",
       "      <th>Price</th>\n",
       "      <th>SellDate</th>\n",
       "      <th>Date</th>\n",
       "      <th>Mileage</th>\n",
       "      <th>Origin</th>\n",
       "      <th>BodyType</th>\n",
       "      <th>EngineType</th>\n",
       "      <th>Color</th>\n",
       "      <th>ColorInside</th>\n",
       "      <th>Seats</th>\n",
       "      <th>Doors</th>\n",
       "      <th>City</th>\n",
       "    </tr>\n",
       "  </thead>\n",
       "  <tbody>\n",
       "    <tr>\n",
       "      <th>0</th>\n",
       "      <td>Hyundai Accent 1.4 AT Dac Biet</td>\n",
       "      <td>465</td>\n",
       "      <td>4/11/2024</td>\n",
       "      <td>2022</td>\n",
       "      <td>31,000 Km</td>\n",
       "      <td>Lap rap trong nuoc</td>\n",
       "      <td>Sedan</td>\n",
       "      <td>Xang 1.4 L</td>\n",
       "      <td>Cat</td>\n",
       "      <td>Kem</td>\n",
       "      <td>5 cho</td>\n",
       "      <td>4 cua</td>\n",
       "      <td>Ha Noi</td>\n",
       "    </tr>\n",
       "    <tr>\n",
       "      <th>1</th>\n",
       "      <td>Hyundai Accent 1.4 AT Dac Biet</td>\n",
       "      <td>465</td>\n",
       "      <td>4/11/2024</td>\n",
       "      <td>2022</td>\n",
       "      <td>31,000 Km</td>\n",
       "      <td>Lap rap trong nuoc</td>\n",
       "      <td>Sedan</td>\n",
       "      <td>Xang 1.4 L</td>\n",
       "      <td>Cat</td>\n",
       "      <td>Kem</td>\n",
       "      <td>5 cho</td>\n",
       "      <td>4 cua</td>\n",
       "      <td>Ha Noi</td>\n",
       "    </tr>\n",
       "    <tr>\n",
       "      <th>2</th>\n",
       "      <td>Hyundai SantaFe Cao cap 2.2L HTRAC</td>\n",
       "      <td>1090</td>\n",
       "      <td>4/11/2024</td>\n",
       "      <td>2021</td>\n",
       "      <td>47,000 Km</td>\n",
       "      <td>Lap rap trong nuoc</td>\n",
       "      <td>SUV</td>\n",
       "      <td>Dau 2.2 L</td>\n",
       "      <td>Trang</td>\n",
       "      <td>Nau</td>\n",
       "      <td>7 cho</td>\n",
       "      <td>5 cua</td>\n",
       "      <td>Ha Noi</td>\n",
       "    </tr>\n",
       "    <tr>\n",
       "      <th>3</th>\n",
       "      <td>Hyundai SantaFe Cao cap 2.2L HTRAC</td>\n",
       "      <td>1090</td>\n",
       "      <td>4/11/2024</td>\n",
       "      <td>2021</td>\n",
       "      <td>47,000 Km</td>\n",
       "      <td>Lap rap trong nuoc</td>\n",
       "      <td>SUV</td>\n",
       "      <td>Dau 2.2 L</td>\n",
       "      <td>Trang</td>\n",
       "      <td>Nau</td>\n",
       "      <td>7 cho</td>\n",
       "      <td>5 cua</td>\n",
       "      <td>TP HCM</td>\n",
       "    </tr>\n",
       "    <tr>\n",
       "      <th>4</th>\n",
       "      <td>MG 5 Standard 1.5 AT</td>\n",
       "      <td>410</td>\n",
       "      <td>4/11/2024</td>\n",
       "      <td>2022</td>\n",
       "      <td>25,000 Km</td>\n",
       "      <td>Nhap khau</td>\n",
       "      <td>Sedan</td>\n",
       "      <td>Xang 1.5 L</td>\n",
       "      <td>Den</td>\n",
       "      <td>Den</td>\n",
       "      <td>5 cho</td>\n",
       "      <td>4 cua</td>\n",
       "      <td>TP HCM</td>\n",
       "    </tr>\n",
       "    <tr>\n",
       "      <th>5</th>\n",
       "      <td>MG 5 Standard 1.5 AT</td>\n",
       "      <td>410</td>\n",
       "      <td>4/11/2024</td>\n",
       "      <td>2022</td>\n",
       "      <td>25,000 Km</td>\n",
       "      <td>Nhap khau</td>\n",
       "      <td>Sedan</td>\n",
       "      <td>Xang 1.5 L</td>\n",
       "      <td>Den</td>\n",
       "      <td>Den</td>\n",
       "      <td>5 cho</td>\n",
       "      <td>4 cua</td>\n",
       "      <td>Hai Phong</td>\n",
       "    </tr>\n",
       "    <tr>\n",
       "      <th>12</th>\n",
       "      <td>Hyundai Accent 1.4 AT Dac Biet</td>\n",
       "      <td>465</td>\n",
       "      <td>4/11/2024</td>\n",
       "      <td>2022</td>\n",
       "      <td>31,000 Km</td>\n",
       "      <td>Lap rap trong nuoc</td>\n",
       "      <td>Sedan</td>\n",
       "      <td>Xang 1.4 L</td>\n",
       "      <td>Cat</td>\n",
       "      <td>Kem</td>\n",
       "      <td>5 cho</td>\n",
       "      <td>4 cua</td>\n",
       "      <td>Ha Noi</td>\n",
       "    </tr>\n",
       "    <tr>\n",
       "      <th>13</th>\n",
       "      <td>Hyundai Accent 1.4 AT Dac Biet</td>\n",
       "      <td>465</td>\n",
       "      <td>4/11/2024</td>\n",
       "      <td>2022</td>\n",
       "      <td>31,000 Km</td>\n",
       "      <td>Lap rap trong nuoc</td>\n",
       "      <td>Sedan</td>\n",
       "      <td>Xang 1.4 L</td>\n",
       "      <td>Cat</td>\n",
       "      <td>Kem</td>\n",
       "      <td>5 cho</td>\n",
       "      <td>4 cua</td>\n",
       "      <td>Ha Noi</td>\n",
       "    </tr>\n",
       "    <tr>\n",
       "      <th>14</th>\n",
       "      <td>Toyota Innova 2.0E</td>\n",
       "      <td>530</td>\n",
       "      <td>4/11/2024</td>\n",
       "      <td>2019</td>\n",
       "      <td>60,800 Km</td>\n",
       "      <td>Lap rap trong nuoc</td>\n",
       "      <td>Crossover</td>\n",
       "      <td>Xang 2.0 L</td>\n",
       "      <td>Bac</td>\n",
       "      <td>Cam</td>\n",
       "      <td>8 cho</td>\n",
       "      <td>5 cua</td>\n",
       "      <td>Dak Lak</td>\n",
       "    </tr>\n",
       "    <tr>\n",
       "      <th>15</th>\n",
       "      <td>Toyota Innova 2.0E</td>\n",
       "      <td>530</td>\n",
       "      <td>4/11/2024</td>\n",
       "      <td>2019</td>\n",
       "      <td>60,800 Km</td>\n",
       "      <td>Lap rap trong nuoc</td>\n",
       "      <td>Crossover</td>\n",
       "      <td>Xang 2.0 L</td>\n",
       "      <td>Bac</td>\n",
       "      <td>Cam</td>\n",
       "      <td>8 cho</td>\n",
       "      <td>5 cua</td>\n",
       "      <td>Ha Noi</td>\n",
       "    </tr>\n",
       "  </tbody>\n",
       "</table>\n",
       "</div>"
      ],
      "text/plain": [
       "                                  name  Price   SellDate  Date    Mileage  \\\n",
       "0       Hyundai Accent 1.4 AT Dac Biet    465  4/11/2024  2022  31,000 Km   \n",
       "1       Hyundai Accent 1.4 AT Dac Biet    465  4/11/2024  2022  31,000 Km   \n",
       "2   Hyundai SantaFe Cao cap 2.2L HTRAC   1090  4/11/2024  2021  47,000 Km   \n",
       "3   Hyundai SantaFe Cao cap 2.2L HTRAC   1090  4/11/2024  2021  47,000 Km   \n",
       "4                 MG 5 Standard 1.5 AT    410  4/11/2024  2022  25,000 Km   \n",
       "5                 MG 5 Standard 1.5 AT    410  4/11/2024  2022  25,000 Km   \n",
       "12      Hyundai Accent 1.4 AT Dac Biet    465  4/11/2024  2022  31,000 Km   \n",
       "13      Hyundai Accent 1.4 AT Dac Biet    465  4/11/2024  2022  31,000 Km   \n",
       "14                  Toyota Innova 2.0E    530  4/11/2024  2019  60,800 Km   \n",
       "15                  Toyota Innova 2.0E    530  4/11/2024  2019  60,800 Km   \n",
       "\n",
       "                Origin   BodyType  EngineType  Color ColorInside  Seats  \\\n",
       "0   Lap rap trong nuoc      Sedan  Xang 1.4 L    Cat         Kem  5 cho   \n",
       "1   Lap rap trong nuoc      Sedan  Xang 1.4 L    Cat         Kem  5 cho   \n",
       "2   Lap rap trong nuoc        SUV   Dau 2.2 L  Trang         Nau  7 cho   \n",
       "3   Lap rap trong nuoc        SUV   Dau 2.2 L  Trang         Nau  7 cho   \n",
       "4            Nhap khau      Sedan  Xang 1.5 L    Den         Den  5 cho   \n",
       "5            Nhap khau      Sedan  Xang 1.5 L    Den         Den  5 cho   \n",
       "12  Lap rap trong nuoc      Sedan  Xang 1.4 L    Cat         Kem  5 cho   \n",
       "13  Lap rap trong nuoc      Sedan  Xang 1.4 L    Cat         Kem  5 cho   \n",
       "14  Lap rap trong nuoc  Crossover  Xang 2.0 L    Bac         Cam  8 cho   \n",
       "15  Lap rap trong nuoc  Crossover  Xang 2.0 L    Bac         Cam  8 cho   \n",
       "\n",
       "    Doors       City  \n",
       "0   4 cua     Ha Noi  \n",
       "1   4 cua     Ha Noi  \n",
       "2   5 cua     Ha Noi  \n",
       "3   5 cua     TP HCM  \n",
       "4   4 cua     TP HCM  \n",
       "5   4 cua  Hai Phong  \n",
       "12  4 cua     Ha Noi  \n",
       "13  4 cua     Ha Noi  \n",
       "14  5 cua    Dak Lak  \n",
       "15  5 cua     Ha Noi  "
      ]
     },
     "execution_count": 859,
     "metadata": {},
     "output_type": "execute_result"
    }
   ],
   "source": [
    "def convert_price_to_number(price_str):\n",
    "    price_str = price_str.replace(\"Trieu\", \"\").strip()\n",
    "\n",
    "    parts = price_str.split(\" \")\n",
    "\n",
    "    total = 0\n",
    "    if 'Ty' in parts:\n",
    "        if len(parts) == 2:\n",
    "            total += int(parts[0])*1000\n",
    "        else:\n",
    "            total += int(parts[0]) * 1000 + int(parts[2])\n",
    "    else:\n",
    "        total += int(parts[0])\n",
    "\n",
    "    return total\n",
    "\n",
    "df_bonbanh_inf['Price'] = df_bonbanh_inf['Price'].apply(convert_price_to_number)\n",
    "\n",
    "df_bonbanh_inf.head(10)"
   ]
  },
  {
   "cell_type": "code",
   "execution_count": 860,
   "metadata": {},
   "outputs": [
    {
     "name": "stdout",
     "output_type": "stream",
     "text": [
      "[]\n"
     ]
    }
   ],
   "source": [
    "print(df_bonbanh_inf[df_bonbanh_inf['Price'] < 100]['Price'].unique())"
   ]
  },
  {
   "cell_type": "code",
   "execution_count": 861,
   "metadata": {},
   "outputs": [
    {
     "data": {
      "text/html": [
       "<div>\n",
       "<style scoped>\n",
       "    .dataframe tbody tr th:only-of-type {\n",
       "        vertical-align: middle;\n",
       "    }\n",
       "\n",
       "    .dataframe tbody tr th {\n",
       "        vertical-align: top;\n",
       "    }\n",
       "\n",
       "    .dataframe thead th {\n",
       "        text-align: right;\n",
       "    }\n",
       "</style>\n",
       "<table border=\"1\" class=\"dataframe\">\n",
       "  <thead>\n",
       "    <tr style=\"text-align: right;\">\n",
       "      <th></th>\n",
       "      <th>name</th>\n",
       "      <th>Price</th>\n",
       "      <th>SellDate</th>\n",
       "      <th>Date</th>\n",
       "      <th>Mileage</th>\n",
       "      <th>Origin</th>\n",
       "      <th>BodyType</th>\n",
       "      <th>EngineType</th>\n",
       "      <th>Color</th>\n",
       "      <th>ColorInside</th>\n",
       "      <th>Seats</th>\n",
       "      <th>Doors</th>\n",
       "      <th>City</th>\n",
       "    </tr>\n",
       "  </thead>\n",
       "  <tbody>\n",
       "  </tbody>\n",
       "</table>\n",
       "</div>"
      ],
      "text/plain": [
       "Empty DataFrame\n",
       "Columns: [name, Price, SellDate, Date, Mileage, Origin, BodyType, EngineType, Color, ColorInside, Seats, Doors, City]\n",
       "Index: []"
      ]
     },
     "execution_count": 861,
     "metadata": {},
     "output_type": "execute_result"
    }
   ],
   "source": [
    "df_bonbanh_inf[df_bonbanh_inf['Price'] == 19]"
   ]
  },
  {
   "cell_type": "code",
   "execution_count": 862,
   "metadata": {},
   "outputs": [
    {
     "data": {
      "text/html": [
       "<div>\n",
       "<style scoped>\n",
       "    .dataframe tbody tr th:only-of-type {\n",
       "        vertical-align: middle;\n",
       "    }\n",
       "\n",
       "    .dataframe tbody tr th {\n",
       "        vertical-align: top;\n",
       "    }\n",
       "\n",
       "    .dataframe thead th {\n",
       "        text-align: right;\n",
       "    }\n",
       "</style>\n",
       "<table border=\"1\" class=\"dataframe\">\n",
       "  <thead>\n",
       "    <tr style=\"text-align: right;\">\n",
       "      <th></th>\n",
       "      <th>name</th>\n",
       "      <th>Price</th>\n",
       "      <th>SellDate</th>\n",
       "      <th>Date</th>\n",
       "      <th>Mileage</th>\n",
       "      <th>Origin</th>\n",
       "      <th>BodyType</th>\n",
       "      <th>EngineType</th>\n",
       "      <th>Color</th>\n",
       "      <th>ColorInside</th>\n",
       "      <th>Seats</th>\n",
       "      <th>Doors</th>\n",
       "      <th>City</th>\n",
       "    </tr>\n",
       "  </thead>\n",
       "  <tbody>\n",
       "  </tbody>\n",
       "</table>\n",
       "</div>"
      ],
      "text/plain": [
       "Empty DataFrame\n",
       "Columns: [name, Price, SellDate, Date, Mileage, Origin, BodyType, EngineType, Color, ColorInside, Seats, Doors, City]\n",
       "Index: []"
      ]
     },
     "execution_count": 862,
     "metadata": {},
     "output_type": "execute_result"
    }
   ],
   "source": [
    "df_bonbanh_inf[df_bonbanh_inf['Price'] == 25]"
   ]
  },
  {
   "cell_type": "markdown",
   "metadata": {},
   "source": [
    "### Year, Date, SellDate"
   ]
  },
  {
   "cell_type": "code",
   "execution_count": 863,
   "metadata": {},
   "outputs": [
    {
     "data": {
      "text/plain": [
       "array(['4/11/2024', '3/11/2024'], dtype=object)"
      ]
     },
     "execution_count": 863,
     "metadata": {},
     "output_type": "execute_result"
    }
   ],
   "source": [
    "df_bonbanh_inf['SellDate'].unique()"
   ]
  },
  {
   "cell_type": "code",
   "execution_count": 864,
   "metadata": {},
   "outputs": [
    {
     "name": "stderr",
     "output_type": "stream",
     "text": [
      "C:\\Users\\Admin\\AppData\\Local\\Temp\\ipykernel_26584\\2814589890.py:1: SettingWithCopyWarning: \n",
      "A value is trying to be set on a copy of a slice from a DataFrame.\n",
      "Try using .loc[row_indexer,col_indexer] = value instead\n",
      "\n",
      "See the caveats in the documentation: https://pandas.pydata.org/pandas-docs/stable/user_guide/indexing.html#returning-a-view-versus-a-copy\n",
      "  df_bonbanh_inf['Date'] = df_bonbanh_inf['Date'].astype(int)\n"
     ]
    },
    {
     "data": {
      "text/plain": [
       "array([2022, 2021, 2019, 2018, 2014, 2016, 2020, 2013, 2023, 2010, 2024,\n",
       "       2017, 2012, 2015, 2009, 2006, 2004])"
      ]
     },
     "execution_count": 864,
     "metadata": {},
     "output_type": "execute_result"
    }
   ],
   "source": [
    "df_bonbanh_inf['Date'] = df_bonbanh_inf['Date'].astype(int)\n",
    "df_bonbanh_inf['Date'].unique()"
   ]
  },
  {
   "cell_type": "code",
   "execution_count": 865,
   "metadata": {},
   "outputs": [],
   "source": [
    "df_bonbanh_inf = df_bonbanh_inf[df_bonbanh_inf['Date'] > 2000]"
   ]
  },
  {
   "cell_type": "code",
   "execution_count": 866,
   "metadata": {},
   "outputs": [
    {
     "name": "stdout",
     "output_type": "stream",
     "text": [
      "<class 'pandas.core.frame.DataFrame'>\n",
      "Index: 5360 entries, 0 to 5439\n",
      "Data columns (total 14 columns):\n",
      " #   Column       Non-Null Count  Dtype \n",
      "---  ------       --------------  ----- \n",
      " 0   name         5360 non-null   object\n",
      " 1   Price        5360 non-null   int64 \n",
      " 2   SellDate     5360 non-null   object\n",
      " 3   Public Year  5360 non-null   int64 \n",
      " 4   Mileage      5360 non-null   object\n",
      " 5   Origin       5360 non-null   object\n",
      " 6   BodyType     5360 non-null   object\n",
      " 7   EngineType   5360 non-null   object\n",
      " 8   Color        5359 non-null   object\n",
      " 9   ColorInside  5297 non-null   object\n",
      " 10  Seats        5360 non-null   object\n",
      " 11  Doors        5360 non-null   object\n",
      " 12  City         5360 non-null   object\n",
      " 13  Year         5360 non-null   int64 \n",
      "dtypes: int64(3), object(11)\n",
      "memory usage: 628.1+ KB\n"
     ]
    }
   ],
   "source": [
    "df_bonbanh_inf['Year'] = 2024 - df_bonbanh_inf['Date']\n",
    "df_bonbanh_inf.rename(columns={'Date': 'Public Year'}, inplace=True)\n",
    "df_bonbanh_inf.info()"
   ]
  },
  {
   "cell_type": "markdown",
   "metadata": {},
   "source": [
    "### Mileage"
   ]
  },
  {
   "cell_type": "code",
   "execution_count": 867,
   "metadata": {},
   "outputs": [
    {
     "data": {
      "text/plain": [
       "array(['31,000 Km', '47,000 Km', '25,000 Km', '60,800 Km', '23,000 Km',\n",
       "       '46,000 Km', '59,347 Km', '45,000 Km', '40,000 Km', '30,200 Km',\n",
       "       '53,000 Km', '70,000 Km', '41,000 Km', '100,000 Km', '69,000 Km',\n",
       "       '11,000 Km', '56,000 Km', '14,368 Km', '7,000 Km', '0 Km',\n",
       "       '89,000 Km', '13,000 Km', '92,000 Km', '66,000 Km', '59,500 Km',\n",
       "       '75,000 Km', '5,000 Km', '52,000 Km', '5 Km', '59,999 Km',\n",
       "       '16,000 Km', '20,000 Km', '67,000 Km', '87,000 Km', '101,363 Km',\n",
       "       '17,000 Km', '57,000 Km', '7,900 Km', '50,300 Km', '38,000 Km',\n",
       "       '24,000 Km', '44,560 Km', '34,567 Km', '90,000 Km', '30,000 Km',\n",
       "       '9,000 Km', '86,000 Km', '49,000 Km', '39,000 Km', '79,000 Km',\n",
       "       '59,000 Km', '4,000 Km', '50,000 Km', '22,000 Km', '138,000 Km',\n",
       "       '110,000 Km', '14,000 Km', '37,000 Km', '17,500 Km', '12,000 Km',\n",
       "       '27,000 Km', '82,000 Km', '8,000 Km', '42,000 Km', '150,000 Km',\n",
       "       '55,000 Km', '21,000 Km', '20 Km', '77,000 Km', '60,000 Km',\n",
       "       '35,000 Km', '76,000 Km', '6,800 Km', '3,000 Km', '234,000 Km',\n",
       "       '7,999 Km', '10 Km', '10,000 Km', '62,000 Km', '43,300 Km',\n",
       "       '26,000 Km', '55,500 Km', '129,999 Km', '102,000 Km', '130,000 Km',\n",
       "       '44,000 Km', '54,400 Km', '105,000 Km', '68,000 Km', '43,000 Km',\n",
       "       '85,000 Km', '48,000 Km', '80,000 Km', '18,000 Km', '6,000 Km',\n",
       "       '93,322 Km', '71,000 Km', '19,000 Km', '58,000 Km', '2,600 Km',\n",
       "       '33,000 Km', '88,000 Km', '96,000 Km', '8 Km', '50,630 Km',\n",
       "       '29,000 Km', '27,500 Km', '78,000 Km', '28,000 Km', '176,990 Km',\n",
       "       '2 Km', '15 Km', '75,466 Km', '65,000 Km', '6,400 Km', '32,000 Km',\n",
       "       '64,800 Km', '2,000 Km', '72,000 Km', '31,677 Km', '54,000 Km',\n",
       "       '34,500 Km', '6,500 Km', '36,000 Km', '30,120 Km', '63,000 Km',\n",
       "       '100 Km', '8,600 Km', '54,706 Km', '5,300 Km', '35,666 Km',\n",
       "       '73,000 Km', '1,600 Km', '18,750 Km', '47,222 Km', '79,036 Km',\n",
       "       '145,555 Km', '81,000 Km', '10,660 Km', '15,000 Km', '120,000 Km',\n",
       "       '98,000 Km', '37,014 Km', '928 Km', '170,000 Km', '123,917 Km',\n",
       "       '68,560 Km', '22,218 Km', '84,000 Km', '51,545 Km', '4,800 Km',\n",
       "       '64,000 Km', '2,900 Km', '30,572 Km', '65,889 Km', '3,800 Km',\n",
       "       '93,000 Km', '6 Km', '47,666 Km', '112,000 Km', '26,999 Km',\n",
       "       '89,678 Km', '106,000 Km', '56,660 Km', '1,000 Km', '61,000 Km',\n",
       "       '82,622 Km', '2,130 Km', '56,315 Km', '95,000 Km', '10,109 Km',\n",
       "       '30,500 Km', '5,600 Km', '92,562 Km', '35,800 Km', '2,116 Km',\n",
       "       '18,999 Km', '55,555 Km', '7,700 Km', '48,136 Km', '51,000 Km',\n",
       "       '175 Km', '9,500 Km', '40,800 Km', '140,000 Km', '100,314 Km',\n",
       "       '68,800 Km', '24,028 Km', '68,720 Km', '160,000 Km', '70,796 Km',\n",
       "       '21 Km', '7,777 Km', '2,999 Km', '32,900 Km', '9,600 Km',\n",
       "       '26,900 Km', '28,666 Km', '64,360 Km', '1 Km', '86,115 Km',\n",
       "       '34,000 Km', '13,500 Km', '96,540 Km', '23,317 Km', '9,900 Km',\n",
       "       '5,200 Km', '99,000 Km', '19 Km', '75,555 Km', '26,300 Km',\n",
       "       '45,524 Km', '68,123 Km', '17,300 Km', '74,000 Km', '115,000 Km',\n",
       "       '3,500 Km', '52,234 Km', '4,900 Km', '68 Km', '65,101 Km',\n",
       "       '499 Km', '13,300 Km', '81,266 Km', '50 Km', '30 Km', '27,886 Km',\n",
       "       '73,586 Km', '91,000 Km', '180,000 Km', '61,230 Km', '65,900 Km',\n",
       "       '54,866 Km', '65,600 Km', '1,300 Km', '32,886 Km', '8,000,000 Km',\n",
       "       '6,100 Km', '99,999 Km', '122,222 Km', '54,444 Km', '111,111 Km',\n",
       "       '4,444 Km', '97,000 Km', '47,899 Km', '38,888 Km', '83,000 Km',\n",
       "       '110,130 Km', '190,000 Km', '48,270 Km', '179,000 Km', '16,250 Km',\n",
       "       '6,900 Km', '49,836 Km', '200,000 Km', '6,436 Km', '39,082 Km',\n",
       "       '39,105 Km', '94,000 Km', '125,000 Km', '4,200 Km', '50,678 Km',\n",
       "       '108,000 Km', '45,121 Km', '80,360 Km', '2,500 Km', '75,623 Km',\n",
       "       '83,553 Km', '132,000 Km', '62,300 Km', '46,400 Km', '60 Km',\n",
       "       '110 Km', '12,300 Km', '39,121 Km', '15,650 Km', '72,568 Km',\n",
       "       '135,000 Km', '960 Km', '65,245 Km', '49,900 Km', '480,000 Km',\n",
       "       '80,450 Km', '20,750 Km', '56,899 Km', '58,888 Km', '91,689 Km',\n",
       "       '38,500 Km', '150,666 Km', '101,000 Km', '75,689 Km', '42,172 Km',\n",
       "       '50,168 Km', '400 Km', '9,656 Km', '45,600 Km', '9,999 Km',\n",
       "       '13,200 Km', '99,888 Km', '1,900 Km', '4,300 Km', '42,300 Km',\n",
       "       '44,555 Km', '76,899 Km', '189,000 Km', '2,888 Km', '60,251 Km',\n",
       "       '122,000 Km', '34,863 Km', '76,889 Km', '66,666 Km', '7 Km',\n",
       "       '81,300 Km', '77,777 Km', '7,011 Km', '9,122 Km', '1,263 Km',\n",
       "       '8,466 Km', '98,648 Km', '38,900 Km', '25 Km', '8,400 Km',\n",
       "       '18,068 Km', '80,003 Km', '46,666 Km', '145,000 Km', '128,000 Km',\n",
       "       '41,600 Km', '80,963 Km', '104,000 Km', '65,566 Km', '56,565 Km',\n",
       "       '6,868 Km', '5,123 Km', '4,500 Km', '50,246 Km', '90,651 Km',\n",
       "       '380,000 Km', '39,999 Km', '35,163 Km', '57,888 Km', '900 Km',\n",
       "       '80,123 Km', '80,999 Km', '8,200 Km', '720,000 Km', '20,100 Km',\n",
       "       '1,111 Km', '44,444 Km', '8,900 Km', '500 Km', '70,500 Km',\n",
       "       '56,789 Km', '51,234 Km', '18,935 Km', '51,795 Km', '109,000 Km',\n",
       "       '1,400 Km', '110,463 Km', '5,500 Km', '39,899 Km', '72,689 Km',\n",
       "       '41,689 Km', '51,689 Km', '912,689 Km', '91,268 Km', '78,598 Km',\n",
       "       '850,000 Km', '1,500 Km', '86,888 Km', '28,888 Km', '700 Km',\n",
       "       '98,136 Km', '52,800 Km', '9,990 Km', '63,219 Km', '2,300 Km',\n",
       "       '67,986 Km', '800 Km', '165,000 Km', '3,000,000 Km', '29,666 Km',\n",
       "       '5,100 Km', '32,180 Km', '5,700 Km', '688,000 Km', '8,779 Km',\n",
       "       '21,889 Km', '22,666 Km', '21,336 Km', '88,632 Km', '3,600 Km',\n",
       "       '118,203 Km', '113,500 Km', '74,369 Km', '30,800 Km', '24,050 Km',\n",
       "       '91,713 Km', '129,000 Km', '6,857 Km', '28,898 Km', '5,400 Km',\n",
       "       '10,780 Km', '31,666 Km', '479 Km', '65,800 Km', '11,998 Km',\n",
       "       '32,123 Km', '48,126 Km', '73,236 Km', '52,360 Km', '34,555 Km',\n",
       "       '10,500 Km', '15,900 Km', '67,899 Km', '45,678 Km', '28,800 Km',\n",
       "       '15,500 Km', '55,979 Km', '76,455 Km', '12,345 Km', '49,400 Km',\n",
       "       '1,234 Km', '61,512 Km', '20,233 Km', '228 Km', '997,700 Km',\n",
       "       '53,486 Km', '17,700 Km', '6,250 Km', '9,800 Km', '25,125 Km',\n",
       "       '600 Km'], dtype=object)"
      ]
     },
     "execution_count": 867,
     "metadata": {},
     "output_type": "execute_result"
    }
   ],
   "source": [
    "df_bonbanh_inf['Mileage'].unique()"
   ]
  },
  {
   "cell_type": "code",
   "execution_count": 868,
   "metadata": {},
   "outputs": [],
   "source": [
    "df_bonbanh_inf['Mileage'] = df_bonbanh_inf['Mileage'].apply(lambda x: x.replace(\" Km\", \"\").replace(\",\", \"\"))\n",
    "\n",
    "df_bonbanh_inf['Mileage'] = df_bonbanh_inf['Mileage'].astype(int)"
   ]
  },
  {
   "cell_type": "code",
   "execution_count": 869,
   "metadata": {},
   "outputs": [
    {
     "data": {
      "text/html": [
       "<div>\n",
       "<style scoped>\n",
       "    .dataframe tbody tr th:only-of-type {\n",
       "        vertical-align: middle;\n",
       "    }\n",
       "\n",
       "    .dataframe tbody tr th {\n",
       "        vertical-align: top;\n",
       "    }\n",
       "\n",
       "    .dataframe thead th {\n",
       "        text-align: right;\n",
       "    }\n",
       "</style>\n",
       "<table border=\"1\" class=\"dataframe\">\n",
       "  <thead>\n",
       "    <tr style=\"text-align: right;\">\n",
       "      <th></th>\n",
       "      <th>name</th>\n",
       "      <th>Price</th>\n",
       "      <th>SellDate</th>\n",
       "      <th>Public Year</th>\n",
       "      <th>Mileage</th>\n",
       "      <th>Origin</th>\n",
       "      <th>BodyType</th>\n",
       "      <th>EngineType</th>\n",
       "      <th>Color</th>\n",
       "      <th>ColorInside</th>\n",
       "      <th>Seats</th>\n",
       "      <th>Doors</th>\n",
       "      <th>City</th>\n",
       "      <th>Year</th>\n",
       "    </tr>\n",
       "  </thead>\n",
       "  <tbody>\n",
       "    <tr>\n",
       "      <th>0</th>\n",
       "      <td>Hyundai Accent 1.4 AT Dac Biet</td>\n",
       "      <td>465</td>\n",
       "      <td>4/11/2024</td>\n",
       "      <td>2022</td>\n",
       "      <td>31000</td>\n",
       "      <td>Lap rap trong nuoc</td>\n",
       "      <td>Sedan</td>\n",
       "      <td>Xang 1.4 L</td>\n",
       "      <td>Cat</td>\n",
       "      <td>Kem</td>\n",
       "      <td>5 cho</td>\n",
       "      <td>4 cua</td>\n",
       "      <td>Ha Noi</td>\n",
       "      <td>2</td>\n",
       "    </tr>\n",
       "    <tr>\n",
       "      <th>1</th>\n",
       "      <td>Hyundai Accent 1.4 AT Dac Biet</td>\n",
       "      <td>465</td>\n",
       "      <td>4/11/2024</td>\n",
       "      <td>2022</td>\n",
       "      <td>31000</td>\n",
       "      <td>Lap rap trong nuoc</td>\n",
       "      <td>Sedan</td>\n",
       "      <td>Xang 1.4 L</td>\n",
       "      <td>Cat</td>\n",
       "      <td>Kem</td>\n",
       "      <td>5 cho</td>\n",
       "      <td>4 cua</td>\n",
       "      <td>Ha Noi</td>\n",
       "      <td>2</td>\n",
       "    </tr>\n",
       "    <tr>\n",
       "      <th>2</th>\n",
       "      <td>Hyundai SantaFe Cao cap 2.2L HTRAC</td>\n",
       "      <td>1090</td>\n",
       "      <td>4/11/2024</td>\n",
       "      <td>2021</td>\n",
       "      <td>47000</td>\n",
       "      <td>Lap rap trong nuoc</td>\n",
       "      <td>SUV</td>\n",
       "      <td>Dau 2.2 L</td>\n",
       "      <td>Trang</td>\n",
       "      <td>Nau</td>\n",
       "      <td>7 cho</td>\n",
       "      <td>5 cua</td>\n",
       "      <td>Ha Noi</td>\n",
       "      <td>3</td>\n",
       "    </tr>\n",
       "    <tr>\n",
       "      <th>3</th>\n",
       "      <td>Hyundai SantaFe Cao cap 2.2L HTRAC</td>\n",
       "      <td>1090</td>\n",
       "      <td>4/11/2024</td>\n",
       "      <td>2021</td>\n",
       "      <td>47000</td>\n",
       "      <td>Lap rap trong nuoc</td>\n",
       "      <td>SUV</td>\n",
       "      <td>Dau 2.2 L</td>\n",
       "      <td>Trang</td>\n",
       "      <td>Nau</td>\n",
       "      <td>7 cho</td>\n",
       "      <td>5 cua</td>\n",
       "      <td>TP HCM</td>\n",
       "      <td>3</td>\n",
       "    </tr>\n",
       "    <tr>\n",
       "      <th>4</th>\n",
       "      <td>MG 5 Standard 1.5 AT</td>\n",
       "      <td>410</td>\n",
       "      <td>4/11/2024</td>\n",
       "      <td>2022</td>\n",
       "      <td>25000</td>\n",
       "      <td>Nhap khau</td>\n",
       "      <td>Sedan</td>\n",
       "      <td>Xang 1.5 L</td>\n",
       "      <td>Den</td>\n",
       "      <td>Den</td>\n",
       "      <td>5 cho</td>\n",
       "      <td>4 cua</td>\n",
       "      <td>TP HCM</td>\n",
       "      <td>2</td>\n",
       "    </tr>\n",
       "    <tr>\n",
       "      <th>5</th>\n",
       "      <td>MG 5 Standard 1.5 AT</td>\n",
       "      <td>410</td>\n",
       "      <td>4/11/2024</td>\n",
       "      <td>2022</td>\n",
       "      <td>25000</td>\n",
       "      <td>Nhap khau</td>\n",
       "      <td>Sedan</td>\n",
       "      <td>Xang 1.5 L</td>\n",
       "      <td>Den</td>\n",
       "      <td>Den</td>\n",
       "      <td>5 cho</td>\n",
       "      <td>4 cua</td>\n",
       "      <td>Hai Phong</td>\n",
       "      <td>2</td>\n",
       "    </tr>\n",
       "    <tr>\n",
       "      <th>12</th>\n",
       "      <td>Hyundai Accent 1.4 AT Dac Biet</td>\n",
       "      <td>465</td>\n",
       "      <td>4/11/2024</td>\n",
       "      <td>2022</td>\n",
       "      <td>31000</td>\n",
       "      <td>Lap rap trong nuoc</td>\n",
       "      <td>Sedan</td>\n",
       "      <td>Xang 1.4 L</td>\n",
       "      <td>Cat</td>\n",
       "      <td>Kem</td>\n",
       "      <td>5 cho</td>\n",
       "      <td>4 cua</td>\n",
       "      <td>Ha Noi</td>\n",
       "      <td>2</td>\n",
       "    </tr>\n",
       "    <tr>\n",
       "      <th>13</th>\n",
       "      <td>Hyundai Accent 1.4 AT Dac Biet</td>\n",
       "      <td>465</td>\n",
       "      <td>4/11/2024</td>\n",
       "      <td>2022</td>\n",
       "      <td>31000</td>\n",
       "      <td>Lap rap trong nuoc</td>\n",
       "      <td>Sedan</td>\n",
       "      <td>Xang 1.4 L</td>\n",
       "      <td>Cat</td>\n",
       "      <td>Kem</td>\n",
       "      <td>5 cho</td>\n",
       "      <td>4 cua</td>\n",
       "      <td>Ha Noi</td>\n",
       "      <td>2</td>\n",
       "    </tr>\n",
       "    <tr>\n",
       "      <th>14</th>\n",
       "      <td>Toyota Innova 2.0E</td>\n",
       "      <td>530</td>\n",
       "      <td>4/11/2024</td>\n",
       "      <td>2019</td>\n",
       "      <td>60800</td>\n",
       "      <td>Lap rap trong nuoc</td>\n",
       "      <td>Crossover</td>\n",
       "      <td>Xang 2.0 L</td>\n",
       "      <td>Bac</td>\n",
       "      <td>Cam</td>\n",
       "      <td>8 cho</td>\n",
       "      <td>5 cua</td>\n",
       "      <td>Dak Lak</td>\n",
       "      <td>5</td>\n",
       "    </tr>\n",
       "    <tr>\n",
       "      <th>15</th>\n",
       "      <td>Toyota Innova 2.0E</td>\n",
       "      <td>530</td>\n",
       "      <td>4/11/2024</td>\n",
       "      <td>2019</td>\n",
       "      <td>60800</td>\n",
       "      <td>Lap rap trong nuoc</td>\n",
       "      <td>Crossover</td>\n",
       "      <td>Xang 2.0 L</td>\n",
       "      <td>Bac</td>\n",
       "      <td>Cam</td>\n",
       "      <td>8 cho</td>\n",
       "      <td>5 cua</td>\n",
       "      <td>Ha Noi</td>\n",
       "      <td>5</td>\n",
       "    </tr>\n",
       "  </tbody>\n",
       "</table>\n",
       "</div>"
      ],
      "text/plain": [
       "                                  name  Price   SellDate  Public Year  \\\n",
       "0       Hyundai Accent 1.4 AT Dac Biet    465  4/11/2024         2022   \n",
       "1       Hyundai Accent 1.4 AT Dac Biet    465  4/11/2024         2022   \n",
       "2   Hyundai SantaFe Cao cap 2.2L HTRAC   1090  4/11/2024         2021   \n",
       "3   Hyundai SantaFe Cao cap 2.2L HTRAC   1090  4/11/2024         2021   \n",
       "4                 MG 5 Standard 1.5 AT    410  4/11/2024         2022   \n",
       "5                 MG 5 Standard 1.5 AT    410  4/11/2024         2022   \n",
       "12      Hyundai Accent 1.4 AT Dac Biet    465  4/11/2024         2022   \n",
       "13      Hyundai Accent 1.4 AT Dac Biet    465  4/11/2024         2022   \n",
       "14                  Toyota Innova 2.0E    530  4/11/2024         2019   \n",
       "15                  Toyota Innova 2.0E    530  4/11/2024         2019   \n",
       "\n",
       "    Mileage              Origin   BodyType  EngineType  Color ColorInside  \\\n",
       "0     31000  Lap rap trong nuoc      Sedan  Xang 1.4 L    Cat         Kem   \n",
       "1     31000  Lap rap trong nuoc      Sedan  Xang 1.4 L    Cat         Kem   \n",
       "2     47000  Lap rap trong nuoc        SUV   Dau 2.2 L  Trang         Nau   \n",
       "3     47000  Lap rap trong nuoc        SUV   Dau 2.2 L  Trang         Nau   \n",
       "4     25000           Nhap khau      Sedan  Xang 1.5 L    Den         Den   \n",
       "5     25000           Nhap khau      Sedan  Xang 1.5 L    Den         Den   \n",
       "12    31000  Lap rap trong nuoc      Sedan  Xang 1.4 L    Cat         Kem   \n",
       "13    31000  Lap rap trong nuoc      Sedan  Xang 1.4 L    Cat         Kem   \n",
       "14    60800  Lap rap trong nuoc  Crossover  Xang 2.0 L    Bac         Cam   \n",
       "15    60800  Lap rap trong nuoc  Crossover  Xang 2.0 L    Bac         Cam   \n",
       "\n",
       "    Seats  Doors       City  Year  \n",
       "0   5 cho  4 cua     Ha Noi     2  \n",
       "1   5 cho  4 cua     Ha Noi     2  \n",
       "2   7 cho  5 cua     Ha Noi     3  \n",
       "3   7 cho  5 cua     TP HCM     3  \n",
       "4   5 cho  4 cua     TP HCM     2  \n",
       "5   5 cho  4 cua  Hai Phong     2  \n",
       "12  5 cho  4 cua     Ha Noi     2  \n",
       "13  5 cho  4 cua     Ha Noi     2  \n",
       "14  8 cho  5 cua    Dak Lak     5  \n",
       "15  8 cho  5 cua     Ha Noi     5  "
      ]
     },
     "execution_count": 869,
     "metadata": {},
     "output_type": "execute_result"
    }
   ],
   "source": [
    "df_bonbanh_inf.head(10)"
   ]
  },
  {
   "cell_type": "markdown",
   "metadata": {},
   "source": [
    "### Origin"
   ]
  },
  {
   "cell_type": "code",
   "execution_count": 870,
   "metadata": {},
   "outputs": [],
   "source": [
    "df_bonbanh_inf['Origin'].unique()\n",
    "df_bonbanh_inf['Origin'] = df_bonbanh_inf['Origin'].replace(\"Lap rap trong nuoc\", \"Lap rap\")"
   ]
  },
  {
   "cell_type": "code",
   "execution_count": 871,
   "metadata": {},
   "outputs": [
    {
     "data": {
      "text/plain": [
       "array(['Lap rap', 'Nhap khau'], dtype=object)"
      ]
     },
     "execution_count": 871,
     "metadata": {},
     "output_type": "execute_result"
    }
   ],
   "source": [
    "df_bonbanh_inf['Origin'].unique()"
   ]
  },
  {
   "cell_type": "markdown",
   "metadata": {},
   "source": [
    "### BodyType"
   ]
  },
  {
   "cell_type": "code",
   "execution_count": 872,
   "metadata": {},
   "outputs": [
    {
     "data": {
      "text/plain": [
       "array(['Sedan', 'SUV', 'Crossover', 'Ban tai / Pickup', 'Van/Minivan',\n",
       "       'Hatchback', 'Convertible/Cabriolet', 'Coupe'], dtype=object)"
      ]
     },
     "execution_count": 872,
     "metadata": {},
     "output_type": "execute_result"
    }
   ],
   "source": [
    "df_bonbanh_inf['BodyType'].unique()"
   ]
  },
  {
   "cell_type": "code",
   "execution_count": 873,
   "metadata": {},
   "outputs": [],
   "source": [
    "df_bonbanh_inf['BodyType'] = df_bonbanh_inf['BodyType'].replace(\"Van/Minivan\", \"Van\")\n",
    "df_bonbanh_inf['BodyType'] = df_bonbanh_inf['BodyType'].replace('Convertible/Cabriolet', 'Convertible')\n",
    "df_bonbanh_inf['BodyType'] = df_bonbanh_inf['BodyType'].replace('Ban tai / Pickup', 'Ban tai')"
   ]
  },
  {
   "cell_type": "code",
   "execution_count": 874,
   "metadata": {},
   "outputs": [],
   "source": [
    "df_bonbanh_inf = df_bonbanh_inf[df_bonbanh_inf['BodyType'] != 'Truck']"
   ]
  },
  {
   "cell_type": "code",
   "execution_count": 875,
   "metadata": {},
   "outputs": [
    {
     "data": {
      "text/plain": [
       "array(['Sedan', 'SUV', 'Crossover', 'Ban tai', 'Van', 'Hatchback',\n",
       "       'Convertible', 'Coupe'], dtype=object)"
      ]
     },
     "execution_count": 875,
     "metadata": {},
     "output_type": "execute_result"
    }
   ],
   "source": [
    "df_bonbanh_inf['BodyType'].unique()"
   ]
  },
  {
   "cell_type": "markdown",
   "metadata": {},
   "source": [
    "### EngineType, Engine\n"
   ]
  },
  {
   "cell_type": "code",
   "execution_count": 876,
   "metadata": {},
   "outputs": [
    {
     "data": {
      "text/plain": [
       "array(['Xang 1.4 L', 'Dau 2.2 L', 'Xang 1.5 L', 'Xang 2.0 L',\n",
       "       'Xang 1.8 L', 'Dau 2.4 L', 'Xang 3.3 L', 'Xang 3.5 L',\n",
       "       'Xang 1.6 L', 'Xang 2.5 L', 'Xang 1.0 L', 'Dau 2.0 L',\n",
       "       'Hybrid 2.5 L', 'Dau 2.5 L', 'Hybrid 3.5 L', 'Xang 1.25 L',\n",
       "       'Xang 2.7 L', 'Xang 3.0 L', 'Dien', 'Xang 1.2 L', 'Xang 2.4 L',\n",
       "       'Xang 4.0 L', 'Xang 6.0 L', 'Xang 4.7 L', 'Xang 5.0 L',\n",
       "       'Xang 4.6 L', 'Xang 6.7 L', 'Dien 0.3 L', 'Xang 2.3 L',\n",
       "       'Dau 2.3 L', 'Xang 6.6 L', 'Hybrid 1.8 L', 'Dau 3.2 L',\n",
       "       'Dien 0.2 L', 'Dau 2.8 L', 'Xang 2.9 L', 'Xang 3.4 L',\n",
       "       'Hybrid 2.0 L', 'Xang 3.6 L', 'Xang 5.7 L', 'Dau 2.1 L',\n",
       "       'Dien 0.1 L', 'Xang 6.8 L', 'Dien 0.6 L', 'Xang 3.9 L',\n",
       "       'Dau 3.0 L', 'Xang 6.2 L', 'Dau 1.7 L', 'Xang', 'Hybrid 1.5 L',\n",
       "       'Hybrid 3.0 L', 'Xang 1.3 L', 'Xang 3.8 L', 'Xang 4.4 L',\n",
       "       'Dau 1.6 L', 'Xang 5.5 L', 'Xang 5.6 L'], dtype=object)"
      ]
     },
     "execution_count": 876,
     "metadata": {},
     "output_type": "execute_result"
    }
   ],
   "source": [
    "df_bonbanh_inf['EngineType'].unique()"
   ]
  },
  {
   "cell_type": "code",
   "execution_count": 877,
   "metadata": {},
   "outputs": [],
   "source": [
    "df_bonbanh_inf.loc[1918, 'EngineType'] = 'Dien'"
   ]
  },
  {
   "cell_type": "code",
   "execution_count": 878,
   "metadata": {},
   "outputs": [],
   "source": [
    "def extract_fuel_and_engine(engine_type):\n",
    "    parts = engine_type.split(' ')\n",
    "    fuel_type = parts[0]\n",
    "    if fuel_type == \"Dien\":\n",
    "        engine_size = 0\n",
    "    elif len(parts) > 1:\n",
    "        engine_size = float(parts[1].replace('L', '')) * 1000\n",
    "    else:\n",
    "        engine_size = None\n",
    "    return fuel_type, engine_size\n",
    "\n",
    "df_bonbanh_inf['FuelType'], df_bonbanh_inf['Engine'] = zip(*df_bonbanh_inf['EngineType'].apply(extract_fuel_and_engine))"
   ]
  },
  {
   "cell_type": "code",
   "execution_count": 879,
   "metadata": {},
   "outputs": [
    {
     "name": "stdout",
     "output_type": "stream",
     "text": [
      "<class 'pandas.core.frame.DataFrame'>\n",
      "Index: 5360 entries, 0 to 5439\n",
      "Data columns (total 16 columns):\n",
      " #   Column       Non-Null Count  Dtype  \n",
      "---  ------       --------------  -----  \n",
      " 0   name         5360 non-null   object \n",
      " 1   Price        5360 non-null   int64  \n",
      " 2   SellDate     5360 non-null   object \n",
      " 3   Public Year  5360 non-null   int64  \n",
      " 4   Mileage      5360 non-null   int64  \n",
      " 5   Origin       5360 non-null   object \n",
      " 6   BodyType     5360 non-null   object \n",
      " 7   EngineType   5360 non-null   object \n",
      " 8   Color        5359 non-null   object \n",
      " 9   ColorInside  5297 non-null   object \n",
      " 10  Seats        5360 non-null   object \n",
      " 11  Doors        5360 non-null   object \n",
      " 12  City         5360 non-null   object \n",
      " 13  Year         5360 non-null   int64  \n",
      " 14  FuelType     5360 non-null   object \n",
      " 15  Engine       5357 non-null   float64\n",
      "dtypes: float64(1), int64(4), object(11)\n",
      "memory usage: 840.9+ KB\n"
     ]
    }
   ],
   "source": [
    "df_bonbanh_inf.info()"
   ]
  },
  {
   "cell_type": "code",
   "execution_count": 880,
   "metadata": {},
   "outputs": [
    {
     "data": {
      "text/html": [
       "<div>\n",
       "<style scoped>\n",
       "    .dataframe tbody tr th:only-of-type {\n",
       "        vertical-align: middle;\n",
       "    }\n",
       "\n",
       "    .dataframe tbody tr th {\n",
       "        vertical-align: top;\n",
       "    }\n",
       "\n",
       "    .dataframe thead th {\n",
       "        text-align: right;\n",
       "    }\n",
       "</style>\n",
       "<table border=\"1\" class=\"dataframe\">\n",
       "  <thead>\n",
       "    <tr style=\"text-align: right;\">\n",
       "      <th></th>\n",
       "      <th>name</th>\n",
       "      <th>Price</th>\n",
       "      <th>SellDate</th>\n",
       "      <th>Public Year</th>\n",
       "      <th>Mileage</th>\n",
       "      <th>Origin</th>\n",
       "      <th>BodyType</th>\n",
       "      <th>EngineType</th>\n",
       "      <th>Color</th>\n",
       "      <th>ColorInside</th>\n",
       "      <th>Seats</th>\n",
       "      <th>Doors</th>\n",
       "      <th>City</th>\n",
       "      <th>Year</th>\n",
       "      <th>FuelType</th>\n",
       "      <th>Engine</th>\n",
       "    </tr>\n",
       "  </thead>\n",
       "  <tbody>\n",
       "    <tr>\n",
       "      <th>1520</th>\n",
       "      <td>Audi A5 Apec</td>\n",
       "      <td>1180</td>\n",
       "      <td>4/11/2024</td>\n",
       "      <td>2017</td>\n",
       "      <td>58000</td>\n",
       "      <td>Nhap khau</td>\n",
       "      <td>Coupe</td>\n",
       "      <td>Xang</td>\n",
       "      <td>Den</td>\n",
       "      <td>Den</td>\n",
       "      <td>5 cho</td>\n",
       "      <td>0 cua</td>\n",
       "      <td>Ha Noi</td>\n",
       "      <td>7</td>\n",
       "      <td>Xang</td>\n",
       "      <td>NaN</td>\n",
       "    </tr>\n",
       "    <tr>\n",
       "      <th>1531</th>\n",
       "      <td>Audi Q7</td>\n",
       "      <td>830</td>\n",
       "      <td>4/11/2024</td>\n",
       "      <td>2015</td>\n",
       "      <td>100000</td>\n",
       "      <td>Nhap khau</td>\n",
       "      <td>SUV</td>\n",
       "      <td>Xang</td>\n",
       "      <td>Xam</td>\n",
       "      <td>Den</td>\n",
       "      <td>7 cho</td>\n",
       "      <td>0 cua</td>\n",
       "      <td>Ha Noi</td>\n",
       "      <td>9</td>\n",
       "      <td>Xang</td>\n",
       "      <td>NaN</td>\n",
       "    </tr>\n",
       "    <tr>\n",
       "      <th>3933</th>\n",
       "      <td>Subaru Outback 2.5 si</td>\n",
       "      <td>725</td>\n",
       "      <td>4/11/2024</td>\n",
       "      <td>2016</td>\n",
       "      <td>100000</td>\n",
       "      <td>Nhap khau</td>\n",
       "      <td>SUV</td>\n",
       "      <td>Xang</td>\n",
       "      <td>Den</td>\n",
       "      <td>Den</td>\n",
       "      <td>5 cho</td>\n",
       "      <td>0 cua</td>\n",
       "      <td>Ha Noi</td>\n",
       "      <td>8</td>\n",
       "      <td>Xang</td>\n",
       "      <td>NaN</td>\n",
       "    </tr>\n",
       "  </tbody>\n",
       "</table>\n",
       "</div>"
      ],
      "text/plain": [
       "                       name  Price   SellDate  Public Year  Mileage  \\\n",
       "1520           Audi A5 Apec   1180  4/11/2024         2017    58000   \n",
       "1531                Audi Q7    830  4/11/2024         2015   100000   \n",
       "3933  Subaru Outback 2.5 si    725  4/11/2024         2016   100000   \n",
       "\n",
       "         Origin BodyType EngineType Color ColorInside  Seats  Doors    City  \\\n",
       "1520  Nhap khau    Coupe       Xang   Den         Den  5 cho  0 cua  Ha Noi   \n",
       "1531  Nhap khau      SUV       Xang   Xam         Den  7 cho  0 cua  Ha Noi   \n",
       "3933  Nhap khau      SUV       Xang   Den         Den  5 cho  0 cua  Ha Noi   \n",
       "\n",
       "      Year FuelType  Engine  \n",
       "1520     7     Xang     NaN  \n",
       "1531     9     Xang     NaN  \n",
       "3933     8     Xang     NaN  "
      ]
     },
     "execution_count": 880,
     "metadata": {},
     "output_type": "execute_result"
    }
   ],
   "source": [
    "filtered_data = df_bonbanh_inf[df_bonbanh_inf['Engine'].isnull()]\n",
    "filtered_data.head()"
   ]
  },
  {
   "cell_type": "code",
   "execution_count": 881,
   "metadata": {},
   "outputs": [],
   "source": [
    "df_bonbanh_inf.loc[691, 'Engine'] = 2000\n",
    "df_bonbanh_inf.loc[2240, 'Engine'] = 1000\n",
    "df_bonbanh_inf.loc[3300, 'Engine'] = 2500\n",
    "df_bonbanh_inf.loc[4073, 'Engine'] = 2500\n",
    "df_bonbanh_inf = df_bonbanh_inf.dropna(subset=['Engine'])\n",
    "filtered_data = df_bonbanh_inf[df_bonbanh_inf['EngineType'].isnull()]\n",
    "filtered_data.head()\n",
    "df_bonbanh_inf['Engine'] = df_bonbanh_inf['Engine'].astype(int)"
   ]
  },
  {
   "cell_type": "code",
   "execution_count": 882,
   "metadata": {},
   "outputs": [],
   "source": [
    "df_bonbanh_inf.drop(columns='EngineType', inplace=True)"
   ]
  },
  {
   "cell_type": "markdown",
   "metadata": {},
   "source": [
    "### Color, ColorInside"
   ]
  },
  {
   "cell_type": "code",
   "execution_count": 883,
   "metadata": {},
   "outputs": [],
   "source": [
    "df_bonbanh_inf.drop(columns=['Color'], inplace=True)\n",
    "df_bonbanh_inf.drop(columns=['ColorInside'], inplace=True)"
   ]
  },
  {
   "cell_type": "markdown",
   "metadata": {},
   "source": [
    "### Seats, Doors"
   ]
  },
  {
   "cell_type": "code",
   "execution_count": 884,
   "metadata": {},
   "outputs": [],
   "source": [
    "df_bonbanh_inf['Seats'].unique()\n",
    "df_bonbanh_inf['Seats'] = df_bonbanh_inf['Seats'].str.replace(' cho', '', regex=False).astype(int)\n",
    "df_bonbanh_inf.drop(columns=['Doors'], inplace=True)"
   ]
  },
  {
   "cell_type": "code",
   "execution_count": 885,
   "metadata": {},
   "outputs": [
    {
     "name": "stdout",
     "output_type": "stream",
     "text": [
      "<class 'pandas.core.frame.DataFrame'>\n",
      "Index: 5357 entries, 0 to 5439\n",
      "Data columns (total 12 columns):\n",
      " #   Column       Non-Null Count  Dtype \n",
      "---  ------       --------------  ----- \n",
      " 0   name         5357 non-null   object\n",
      " 1   Price        5357 non-null   int64 \n",
      " 2   SellDate     5357 non-null   object\n",
      " 3   Public Year  5357 non-null   int64 \n",
      " 4   Mileage      5357 non-null   int64 \n",
      " 5   Origin       5357 non-null   object\n",
      " 6   BodyType     5357 non-null   object\n",
      " 7   Seats        5357 non-null   int64 \n",
      " 8   City         5357 non-null   object\n",
      " 9   Year         5357 non-null   int64 \n",
      " 10  FuelType     5357 non-null   object\n",
      " 11  Engine       5357 non-null   int64 \n",
      "dtypes: int64(6), object(6)\n",
      "memory usage: 544.1+ KB\n"
     ]
    }
   ],
   "source": [
    "df_bonbanh_inf.info()"
   ]
  },
  {
   "cell_type": "markdown",
   "metadata": {},
   "source": [
    "### Manufacture"
   ]
  },
  {
   "cell_type": "code",
   "execution_count": 886,
   "metadata": {},
   "outputs": [
    {
     "data": {
      "text/plain": [
       "array(['Hyundai', 'MG', 'Toyota', 'Mercedes', 'Ford', 'Mitsubishi', 'Kia',\n",
       "       'Lexus', 'Mini', 'Honda', 'Peugeot', 'Nissan', 'Mazda', 'Audi',\n",
       "       'VinFast', 'Porsche', 'BMW', 'Chevrolet', 'Bentley', 'LandRover',\n",
       "       'Rolls', 'Volkswagen', 'Volvo', 'Suzuki', 'Maserati', 'Subaru',\n",
       "       'Ferrari', 'Isuzu', 'Lincoln', 'Infiniti', 'Ssangyong', 'Cadillac',\n",
       "       'Lamborghini', 'McLaren', 'Jaguar', 'Skoda'], dtype=object)"
      ]
     },
     "execution_count": 886,
     "metadata": {},
     "output_type": "execute_result"
    }
   ],
   "source": [
    "df_bonbanh_inf['Manufacturer'] = df_bonbanh_inf['name'].apply(lambda x: x.split(\" \")[0])\n",
    "df_bonbanh_inf['Manufacturer'].unique()"
   ]
  },
  {
   "cell_type": "code",
   "execution_count": 887,
   "metadata": {},
   "outputs": [
    {
     "data": {
      "text/plain": [
       "array(['Hyundai', 'MG', 'Toyota', 'Mercedes', 'Ford', 'Mitsubishi', 'Kia',\n",
       "       'Lexus', 'Mini', 'Honda', 'Peugeot', 'Nissan', 'Mazda', 'Audi',\n",
       "       'VinFast', 'Porsche', 'BMW', 'Chevrolet', 'Bentley', 'Land Rover',\n",
       "       'Rolls-Royce', 'Volkswagen', 'Volvo', 'Suzuki', 'Maserati',\n",
       "       'Subaru', 'Ferrari', 'Isuzu', 'Lincoln', 'Infiniti', 'Ssangyong',\n",
       "       'Cadillac', 'Lamborghini', 'McLaren', 'Jaguar', 'Skoda'],\n",
       "      dtype=object)"
      ]
     },
     "execution_count": 887,
     "metadata": {},
     "output_type": "execute_result"
    }
   ],
   "source": [
    "df_bonbanh_inf['Manufacturer'] = df_bonbanh_inf['Manufacturer'].replace({'Rolls': 'Rolls-Royce'})\n",
    "df_bonbanh_inf['Manufacturer'] = df_bonbanh_inf['Manufacturer'].replace({'LandRover': 'Land Rover'})\n",
    "df_bonbanh_inf['Manufacturer'].unique()"
   ]
  },
  {
   "cell_type": "markdown",
   "metadata": {},
   "source": [
    "### City"
   ]
  },
  {
   "cell_type": "code",
   "execution_count": 888,
   "metadata": {},
   "outputs": [
    {
     "data": {
      "text/plain": [
       "array(['Ha Noi', 'TP HCM', 'Hai Phong', 'Dak Lak', 'Ninh Binh',\n",
       "       'Bac Ninh', 'Binh Duong', 'Gia Lai', 'Nghe An', 'Quang Ninh',\n",
       "       'Ba Ria Vung Tau', 'Hai Duong', 'Long An'], dtype=object)"
      ]
     },
     "execution_count": 888,
     "metadata": {},
     "output_type": "execute_result"
    }
   ],
   "source": [
    "df_bonbanh_inf['City'].unique()"
   ]
  },
  {
   "cell_type": "markdown",
   "metadata": {},
   "source": [
    "### Final"
   ]
  },
  {
   "cell_type": "code",
   "execution_count": 889,
   "metadata": {},
   "outputs": [
    {
     "name": "stdout",
     "output_type": "stream",
     "text": [
      "<class 'pandas.core.frame.DataFrame'>\n",
      "Index: 5357 entries, 0 to 5439\n",
      "Data columns (total 13 columns):\n",
      " #   Column        Non-Null Count  Dtype \n",
      "---  ------        --------------  ----- \n",
      " 0   Name          5357 non-null   object\n",
      " 1   Price         5357 non-null   int64 \n",
      " 2   Selldate      5357 non-null   object\n",
      " 3   Public Year   5357 non-null   int64 \n",
      " 4   Mileage       5357 non-null   int64 \n",
      " 5   Origin        5357 non-null   object\n",
      " 6   Bodytype      5357 non-null   object\n",
      " 7   Seats         5357 non-null   int64 \n",
      " 8   City          5357 non-null   object\n",
      " 9   Year          5357 non-null   int64 \n",
      " 10  Fueltype      5357 non-null   object\n",
      " 11  Engine        5357 non-null   int64 \n",
      " 12  Manufacturer  5357 non-null   object\n",
      "dtypes: int64(6), object(7)\n",
      "memory usage: 585.9+ KB\n"
     ]
    }
   ],
   "source": [
    "df_bonbanh_inf.columns = df_bonbanh_inf.columns.str.title()\n",
    "df_bonbanh_inf.info()"
   ]
  },
  {
   "cell_type": "code",
   "execution_count": 890,
   "metadata": {},
   "outputs": [],
   "source": [
    "df_bonbanh_inf.to_csv('bonbanh_dataforml.csv')"
   ]
  },
  {
   "cell_type": "markdown",
   "metadata": {},
   "source": [
    "## Oto.com"
   ]
  },
  {
   "cell_type": "code",
   "execution_count": 891,
   "metadata": {},
   "outputs": [
    {
     "name": "stdout",
     "output_type": "stream",
     "text": [
      "<class 'pandas.core.frame.DataFrame'>\n",
      "RangeIndex: 1174 entries, 0 to 1173\n",
      "Data columns (total 13 columns):\n",
      " #   Column        Non-Null Count  Dtype \n",
      "---  ------        --------------  ----- \n",
      " 0   car_id        1174 non-null   int64 \n",
      " 1   title         1174 non-null   object\n",
      " 2   year          1174 non-null   object\n",
      " 3   Body_Type     1174 non-null   object\n",
      " 4   Origin        1174 non-null   object\n",
      " 5   Mileage       1174 non-null   object\n",
      " 6   City          1174 non-null   object\n",
      " 7   District      1174 non-null   object\n",
      " 8   Transmission  1174 non-null   object\n",
      " 9   Fuel_Type     1174 non-null   object\n",
      " 10  Price         1174 non-null   object\n",
      " 11  sale_date     1174 non-null   object\n",
      " 12  Manufacturer  1174 non-null   object\n",
      "dtypes: int64(1), object(12)\n",
      "memory usage: 119.4+ KB\n"
     ]
    }
   ],
   "source": [
    "df_used_Car.info()"
   ]
  },
  {
   "cell_type": "markdown",
   "metadata": {},
   "source": [
    "### Replace None"
   ]
  },
  {
   "cell_type": "code",
   "execution_count": 892,
   "metadata": {},
   "outputs": [
    {
     "name": "stdout",
     "output_type": "stream",
     "text": [
      "<class 'pandas.core.frame.DataFrame'>\n",
      "RangeIndex: 1174 entries, 0 to 1173\n",
      "Data columns (total 13 columns):\n",
      " #   Column        Non-Null Count  Dtype \n",
      "---  ------        --------------  ----- \n",
      " 0   car_id        1174 non-null   int64 \n",
      " 1   title         1174 non-null   object\n",
      " 2   year          1174 non-null   object\n",
      " 3   Body_Type     992 non-null    object\n",
      " 4   Origin        1174 non-null   object\n",
      " 5   Mileage       1170 non-null   object\n",
      " 6   City          1174 non-null   object\n",
      " 7   District      1094 non-null   object\n",
      " 8   Transmission  1174 non-null   object\n",
      " 9   Fuel_Type     1174 non-null   object\n",
      " 10  Price         1174 non-null   object\n",
      " 11  sale_date     1174 non-null   object\n",
      " 12  Manufacturer  1174 non-null   object\n",
      "dtypes: int64(1), object(12)\n",
      "memory usage: 119.4+ KB\n"
     ]
    }
   ],
   "source": [
    "df_used_Car.replace({'None': np.nan}, inplace=True)\n",
    "df_used_Car.info()"
   ]
  },
  {
   "cell_type": "code",
   "execution_count": 893,
   "metadata": {},
   "outputs": [
    {
     "data": {
      "text/html": [
       "<div>\n",
       "<style scoped>\n",
       "    .dataframe tbody tr th:only-of-type {\n",
       "        vertical-align: middle;\n",
       "    }\n",
       "\n",
       "    .dataframe tbody tr th {\n",
       "        vertical-align: top;\n",
       "    }\n",
       "\n",
       "    .dataframe thead th {\n",
       "        text-align: right;\n",
       "    }\n",
       "</style>\n",
       "<table border=\"1\" class=\"dataframe\">\n",
       "  <thead>\n",
       "    <tr style=\"text-align: right;\">\n",
       "      <th></th>\n",
       "      <th>title</th>\n",
       "      <th>year</th>\n",
       "      <th>Body_Type</th>\n",
       "      <th>Origin</th>\n",
       "      <th>Mileage</th>\n",
       "      <th>City</th>\n",
       "      <th>District</th>\n",
       "      <th>Transmission</th>\n",
       "      <th>Fuel_Type</th>\n",
       "      <th>Price</th>\n",
       "      <th>sale_date</th>\n",
       "      <th>Manufacturer</th>\n",
       "    </tr>\n",
       "  </thead>\n",
       "  <tbody>\n",
       "    <tr>\n",
       "      <th>0</th>\n",
       "      <td>2023 - Lexus LX 600</td>\n",
       "      <td>2023</td>\n",
       "      <td>SUV</td>\n",
       "      <td>Nhap khau</td>\n",
       "      <td>14000.0</td>\n",
       "      <td>Tp.HCM</td>\n",
       "      <td>Thu Duc</td>\n",
       "      <td>So tu dong</td>\n",
       "      <td>May xang</td>\n",
       "      <td>8 ti 950 trieu</td>\n",
       "      <td>22/08/2024</td>\n",
       "      <td>Lexus</td>\n",
       "    </tr>\n",
       "    <tr>\n",
       "      <th>1</th>\n",
       "      <td>2014 - Mercedes-Benz CLA 200 1.6 I4</td>\n",
       "      <td>2014</td>\n",
       "      <td>Sedan</td>\n",
       "      <td>Nhap khau</td>\n",
       "      <td>60000.0</td>\n",
       "      <td>Ha Noi</td>\n",
       "      <td>Nam Tu Liem</td>\n",
       "      <td>So tu dong</td>\n",
       "      <td>May xang</td>\n",
       "      <td>499 trieu</td>\n",
       "      <td>8/9/2024</td>\n",
       "      <td>Mercedes-Benz</td>\n",
       "    </tr>\n",
       "    <tr>\n",
       "      <th>2</th>\n",
       "      <td>2016 - Mercedes-Benz C200 2.0 AT</td>\n",
       "      <td>2016</td>\n",
       "      <td>Sedan</td>\n",
       "      <td>Trong nuoc</td>\n",
       "      <td>95000.0</td>\n",
       "      <td>Ha Noi</td>\n",
       "      <td>Nam Tu Liem</td>\n",
       "      <td>So tu dong</td>\n",
       "      <td>May xang</td>\n",
       "      <td>639 trieu</td>\n",
       "      <td>17/09/2024</td>\n",
       "      <td>Mercedes-Benz</td>\n",
       "    </tr>\n",
       "    <tr>\n",
       "      <th>3</th>\n",
       "      <td>2015 - Mercedes-Benz C250 AMG</td>\n",
       "      <td>2015</td>\n",
       "      <td>Sedan</td>\n",
       "      <td>Trong nuoc</td>\n",
       "      <td>100000.0</td>\n",
       "      <td>Ha Noi</td>\n",
       "      <td>Nam Tu Liem</td>\n",
       "      <td>So tu dong</td>\n",
       "      <td>May xang</td>\n",
       "      <td>666 trieu</td>\n",
       "      <td>3/9/2024</td>\n",
       "      <td>Mercedes-Benz</td>\n",
       "    </tr>\n",
       "    <tr>\n",
       "      <th>4</th>\n",
       "      <td>2014 - Mercedes-Benz C200 Edition C</td>\n",
       "      <td>2014</td>\n",
       "      <td>Sedan</td>\n",
       "      <td>Trong nuoc</td>\n",
       "      <td>100000.0</td>\n",
       "      <td>Ha Noi</td>\n",
       "      <td>Nam Tu Liem</td>\n",
       "      <td>So tu dong</td>\n",
       "      <td>May xang</td>\n",
       "      <td>420 trieu</td>\n",
       "      <td>2/9/2024</td>\n",
       "      <td>Mercedes-Benz</td>\n",
       "    </tr>\n",
       "  </tbody>\n",
       "</table>\n",
       "</div>"
      ],
      "text/plain": [
       "                                 title  year Body_Type      Origin   Mileage  \\\n",
       "0                  2023 - Lexus LX 600  2023       SUV   Nhap khau   14000.0   \n",
       "1  2014 - Mercedes-Benz CLA 200 1.6 I4  2014     Sedan   Nhap khau   60000.0   \n",
       "2     2016 - Mercedes-Benz C200 2.0 AT  2016     Sedan  Trong nuoc   95000.0   \n",
       "3        2015 - Mercedes-Benz C250 AMG  2015     Sedan  Trong nuoc  100000.0   \n",
       "4  2014 - Mercedes-Benz C200 Edition C  2014     Sedan  Trong nuoc  100000.0   \n",
       "\n",
       "     City     District Transmission Fuel_Type           Price   sale_date  \\\n",
       "0  Tp.HCM      Thu Duc   So tu dong  May xang  8 ti 950 trieu  22/08/2024   \n",
       "1  Ha Noi  Nam Tu Liem   So tu dong  May xang       499 trieu    8/9/2024   \n",
       "2  Ha Noi  Nam Tu Liem   So tu dong  May xang       639 trieu  17/09/2024   \n",
       "3  Ha Noi  Nam Tu Liem   So tu dong  May xang       666 trieu    3/9/2024   \n",
       "4  Ha Noi  Nam Tu Liem   So tu dong  May xang       420 trieu    2/9/2024   \n",
       "\n",
       "    Manufacturer  \n",
       "0          Lexus  \n",
       "1  Mercedes-Benz  \n",
       "2  Mercedes-Benz  \n",
       "3  Mercedes-Benz  \n",
       "4  Mercedes-Benz  "
      ]
     },
     "execution_count": 893,
     "metadata": {},
     "output_type": "execute_result"
    }
   ],
   "source": [
    "df_used_Car.drop(columns='car_id', inplace=True)\n",
    "df_used_Car.head()"
   ]
  },
  {
   "cell_type": "markdown",
   "metadata": {},
   "source": [
    "### Name"
   ]
  },
  {
   "cell_type": "code",
   "execution_count": 894,
   "metadata": {},
   "outputs": [
    {
     "data": {
      "text/plain": [
       "array(['2023', '2014', '2016', '2015', '2017', '2021', '2022', '2019',\n",
       "       '2018', '2007', '2024', '2009', '2011', '2006', '2003', '2020',\n",
       "       '2013', '2010', '2012', '2008', '2000', '1995', '1999', '2004',\n",
       "       '2002', '2005'], dtype=object)"
      ]
     },
     "execution_count": 894,
     "metadata": {},
     "output_type": "execute_result"
    }
   ],
   "source": [
    "filtered_data = df_used_Car['title'].apply(lambda x:x.split(\" - \")[0])\n",
    "filtered_data.unique()"
   ]
  },
  {
   "cell_type": "code",
   "execution_count": 895,
   "metadata": {},
   "outputs": [
    {
     "data": {
      "text/plain": [
       "array([2])"
      ]
     },
     "execution_count": 895,
     "metadata": {},
     "output_type": "execute_result"
    }
   ],
   "source": [
    "filtered_data = df_used_Car['title'].apply(lambda x:len(x.split(\" - \")))\n",
    "filtered_data.unique()"
   ]
  },
  {
   "cell_type": "code",
   "execution_count": 896,
   "metadata": {},
   "outputs": [
    {
     "name": "stdout",
     "output_type": "stream",
     "text": [
      "<class 'pandas.core.frame.DataFrame'>\n",
      "RangeIndex: 1174 entries, 0 to 1173\n",
      "Data columns (total 12 columns):\n",
      " #   Column        Non-Null Count  Dtype \n",
      "---  ------        --------------  ----- \n",
      " 0   year          1174 non-null   object\n",
      " 1   Body_Type     992 non-null    object\n",
      " 2   Origin        1174 non-null   object\n",
      " 3   Mileage       1170 non-null   object\n",
      " 4   City          1174 non-null   object\n",
      " 5   District      1094 non-null   object\n",
      " 6   Transmission  1174 non-null   object\n",
      " 7   Fuel_Type     1174 non-null   object\n",
      " 8   Price         1174 non-null   object\n",
      " 9   sale_date     1174 non-null   object\n",
      " 10  Manufacturer  1174 non-null   object\n",
      " 11  name          1174 non-null   object\n",
      "dtypes: object(12)\n",
      "memory usage: 110.2+ KB\n"
     ]
    }
   ],
   "source": [
    "df_used_Car['name'] = df_used_Car['title'].apply(lambda x:x.split(\" - \")[1])\n",
    "df_used_Car.drop(columns='title', inplace=True)\n",
    "df_used_Car.info()"
   ]
  },
  {
   "cell_type": "markdown",
   "metadata": {},
   "source": [
    "### Public Year"
   ]
  },
  {
   "cell_type": "code",
   "execution_count": 897,
   "metadata": {},
   "outputs": [
    {
     "data": {
      "text/plain": [
       "array(['2023', '2014', '2016', '2015', '2017', '2021', '2022', '2019',\n",
       "       '2018', '2007', '2024', '2009', '2011', '2006', '2003', '2020',\n",
       "       '2013', '2010', '2012', '2008', '2000', '1995', '1999', '2004',\n",
       "       '2002', '2005'], dtype=object)"
      ]
     },
     "execution_count": 897,
     "metadata": {},
     "output_type": "execute_result"
    }
   ],
   "source": [
    "df_used_Car['year'].unique()"
   ]
  },
  {
   "cell_type": "code",
   "execution_count": 898,
   "metadata": {},
   "outputs": [
    {
     "data": {
      "text/plain": [
       "array([2023, 2014, 2016, 2015, 2017, 2021, 2022, 2019, 2018, 2007, 2024,\n",
       "       2009, 2011, 2006, 2003, 2020, 2013, 2010, 2012, 2008, 2000, 1995,\n",
       "       1999, 2004, 2002, 2005])"
      ]
     },
     "execution_count": 898,
     "metadata": {},
     "output_type": "execute_result"
    }
   ],
   "source": [
    "df_used_Car['year'] = df_used_Car['year'].astype(float)\n",
    "df_used_Car['year'] = df_used_Car['year'].astype(int)\n",
    "df_used_Car['year'].unique()"
   ]
  },
  {
   "cell_type": "code",
   "execution_count": 899,
   "metadata": {},
   "outputs": [],
   "source": [
    "df_used_Car.rename(columns={'year': 'Public Year'}, inplace=True)"
   ]
  },
  {
   "cell_type": "markdown",
   "metadata": {},
   "source": [
    "### Origin"
   ]
  },
  {
   "cell_type": "code",
   "execution_count": 900,
   "metadata": {},
   "outputs": [
    {
     "data": {
      "text/plain": [
       "array(['Nhap khau', 'Trong nuoc'], dtype=object)"
      ]
     },
     "execution_count": 900,
     "metadata": {},
     "output_type": "execute_result"
    }
   ],
   "source": [
    "df_used_Car['Origin'].unique()"
   ]
  },
  {
   "cell_type": "code",
   "execution_count": 901,
   "metadata": {},
   "outputs": [
    {
     "data": {
      "text/plain": [
       "array(['Nhap khau', 'Lap rap'], dtype=object)"
      ]
     },
     "execution_count": 901,
     "metadata": {},
     "output_type": "execute_result"
    }
   ],
   "source": [
    "df_used_Car['Origin'] = df_used_Car['Origin'].replace({'Trong nuoc': 'Lap rap'})\n",
    "df_used_Car['Origin'].unique()"
   ]
  },
  {
   "cell_type": "markdown",
   "metadata": {},
   "source": [
    "### Mileage"
   ]
  },
  {
   "cell_type": "code",
   "execution_count": 902,
   "metadata": {},
   "outputs": [],
   "source": [
    "df_used_Car = df_used_Car.dropna(subset=['Mileage'])"
   ]
  },
  {
   "cell_type": "code",
   "execution_count": 903,
   "metadata": {},
   "outputs": [
    {
     "data": {
      "text/plain": [
       "array(['14000.0', '60000.0', '95000.0', '100000.0', '80000.0', '82000.0',\n",
       "       '41000.0', '4000.0', '48000.0', '31000.0', '70000.0', '90000.0',\n",
       "       '50000.0', '32000.0', '14600.0', '29000.0', '22900.0', '85000.0',\n",
       "       '10000.0', '20000.0', '150000.0', '42000.0', '5000.0', '120000.0',\n",
       "       '96000.0', '39000.0', '30000.0', '19000.0', '56000.0', '56789.0',\n",
       "       '180000.0', '81234.0', '105000.0', '43000.0', '110000.0',\n",
       "       '140000.0', '58000.0', '91000.0', '59999.0', '33000.0', '68000.0',\n",
       "       '123456.0', '13000.0', '38000.0', '135000.0', '40000.0', '88000.0',\n",
       "       '9000.0', '15000.0', '109000.0', '26000.0', '1000.0', '18000.0',\n",
       "       '74000.0', '12000.0', '81000.0', '53000.0', '64000.0', '79000.0',\n",
       "       '55600.0', '83000.0', '36000.0', '62000.0', '35689.0', '55000.0',\n",
       "       '129000.0', '44000.0', '45000.0', '130000.0', '17000.0',\n",
       "       '112000.0', '91689.0', '91268.0', '36899.0', '33689.0', '45689.0',\n",
       "       '78999.0', '39899.0', '56899.0', '6846.0', '28000.0', '11000.0',\n",
       "       '65000.0', '25000.0', '250000.0', '52000.0', '73000.0', '55560.0',\n",
       "       '66600.0', '69000.0', '37000.0', '35000.0', '17300.0', '54000.0',\n",
       "       '9200.0', '59000.0', '2200.0', '8888.0', '28888.0', '27777.0',\n",
       "       '86000.0', '37500.0', '16000.0', '102000.0', '47000.0', '3000.0',\n",
       "       '131000.0', '49000.0', '38500.0', '20800.0', '75000.0', '1345.0',\n",
       "       '64999.0', '8000.0', '24000.0', '166000.0', '117000.0', '150.0',\n",
       "       '160000.0', '12222.0', '27000.0', '63000.0', '23000.0', '5678.0',\n",
       "       '21000.0', '21053.0', '300.0', '71100.0', '62950.0', '22000.0',\n",
       "       '3900.0', '118000.0', '31227.0', '11111.0', '57000.0', '6100.0',\n",
       "       '61000.0', '6500.0', '87000.0', '140250.0', '9500.0', '46000.0',\n",
       "       '6900.0', '12345.0', '67000.0', '93000.0', '1.0', '149000.0',\n",
       "       '78000.0', '92000.0', '111.0', '200000.0', '98000.0', '70.0',\n",
       "       '113000.0', '500.0', '190000.0', '8600.0', '63333.0', '8300.0',\n",
       "       '72000.0', '77000.0', '8500.0', '220000.0', '280000.0', '18888.0',\n",
       "       '10000000.0', '170000.0', '38888.0', '21500.0', '89000.0',\n",
       "       '134000.0', '1500.0', '2345.0', '123789.0', '24700.0', '6800.0',\n",
       "       '11.0', '84000.0', '600.0', '112345.0', '66000.0', '124000.0',\n",
       "       '167000.0', '10500.0', '145000.0', '6000.0', '9650.0', '34000.0',\n",
       "       '66900.0', '151000.0', '41700.0', '72689.0', '105689.0', '51000.0',\n",
       "       '111000.0', '7600.0', '86009.0', '780000.0', '63.0', '2300.0',\n",
       "       '32222.0', '7000.0', '79.0', '1305.0', '50300.0', '157.0', '40.0',\n",
       "       '6200.0', '32900.0', '8950.0', '71000.0', '115000.0', '60.0',\n",
       "       '125000.0', '19868.0', '5800.0', '571.0', '2222.0', '126000.0',\n",
       "       '4300.0', '73569.0', '220983.0', '48300.0'], dtype=object)"
      ]
     },
     "execution_count": 903,
     "metadata": {},
     "output_type": "execute_result"
    }
   ],
   "source": [
    "df_used_Car['Mileage'].unique()"
   ]
  },
  {
   "cell_type": "code",
   "execution_count": 904,
   "metadata": {},
   "outputs": [
    {
     "name": "stderr",
     "output_type": "stream",
     "text": [
      "C:\\Users\\Admin\\AppData\\Local\\Temp\\ipykernel_26584\\3925398424.py:1: SettingWithCopyWarning: \n",
      "A value is trying to be set on a copy of a slice from a DataFrame.\n",
      "Try using .loc[row_indexer,col_indexer] = value instead\n",
      "\n",
      "See the caveats in the documentation: https://pandas.pydata.org/pandas-docs/stable/user_guide/indexing.html#returning-a-view-versus-a-copy\n",
      "  df_used_Car['Mileage'] = df_used_Car['Mileage'].astype(float)\n",
      "C:\\Users\\Admin\\AppData\\Local\\Temp\\ipykernel_26584\\3925398424.py:2: SettingWithCopyWarning: \n",
      "A value is trying to be set on a copy of a slice from a DataFrame.\n",
      "Try using .loc[row_indexer,col_indexer] = value instead\n",
      "\n",
      "See the caveats in the documentation: https://pandas.pydata.org/pandas-docs/stable/user_guide/indexing.html#returning-a-view-versus-a-copy\n",
      "  df_used_Car['Mileage'] = df_used_Car['Mileage'].astype(int)\n"
     ]
    }
   ],
   "source": [
    "df_used_Car['Mileage'] = df_used_Car['Mileage'].astype(float)\n",
    "df_used_Car['Mileage'] = df_used_Car['Mileage'].astype(int)"
   ]
  },
  {
   "cell_type": "markdown",
   "metadata": {},
   "source": [
    "### City, District"
   ]
  },
  {
   "cell_type": "code",
   "execution_count": 905,
   "metadata": {},
   "outputs": [
    {
     "data": {
      "text/plain": [
       "array(['Tp.HCM', 'Ha Noi', 'Hai Duong', 'Hai Phong', 'Bac Ninh',\n",
       "       'Nghe An', 'Thanh Hoa', 'Quang Ninh', 'Binh Duong', 'Gia Lai',\n",
       "       'Lam Dong', 'Thua Thien Hue', 'Hung Yen', 'Dak Lak', 'Nam Dinh',\n",
       "       'Dong Nai', 'Long An', 'Ba Ria Vung Tau', 'Phu Tho', 'Quang Tri',\n",
       "       'Dien Bien', 'Hoa Binh', 'Can Tho', 'Bac Giang', 'Thai Binh',\n",
       "       'Cao Bang', 'Son La', 'Vinh Phuc', 'Binh Dinh', 'Phu Yen'],\n",
       "      dtype=object)"
      ]
     },
     "execution_count": 905,
     "metadata": {},
     "output_type": "execute_result"
    }
   ],
   "source": [
    "df_used_Car['City'].unique()"
   ]
  },
  {
   "cell_type": "code",
   "execution_count": 906,
   "metadata": {},
   "outputs": [
    {
     "name": "stderr",
     "output_type": "stream",
     "text": [
      "C:\\Users\\Admin\\AppData\\Local\\Temp\\ipykernel_26584\\672521784.py:1: SettingWithCopyWarning: \n",
      "A value is trying to be set on a copy of a slice from a DataFrame\n",
      "\n",
      "See the caveats in the documentation: https://pandas.pydata.org/pandas-docs/stable/user_guide/indexing.html#returning-a-view-versus-a-copy\n",
      "  df_used_Car.drop(columns='District', inplace=True)\n"
     ]
    }
   ],
   "source": [
    "df_used_Car.drop(columns='District', inplace=True)"
   ]
  },
  {
   "cell_type": "markdown",
   "metadata": {},
   "source": [
    "### Transmission"
   ]
  },
  {
   "cell_type": "code",
   "execution_count": 907,
   "metadata": {},
   "outputs": [
    {
     "data": {
      "text/plain": [
       "array(['So tu dong', 'So san', 'So hon hop'], dtype=object)"
      ]
     },
     "execution_count": 907,
     "metadata": {},
     "output_type": "execute_result"
    }
   ],
   "source": [
    "df_used_Car['Transmission'].unique()"
   ]
  },
  {
   "cell_type": "markdown",
   "metadata": {},
   "source": [
    "### Fuel Type"
   ]
  },
  {
   "cell_type": "code",
   "execution_count": 908,
   "metadata": {},
   "outputs": [
    {
     "data": {
      "text/plain": [
       "array(['May xang', 'May dau', 'Hybrid', 'Dien'], dtype=object)"
      ]
     },
     "execution_count": 908,
     "metadata": {},
     "output_type": "execute_result"
    }
   ],
   "source": [
    "df_used_Car['Fuel_Type'].unique()"
   ]
  },
  {
   "cell_type": "code",
   "execution_count": 909,
   "metadata": {},
   "outputs": [
    {
     "name": "stderr",
     "output_type": "stream",
     "text": [
      "C:\\Users\\Admin\\AppData\\Local\\Temp\\ipykernel_26584\\1625322093.py:1: SettingWithCopyWarning: \n",
      "A value is trying to be set on a copy of a slice from a DataFrame.\n",
      "Try using .loc[row_indexer,col_indexer] = value instead\n",
      "\n",
      "See the caveats in the documentation: https://pandas.pydata.org/pandas-docs/stable/user_guide/indexing.html#returning-a-view-versus-a-copy\n",
      "  df_used_Car['Fuel_Type'] = df_used_Car['Fuel_Type'].replace({'May xang': 'Xang', 'May dau': 'Dau',})\n"
     ]
    },
    {
     "data": {
      "text/plain": [
       "array(['Xang', 'Dau', 'Hybrid', 'Dien'], dtype=object)"
      ]
     },
     "execution_count": 909,
     "metadata": {},
     "output_type": "execute_result"
    }
   ],
   "source": [
    "df_used_Car['Fuel_Type'] = df_used_Car['Fuel_Type'].replace({'May xang': 'Xang', 'May dau': 'Dau',})\n",
    "df_used_Car['Fuel_Type'].unique()"
   ]
  },
  {
   "cell_type": "markdown",
   "metadata": {},
   "source": [
    "### Manufacturer"
   ]
  },
  {
   "cell_type": "code",
   "execution_count": 910,
   "metadata": {},
   "outputs": [
    {
     "data": {
      "text/plain": [
       "array(['Lexus', 'Mercedes-Benz', 'Ford', 'Porsche', 'Toyota',\n",
       "       'Mitsubishi', 'Nissan', 'Hyundai', 'Infiniti', 'Kia', 'Honda',\n",
       "       'Chevrolet', 'VinFast', 'Bentley', 'Land Rover', 'Audi', 'BMW',\n",
       "       'Daewoo', 'McLaren', 'Mazda', 'Suzuki', 'Jaguar', 'Peugeot',\n",
       "       'Ferrari', 'MG', 'Volvo', 'Rolls-Royce', 'Cadillac', 'Jeep',\n",
       "       'Volkswagen', 'Dodge', 'Lincoln', 'Isuzu', 'Renault', 'Mini'],\n",
       "      dtype=object)"
      ]
     },
     "execution_count": 910,
     "metadata": {},
     "output_type": "execute_result"
    }
   ],
   "source": [
    "df_used_Car['Manufacturer'].unique()"
   ]
  },
  {
   "cell_type": "code",
   "execution_count": 911,
   "metadata": {},
   "outputs": [
    {
     "name": "stderr",
     "output_type": "stream",
     "text": [
      "C:\\Users\\Admin\\AppData\\Local\\Temp\\ipykernel_26584\\1389325563.py:1: SettingWithCopyWarning: \n",
      "A value is trying to be set on a copy of a slice from a DataFrame.\n",
      "Try using .loc[row_indexer,col_indexer] = value instead\n",
      "\n",
      "See the caveats in the documentation: https://pandas.pydata.org/pandas-docs/stable/user_guide/indexing.html#returning-a-view-versus-a-copy\n",
      "  df_used_Car['Manufacturer'] = df_used_Car['Manufacturer'].replace({'Mercedes-Benz': 'Mercedes'})\n"
     ]
    },
    {
     "data": {
      "text/plain": [
       "array(['Lexus', 'Mercedes', 'Ford', 'Porsche', 'Toyota', 'Mitsubishi',\n",
       "       'Nissan', 'Hyundai', 'Infiniti', 'Kia', 'Honda', 'Chevrolet',\n",
       "       'VinFast', 'Bentley', 'Land Rover', 'Audi', 'BMW', 'Daewoo',\n",
       "       'McLaren', 'Mazda', 'Suzuki', 'Jaguar', 'Peugeot', 'Ferrari', 'MG',\n",
       "       'Volvo', 'Rolls-Royce', 'Cadillac', 'Jeep', 'Volkswagen', 'Dodge',\n",
       "       'Lincoln', 'Isuzu', 'Renault', 'Mini'], dtype=object)"
      ]
     },
     "execution_count": 911,
     "metadata": {},
     "output_type": "execute_result"
    }
   ],
   "source": [
    "df_used_Car['Manufacturer'] = df_used_Car['Manufacturer'].replace({'Mercedes-Benz': 'Mercedes'})\n",
    "df_used_Car['Manufacturer'].unique()"
   ]
  },
  {
   "cell_type": "markdown",
   "metadata": {},
   "source": [
    "### Price"
   ]
  },
  {
   "cell_type": "code",
   "execution_count": 912,
   "metadata": {},
   "outputs": [],
   "source": [
    "def convert_price(price_str):\n",
    "    price_str = price_str.replace(\" trieu\", \"\").strip()\n",
    "\n",
    "    parts = price_str.split(\" \")\n",
    "\n",
    "    total = 0\n",
    "    if 'ti' in parts:\n",
    "        if len(parts) == 2:\n",
    "            total += int(parts[0])*1000\n",
    "        else:\n",
    "            total += int(parts[0]) * 1000 + int(parts[2])\n",
    "    else:\n",
    "        total += int(parts[0])\n",
    "\n",
    "    return total\n"
   ]
  },
  {
   "cell_type": "code",
   "execution_count": 913,
   "metadata": {},
   "outputs": [
    {
     "data": {
      "text/plain": [
       "array(['8 ti 950 trieu', '499 trieu', '639 trieu', '666 trieu',\n",
       "       '420 trieu', '1 ti 399 trieu', '445 trieu', '925 trieu',\n",
       "       '1 ti 950 trieu', '995 trieu', '3 ti 999 trieu', '369 trieu',\n",
       "       '450 trieu', '569 trieu', '415 trieu', '799 trieu',\n",
       "       '1 ti 979 trieu', '4 ti 879 trieu', '385 trieu', '725 trieu',\n",
       "       '870 trieu', '3 ti 180 trieu', '485 trieu', '880 trieu',\n",
       "       '1 ti 799 trieu', '3 ti 430 trieu', '525 trieu', '690 trieu',\n",
       "       '875 trieu', '660 trieu', '288 trieu', '939 trieu',\n",
       "       '8 ti 340 trieu', '1 ti 125 trieu', '340 trieu', '495 trieu',\n",
       "       '830 trieu', '115 trieu', '727 trieu', '3 ti 450 trieu',\n",
       "       '435 trieu', '2 ti 299 trieu', '650 trieu', '388 trieu',\n",
       "       '390 trieu', '555 trieu', '559 trieu', '685 trieu', '905 trieu',\n",
       "       '310 trieu', '5 ti 599 trieu', '1 ti 499 trieu', '440 trieu',\n",
       "       '950 trieu', '258 trieu', '989 trieu', '1 ti 920 trieu',\n",
       "       '1 ti 740 trieu', '125 trieu', '2 ti 850 trieu', '1 ti 680 trieu',\n",
       "       '1 ti 479 trieu', '9 ti 400 trieu', '498 trieu', '558 trieu',\n",
       "       '510 trieu', '745 trieu', '339 trieu', '6 ti 900 trieu',\n",
       "       '395 trieu', '1 ti 699 trieu', '980 trieu', '1 ti 450 trieu',\n",
       "       '790 trieu', '8 ti 900 trieu', '1 ti 890 trieu', '670 trieu',\n",
       "       '7 ti 900 trieu', '1 ti 130 trieu', '599 trieu', '6 ti 100 trieu',\n",
       "       '7 ti 399 trieu', '1 ti 380 trieu', '3 ti 750 trieu',\n",
       "       '3 ti 800 trieu', '699 trieu', '356 trieu', '439 trieu',\n",
       "       '505 trieu', '70 trieu', '218 trieu', '268 trieu', '588 trieu',\n",
       "       '79 trieu', '240 trieu', '515 trieu', '975 trieu',\n",
       "       '1 ti 296 trieu', '5 ti 999 trieu', '409 trieu', '345 trieu',\n",
       "       '539 trieu', '399 trieu', '535 trieu', '565 trieu', '489 trieu',\n",
       "       '585 trieu', '469 trieu', '1 ti 419 trieu', '619 trieu',\n",
       "       '4 ti 445 trieu', '320 trieu', '575 trieu', '199 trieu',\n",
       "       '475 trieu', '655 trieu', '734 trieu', '286 trieu', '109 trieu',\n",
       "       '220 trieu', '75 trieu', '2 ti 599 trieu', '1 ti 040 trieu',\n",
       "       '342 trieu', '2 ti 590 trieu', '449 trieu', '453 trieu',\n",
       "       '615 trieu', '275 trieu', '1 ti 199 trieu', '595 trieu',\n",
       "       '970 trieu', '785 trieu', '488 trieu', '479 trieu',\n",
       "       '2 ti 639 trieu', '1 ti 039 trieu', '1 ti 259 trieu',\n",
       "       '1 ti 999 trieu', '2 ti 699 trieu', '518 trieu', '838 trieu',\n",
       "       '455 trieu', '355 trieu', '748 trieu', '425 trieu', '261 trieu',\n",
       "       '700 trieu', '330 trieu', '22 ti 999 trieu', '1 ti 240 trieu',\n",
       "       '470 trieu', '529 trieu', '545 trieu', '4 ti 499 trieu',\n",
       "       '1 ti 489 trieu', '1 ti 329 trieu', '2 ti 098 trieu',\n",
       "       '1 ti 698 trieu', '769 trieu', '530 trieu', '465 trieu',\n",
       "       '620 trieu', '788 trieu', '4 ti 089 trieu', '969 trieu',\n",
       "       '1 ti 080 trieu', '1 ti 639 trieu', '520 trieu', '120 trieu',\n",
       "       '269 trieu', '170 trieu', '138 trieu', '230 trieu', '195 trieu',\n",
       "       '6 ti 499 trieu', '919 trieu', '899 trieu', '9 ti 800 trieu',\n",
       "       '710 trieu', '1 ti 660 trieu', '589 trieu', '1 ti 279 trieu',\n",
       "       '1 ti 239 trieu', '4 ti 598 trieu', '1 ti 050 trieu',\n",
       "       '4 ti 299 trieu', '2 ti 880 trieu', '4 ti 890 trieu', '219 trieu',\n",
       "       '265 trieu', '299 trieu', '658 trieu', '550 trieu', '570 trieu',\n",
       "       '1 ti 527 trieu', '765 trieu', '890 trieu', '300 trieu',\n",
       "       '955 trieu', '1 ti 086 trieu', '888 trieu', '1 ti 315 trieu',\n",
       "       '350 trieu', '1 ti 585 trieu', '1 ti 110 trieu', '895 trieu',\n",
       "       '860 trieu', '1 ti 120 trieu', '1 ti 069 trieu', '3 ti 599 trieu',\n",
       "       '4 ti 190 trieu', '2 ti 588 trieu', '853 trieu', '1 ti 180 trieu',\n",
       "       '709 trieu', '735 trieu', '1 ti 445 trieu', '1 ti 850 trieu',\n",
       "       '540 trieu', '865 trieu', '3 ti 269 trieu', '629 trieu',\n",
       "       '659 trieu', '458 trieu', '2 ti 888 trieu', '728 trieu',\n",
       "       '669 trieu', '325 trieu', '738 trieu', '855 trieu', '689 trieu',\n",
       "       '338 trieu', '630 trieu', '720 trieu', '625 trieu',\n",
       "       '2 ti 150 trieu', '4 ti 900 trieu', '5 ti 500 trieu', '635 trieu',\n",
       "       '1 ti 830 trieu', '295 trieu', '315 trieu', '368 trieu',\n",
       "       '348 trieu', '13 ti 900 trieu', '4 ti 350 trieu', '580 trieu',\n",
       "       '845 trieu', '1 ti 159 trieu', '1 ti 789 trieu', '2 ti 039 trieu',\n",
       "       '2 ti 579 trieu', '1 ti 099 trieu', '1 ti 386 trieu', '640 trieu',\n",
       "       '519 trieu', '679 trieu', '1 ti 179 trieu', '1 ti 486 trieu',\n",
       "       '610 trieu', '3 ti 850 trieu', '250 trieu', '1 ti 978 trieu',\n",
       "       '4 ti 098 trieu', '920 trieu', '915 trieu', '150 trieu',\n",
       "       '151 trieu', '270 trieu', '279 trieu', '1 ti 250 trieu',\n",
       "       '820 trieu', '730 trieu', '750 trieu', '810 trieu', '656 trieu',\n",
       "       '1 ti 265 trieu', '2 ti 099 trieu', '4 ti 268 trieu', '408 trieu',\n",
       "       '418 trieu', '889 trieu', '1 ti 330 trieu', '105 trieu',\n",
       "       '280 trieu', '600 trieu', '680 trieu', '335 trieu', '13 ti',\n",
       "       '383 trieu', '322 trieu', '430 trieu', '1 ti 299 trieu',\n",
       "       '161 trieu', '9 ti 179 trieu', '909 trieu', '14 ti 499 trieu',\n",
       "       '228 trieu', '155 trieu', '245 trieu', '657 trieu', '135 trieu',\n",
       "       '1 ti 190 trieu', '336 trieu', '5 ti 700 trieu', '4 ti 200 trieu',\n",
       "       '290 trieu', '2 ti 100 trieu', '1 ti 949 trieu', '858 trieu',\n",
       "       '739 trieu', '1 ti 389 trieu', '4 ti 239 trieu', '695 trieu',\n",
       "       '248 trieu', '4 ti 360 trieu', '460 trieu', '8 ti 990 trieu',\n",
       "       '668 trieu', '763 trieu', '4 ti 630 trieu', '1 ti 379 trieu',\n",
       "       '636 trieu', '2 ti 879 trieu', '4 ti 300 trieu', '266 trieu',\n",
       "       '305 trieu', '156 trieu', '3 ti 880 trieu', '705 trieu',\n",
       "       '468 trieu', '959 trieu', '4 ti 599 trieu', '319 trieu',\n",
       "       '168 trieu', '910 trieu', '795 trieu', '68 trieu', '990 trieu',\n",
       "       '285 trieu', '428 trieu', '609 trieu', '789 trieu',\n",
       "       '2 ti 479 trieu', '186 trieu', '1 ti 015 trieu', '459 trieu',\n",
       "       '2 ti 500 trieu', '4 ti 980 trieu', '480 trieu', '538 trieu',\n",
       "       '128 trieu', '835 trieu', '2 ti 450 trieu', '4 ti 860 trieu',\n",
       "       '1 ti 055 trieu', '718 trieu', '1 ti 790 trieu', '1 ti 880 trieu',\n",
       "       '197 trieu', '410 trieu', '454 trieu', '312 trieu', '309 trieu',\n",
       "       '645 trieu', '3 ti 079 trieu', '526 trieu', '2 ti 379 trieu',\n",
       "       '1 ti 390 trieu', '8 ti 500 trieu', '419 trieu', '2 ti 980 trieu',\n",
       "       '1 ti 879 trieu', '548 trieu', '1 ti 215 trieu', '1 ti 139 trieu',\n",
       "       '329 trieu', '3 ti 979 trieu', '180 trieu', '200 trieu',\n",
       "       '215 trieu', '900 trieu', '318 trieu', '2 ti 180 trieu',\n",
       "       '405 trieu', '4 ti 099 trieu', '2 ti 380 trieu', '590 trieu',\n",
       "       '1 ti 140 trieu', '1 ti 480 trieu', '903 trieu', '2 ti 289 trieu',\n",
       "       '760 trieu', '2 ti 260 trieu', '688 trieu', '2 ti 499 trieu',\n",
       "       '516 trieu', '486 trieu', '3 ti 499 trieu', '3 ti 250 trieu',\n",
       "       '2 ti 399 trieu', '2 ti 480 trieu', '675 trieu', '815 trieu',\n",
       "       '840 trieu', '389 trieu', '500 trieu', '6 ti 950 trieu',\n",
       "       '185 trieu', '165 trieu', '98 trieu', '198 trieu', '175 trieu',\n",
       "       '235 trieu', '139 trieu', '306 trieu', '624 trieu',\n",
       "       '7 ti 379 trieu', '6 ti 679 trieu', '780 trieu', '4 ti 450 trieu',\n",
       "       '14 ti 500 trieu', '6 ti 790 trieu', '4 ti 550 trieu',\n",
       "       '1 ti 150 trieu', '3 ti 379 trieu', '1 ti 550 trieu', '786 trieu',\n",
       "       '1 ti 538 trieu', '1 ti 869 trieu', '2 ti 400 trieu', '708 trieu',\n",
       "       '885 trieu', '560 trieu', '130 trieu', '95 trieu', '173 trieu',\n",
       "       '4 ti 279 trieu', '2 ti 279 trieu', '178 trieu', '1 ti 280 trieu',\n",
       "       '1 ti 320 trieu', '490 trieu', '839 trieu', '1 ti 175 trieu',\n",
       "       '1 ti 690 trieu', '289 trieu', '1 ti 230 trieu', '648 trieu',\n",
       "       '638 trieu', '96 trieu', '380 trieu', '1 ti 650 trieu',\n",
       "       '11 ti 650 trieu', '429 trieu', '3 ti 139 trieu', '1 ti 439 trieu',\n",
       "       '255 trieu', '365 trieu', '1 ti 339 trieu', '3 ti 199 trieu',\n",
       "       '568 trieu', '1 ti 195 trieu', '359 trieu', '768 trieu',\n",
       "       '999 trieu', '715 trieu', '2 ti 979 trieu', '1 ti 539 trieu',\n",
       "       '1 ti 798 trieu', '665 trieu', '605 trieu', '579 trieu',\n",
       "       '4 ti 500 trieu', '819 trieu', '698 trieu', '376 trieu',\n",
       "       '869 trieu', '850 trieu', '140 trieu', '216 trieu',\n",
       "       '1 ti 185 trieu', '90 trieu', '360 trieu', '1 ti 090 trieu',\n",
       "       '1 ti 679 trieu', '719 trieu', '859 trieu', '337 trieu',\n",
       "       '3 ti 890 trieu', '512 trieu', '1 ti 468 trieu', '868 trieu',\n",
       "       '1 ti 769 trieu', '2 ti 779 trieu', '6 ti 599 trieu',\n",
       "       '26 ti 999 trieu', '349 trieu', '554 trieu', '448 trieu',\n",
       "       '1 ti 305 trieu', '755 trieu', '473 trieu', '930 trieu',\n",
       "       '1 ti 829 trieu', '762 trieu', '704 trieu', '1 ti 859 trieu',\n",
       "       '935 trieu', '965 trieu', '1 ti 289 trieu', '4 ti 139 trieu',\n",
       "       '1 ti 298 trieu', '1 ti 188 trieu', '239 trieu', '714 trieu',\n",
       "       '6 ti 250 trieu', '3 ti 650 trieu', '1 ti 589 trieu',\n",
       "       '1 ti 268 trieu', '1 ti 270 trieu', '686 trieu', '632 trieu',\n",
       "       '1 ti 388 trieu', '189 trieu', '2 ti 999 trieu', '3 ti 950 trieu',\n",
       "       '2 ti 079 trieu', '1 ti 455 trieu', '1 ti 759 trieu',\n",
       "       '1 ti 160 trieu', '1 ti 252 trieu', '1 ti 282 trieu',\n",
       "       '1 ti 669 trieu', '1 ti 269 trieu', '1 ti 469 trieu',\n",
       "       '9 ti 650 trieu', '7 ti 350 trieu', '4 ti 590 trieu',\n",
       "       '9 ti 550 trieu', '8 ti 150 trieu', '2 ti 950 trieu',\n",
       "       '6 ti 690 trieu', '1 ti 899 trieu', '2 ti 089 trieu', '770 trieu',\n",
       "       '436 trieu', '11 ti 989 trieu', '9 ti 450 trieu', '59 trieu',\n",
       "       '1 ti 360 trieu', '210 trieu', '508 trieu', '229 trieu',\n",
       "       '2 ti 650 trieu', '5 ti 788 trieu', '3 ti 198 trieu', '241 trieu',\n",
       "       '1 ti 590 trieu'], dtype=object)"
      ]
     },
     "execution_count": 913,
     "metadata": {},
     "output_type": "execute_result"
    }
   ],
   "source": [
    "df_used_Car['Price'].unique()"
   ]
  },
  {
   "cell_type": "code",
   "execution_count": 914,
   "metadata": {},
   "outputs": [
    {
     "name": "stderr",
     "output_type": "stream",
     "text": [
      "C:\\Users\\Admin\\AppData\\Local\\Temp\\ipykernel_26584\\3723713032.py:1: SettingWithCopyWarning: \n",
      "A value is trying to be set on a copy of a slice from a DataFrame.\n",
      "Try using .loc[row_indexer,col_indexer] = value instead\n",
      "\n",
      "See the caveats in the documentation: https://pandas.pydata.org/pandas-docs/stable/user_guide/indexing.html#returning-a-view-versus-a-copy\n",
      "  df_used_Car['Price'] = df_used_Car['Price'].apply(convert_price)\n"
     ]
    },
    {
     "data": {
      "text/html": [
       "<div>\n",
       "<style scoped>\n",
       "    .dataframe tbody tr th:only-of-type {\n",
       "        vertical-align: middle;\n",
       "    }\n",
       "\n",
       "    .dataframe tbody tr th {\n",
       "        vertical-align: top;\n",
       "    }\n",
       "\n",
       "    .dataframe thead th {\n",
       "        text-align: right;\n",
       "    }\n",
       "</style>\n",
       "<table border=\"1\" class=\"dataframe\">\n",
       "  <thead>\n",
       "    <tr style=\"text-align: right;\">\n",
       "      <th></th>\n",
       "      <th>Public Year</th>\n",
       "      <th>Body_Type</th>\n",
       "      <th>Origin</th>\n",
       "      <th>Mileage</th>\n",
       "      <th>City</th>\n",
       "      <th>Transmission</th>\n",
       "      <th>Fuel_Type</th>\n",
       "      <th>Price</th>\n",
       "      <th>sale_date</th>\n",
       "      <th>Manufacturer</th>\n",
       "      <th>name</th>\n",
       "    </tr>\n",
       "  </thead>\n",
       "  <tbody>\n",
       "    <tr>\n",
       "      <th>0</th>\n",
       "      <td>2023</td>\n",
       "      <td>SUV</td>\n",
       "      <td>Nhap khau</td>\n",
       "      <td>14000</td>\n",
       "      <td>Tp.HCM</td>\n",
       "      <td>So tu dong</td>\n",
       "      <td>Xang</td>\n",
       "      <td>8950</td>\n",
       "      <td>22/08/2024</td>\n",
       "      <td>Lexus</td>\n",
       "      <td>Lexus LX 600</td>\n",
       "    </tr>\n",
       "    <tr>\n",
       "      <th>1</th>\n",
       "      <td>2014</td>\n",
       "      <td>Sedan</td>\n",
       "      <td>Nhap khau</td>\n",
       "      <td>60000</td>\n",
       "      <td>Ha Noi</td>\n",
       "      <td>So tu dong</td>\n",
       "      <td>Xang</td>\n",
       "      <td>499</td>\n",
       "      <td>8/9/2024</td>\n",
       "      <td>Mercedes</td>\n",
       "      <td>Mercedes-Benz CLA 200 1.6 I4</td>\n",
       "    </tr>\n",
       "    <tr>\n",
       "      <th>2</th>\n",
       "      <td>2016</td>\n",
       "      <td>Sedan</td>\n",
       "      <td>Lap rap</td>\n",
       "      <td>95000</td>\n",
       "      <td>Ha Noi</td>\n",
       "      <td>So tu dong</td>\n",
       "      <td>Xang</td>\n",
       "      <td>639</td>\n",
       "      <td>17/09/2024</td>\n",
       "      <td>Mercedes</td>\n",
       "      <td>Mercedes-Benz C200 2.0 AT</td>\n",
       "    </tr>\n",
       "    <tr>\n",
       "      <th>3</th>\n",
       "      <td>2015</td>\n",
       "      <td>Sedan</td>\n",
       "      <td>Lap rap</td>\n",
       "      <td>100000</td>\n",
       "      <td>Ha Noi</td>\n",
       "      <td>So tu dong</td>\n",
       "      <td>Xang</td>\n",
       "      <td>666</td>\n",
       "      <td>3/9/2024</td>\n",
       "      <td>Mercedes</td>\n",
       "      <td>Mercedes-Benz C250 AMG</td>\n",
       "    </tr>\n",
       "    <tr>\n",
       "      <th>4</th>\n",
       "      <td>2014</td>\n",
       "      <td>Sedan</td>\n",
       "      <td>Lap rap</td>\n",
       "      <td>100000</td>\n",
       "      <td>Ha Noi</td>\n",
       "      <td>So tu dong</td>\n",
       "      <td>Xang</td>\n",
       "      <td>420</td>\n",
       "      <td>2/9/2024</td>\n",
       "      <td>Mercedes</td>\n",
       "      <td>Mercedes-Benz C200 Edition C</td>\n",
       "    </tr>\n",
       "    <tr>\n",
       "      <th>5</th>\n",
       "      <td>2016</td>\n",
       "      <td>Sedan</td>\n",
       "      <td>Lap rap</td>\n",
       "      <td>80000</td>\n",
       "      <td>Ha Noi</td>\n",
       "      <td>So tu dong</td>\n",
       "      <td>Xang</td>\n",
       "      <td>1399</td>\n",
       "      <td>8/9/2024</td>\n",
       "      <td>Mercedes</td>\n",
       "      <td>Mercedes-Benz S400 3.0 V6</td>\n",
       "    </tr>\n",
       "    <tr>\n",
       "      <th>6</th>\n",
       "      <td>2017</td>\n",
       "      <td>SUV</td>\n",
       "      <td>Lap rap</td>\n",
       "      <td>82000</td>\n",
       "      <td>Tp.HCM</td>\n",
       "      <td>So tu dong</td>\n",
       "      <td>Xang</td>\n",
       "      <td>445</td>\n",
       "      <td>19/09/2024</td>\n",
       "      <td>Ford</td>\n",
       "      <td>Ford Focus 1.5L EcoBoost Sport</td>\n",
       "    </tr>\n",
       "    <tr>\n",
       "      <th>7</th>\n",
       "      <td>2021</td>\n",
       "      <td>SUV</td>\n",
       "      <td>Lap rap</td>\n",
       "      <td>41000</td>\n",
       "      <td>Tp.HCM</td>\n",
       "      <td>So tu dong</td>\n",
       "      <td>Xang</td>\n",
       "      <td>925</td>\n",
       "      <td>19/09/2024</td>\n",
       "      <td>Ford</td>\n",
       "      <td>Ford Everest Titanium 2.0 AT 4x2</td>\n",
       "    </tr>\n",
       "    <tr>\n",
       "      <th>8</th>\n",
       "      <td>2022</td>\n",
       "      <td>SUV</td>\n",
       "      <td>Nhap khau</td>\n",
       "      <td>4000</td>\n",
       "      <td>Tp.HCM</td>\n",
       "      <td>So tu dong</td>\n",
       "      <td>Xang</td>\n",
       "      <td>1950</td>\n",
       "      <td>19/09/2024</td>\n",
       "      <td>Ford</td>\n",
       "      <td>Ford Explorer Limited</td>\n",
       "    </tr>\n",
       "    <tr>\n",
       "      <th>9</th>\n",
       "      <td>2022</td>\n",
       "      <td>Ban Tai</td>\n",
       "      <td>Nhap khau</td>\n",
       "      <td>48000</td>\n",
       "      <td>Tp.HCM</td>\n",
       "      <td>So tu dong</td>\n",
       "      <td>Dau</td>\n",
       "      <td>995</td>\n",
       "      <td>15/09/2024</td>\n",
       "      <td>Ford</td>\n",
       "      <td>Ford Ranger Raptor</td>\n",
       "    </tr>\n",
       "  </tbody>\n",
       "</table>\n",
       "</div>"
      ],
      "text/plain": [
       "   Public Year Body_Type     Origin  Mileage    City Transmission Fuel_Type  \\\n",
       "0         2023       SUV  Nhap khau    14000  Tp.HCM   So tu dong      Xang   \n",
       "1         2014     Sedan  Nhap khau    60000  Ha Noi   So tu dong      Xang   \n",
       "2         2016     Sedan    Lap rap    95000  Ha Noi   So tu dong      Xang   \n",
       "3         2015     Sedan    Lap rap   100000  Ha Noi   So tu dong      Xang   \n",
       "4         2014     Sedan    Lap rap   100000  Ha Noi   So tu dong      Xang   \n",
       "5         2016     Sedan    Lap rap    80000  Ha Noi   So tu dong      Xang   \n",
       "6         2017       SUV    Lap rap    82000  Tp.HCM   So tu dong      Xang   \n",
       "7         2021       SUV    Lap rap    41000  Tp.HCM   So tu dong      Xang   \n",
       "8         2022       SUV  Nhap khau     4000  Tp.HCM   So tu dong      Xang   \n",
       "9         2022   Ban Tai  Nhap khau    48000  Tp.HCM   So tu dong       Dau   \n",
       "\n",
       "   Price   sale_date Manufacturer                              name  \n",
       "0   8950  22/08/2024        Lexus                      Lexus LX 600  \n",
       "1    499    8/9/2024     Mercedes      Mercedes-Benz CLA 200 1.6 I4  \n",
       "2    639  17/09/2024     Mercedes         Mercedes-Benz C200 2.0 AT  \n",
       "3    666    3/9/2024     Mercedes            Mercedes-Benz C250 AMG  \n",
       "4    420    2/9/2024     Mercedes      Mercedes-Benz C200 Edition C  \n",
       "5   1399    8/9/2024     Mercedes         Mercedes-Benz S400 3.0 V6  \n",
       "6    445  19/09/2024         Ford    Ford Focus 1.5L EcoBoost Sport  \n",
       "7    925  19/09/2024         Ford  Ford Everest Titanium 2.0 AT 4x2  \n",
       "8   1950  19/09/2024         Ford             Ford Explorer Limited  \n",
       "9    995  15/09/2024         Ford                Ford Ranger Raptor  "
      ]
     },
     "execution_count": 914,
     "metadata": {},
     "output_type": "execute_result"
    }
   ],
   "source": [
    "df_used_Car['Price'] = df_used_Car['Price'].apply(convert_price)\n",
    "\n",
    "df_used_Car.head(10)"
   ]
  },
  {
   "cell_type": "code",
   "execution_count": 915,
   "metadata": {},
   "outputs": [
    {
     "name": "stdout",
     "output_type": "stream",
     "text": [
      "[70 79 75 68 98 95 96 90 59]\n"
     ]
    }
   ],
   "source": [
    "print(df_used_Car[df_used_Car['Price'] < 100]['Price'].unique())"
   ]
  },
  {
   "cell_type": "markdown",
   "metadata": {},
   "source": [
    "### Year"
   ]
  },
  {
   "cell_type": "code",
   "execution_count": 916,
   "metadata": {},
   "outputs": [
    {
     "data": {
      "text/plain": [
       "array(['22/08/2024', '8/9/2024', '17/09/2024', '3/9/2024', '2/9/2024',\n",
       "       '19/09/2024', '15/09/2024', '6/9/2024', '31/08/2024', '29/08/2024',\n",
       "       '5/9/2024', '23/08/2024', '30/08/2024', '9/9/2024', '20/09/2024',\n",
       "       '7/9/2024', '4/9/2024', '12/9/2024', '14/09/2024', '13/09/2024',\n",
       "       '28/08/2024', '16/09/2024', '27/08/2024', '11/9/2024',\n",
       "       '18/09/2024', '10/9/2024', '23/09/2024', '25/08/2024',\n",
       "       '26/08/2024', '25/09/2024', '1/9/2024', '24/08/2024', '24/09/2024',\n",
       "       '22/09/2024'], dtype=object)"
      ]
     },
     "execution_count": 916,
     "metadata": {},
     "output_type": "execute_result"
    }
   ],
   "source": [
    "df_used_Car['sale_date'].unique()"
   ]
  },
  {
   "cell_type": "code",
   "execution_count": 917,
   "metadata": {},
   "outputs": [
    {
     "name": "stderr",
     "output_type": "stream",
     "text": [
      "C:\\Users\\Admin\\AppData\\Local\\Temp\\ipykernel_26584\\2461185671.py:1: SettingWithCopyWarning: \n",
      "A value is trying to be set on a copy of a slice from a DataFrame.\n",
      "Try using .loc[row_indexer,col_indexer] = value instead\n",
      "\n",
      "See the caveats in the documentation: https://pandas.pydata.org/pandas-docs/stable/user_guide/indexing.html#returning-a-view-versus-a-copy\n",
      "  df_used_Car['Year'] = 2024 - df_used_Car['Public Year']\n"
     ]
    },
    {
     "data": {
      "text/plain": [
       "array([ 1, 10,  8,  9,  7,  3,  2,  5,  6, 17,  0, 15, 13, 18, 21,  4, 11,\n",
       "       14, 12, 16, 24, 29, 25, 20, 22, 19])"
      ]
     },
     "execution_count": 917,
     "metadata": {},
     "output_type": "execute_result"
    }
   ],
   "source": [
    "df_used_Car['Year'] = 2024 - df_used_Car['Public Year']\n",
    "df_used_Car['Year'].unique()"
   ]
  },
  {
   "cell_type": "markdown",
   "metadata": {},
   "source": [
    "### Body_type"
   ]
  },
  {
   "cell_type": "code",
   "execution_count": 918,
   "metadata": {},
   "outputs": [
    {
     "name": "stdout",
     "output_type": "stream",
     "text": [
      "<class 'pandas.core.frame.DataFrame'>\n",
      "Index: 1170 entries, 0 to 1173\n",
      "Data columns (total 12 columns):\n",
      " #   Column        Non-Null Count  Dtype \n",
      "---  ------        --------------  ----- \n",
      " 0   Public Year   1170 non-null   int64 \n",
      " 1   Body_Type     988 non-null    object\n",
      " 2   Origin        1170 non-null   object\n",
      " 3   Mileage       1170 non-null   int64 \n",
      " 4   City          1170 non-null   object\n",
      " 5   Transmission  1170 non-null   object\n",
      " 6   Fuel_Type     1170 non-null   object\n",
      " 7   Price         1170 non-null   int64 \n",
      " 8   sale_date     1170 non-null   object\n",
      " 9   Manufacturer  1170 non-null   object\n",
      " 10  name          1170 non-null   object\n",
      " 11  Year          1170 non-null   int64 \n",
      "dtypes: int64(4), object(8)\n",
      "memory usage: 118.8+ KB\n"
     ]
    }
   ],
   "source": [
    "df_used_Car.info()"
   ]
  },
  {
   "cell_type": "code",
   "execution_count": 919,
   "metadata": {},
   "outputs": [
    {
     "name": "stdout",
     "output_type": "stream",
     "text": [
      "Tên xe cũ: 'Toyota Corolla Cross 1.8 G' - Tên xe mới: 'Toyota Corolla Cross 1.8 G' - Điểm tương đồng: 100\n",
      "Tên xe cũ: 'Land Rover Range Rover' - Tên xe mới: 'Land Rover Range Rover Velar S' - Điểm tương đồng: 95\n",
      "Tên xe cũ: 'Porsche Macan S' - Tên xe mới: 'Porsche Macan S' - Điểm tương đồng: 100\n",
      "Tên xe cũ: 'Porsche Macan S' - Tên xe mới: 'Porsche Macan S' - Điểm tương đồng: 100\n",
      "Tên xe cũ: 'Porsche Macan' - Tên xe mới: 'Porsche Macan 2.0' - Điểm tương đồng: 95\n",
      "Tên xe cũ: 'Land Rover Range Rover Evoque 2.0 R-Dynamic SE' - Tên xe mới: 'Land Rover Range Rover Evoque 2.0L I4 Turbocharged R-Dynamic SE' - Điểm tương đồng: 92\n",
      "Tên xe cũ: 'Toyota Corolla Cross 1.8 V' - Tên xe mới: 'Toyota Corolla Cross 1.8 HV' - Điểm tương đồng: 98\n",
      "Tên xe cũ: 'Hyundai Santa Fe 2.2 Dau Dac biet' - Tên xe mới: 'Hyundai SantaFe 2.2 Dau dac biet' - Điểm tương đồng: 98\n",
      "Tên xe cũ: 'Land Rover Range Rover AutoBiography LWB 3.0L' - Tên xe mới: 'Land Rover Range Rover Autobiography LWB' - Điểm tương đồng: 95\n",
      "Tên xe cũ: 'Chevrolet Aveo LTZ' - Tên xe mới: 'Chevrolet Aveo LTZ' - Điểm tương đồng: 100\n",
      "Tên xe cũ: 'Mercedes-Benz GLC 300 4Matic' - Tên xe mới: 'Mercedes-Benz GLC 300 4MATIC' - Điểm tương đồng: 100\n",
      "Tên xe cũ: 'Mercedes-Benz GLA 200 1.6 I4' - Tên xe mới: 'Mercedes-Benz GLA 200 1.6 I4' - Điểm tương đồng: 100\n",
      "Tên xe cũ: 'Mercedes-Benz C300' - Tên xe mới: 'Mercedes-Benz C300 Coupe' - Điểm tương đồng: 95\n",
      "Tên xe cũ: 'Honda CR-V 1.5 L' - Tên xe mới: 'Honda CR-V 1.5 L' - Điểm tương đồng: 100\n",
      "Tên xe cũ: 'Mercedes-Benz GLC 200' - Tên xe mới: 'Mercedes-Benz GLC 200 2.0 I4' - Điểm tương đồng: 95\n",
      "Tên xe cũ: 'BMW X3 xDrive20i' - Tên xe mới: 'BMW X4 xDrive20i' - Điểm tương đồng: 94\n",
      "Tên xe cũ: 'Ford Ranger XLS 2.0L 4x4 AT' - Tên xe mới: 'Ford Ranger XLS 2.2L 4x2 AT' - Điểm tương đồng: 93\n",
      "Tên xe cũ: 'Toyota Hilux 2.4E 4x2 AT' - Tên xe mới: 'Toyota Hilux 2.4 4x2 AT' - Điểm tương đồng: 98\n",
      "Tên xe cũ: 'Mercedes-Benz E300 AMG' - Tên xe mới: 'Mercedes-Benz E300 AMG' - Điểm tương đồng: 100\n",
      "Tên xe cũ: 'VinFast Fadil Cao cap' - Tên xe mới: 'Vinfast Fadil 1.4 Cao cap CVT' - Điểm tương đồng: 95\n",
      "Tên xe cũ: 'VinFast Fadil Cao cap' - Tên xe mới: 'Vinfast Fadil 1.4 Cao cap CVT' - Điểm tương đồng: 95\n",
      "Tên xe cũ: 'Mazda BT-50 Premium 4x4 3.2 AT' - Tên xe mới: 'Mazda BT-50 Premium 4x4' - Điểm tương đồng: 95\n",
      "Tên xe cũ: 'Mitsubishi Xpander' - Tên xe mới: 'Mitsubishi Xpander MT' - Điểm tương đồng: 95\n",
      "Tên xe cũ: 'Hyundai Tucson 2.0 Dac biet' - Tên xe mới: 'Hyundai Tucson 2.0 Ban Dac Biet' - Điểm tương đồng: 95\n",
      "Tên xe cũ: 'Porsche Cayenne' - Tên xe mới: 'Porsche Cayenne 3.0' - Điểm tương đồng: 95\n",
      "Tên xe cũ: 'Hyundai Santa Fe 2.2 Dau Cao cap' - Tên xe mới: 'Hyundai SantaFe 2.2 Dau cao cap' - Điểm tương đồng: 98\n",
      "Tên xe cũ: 'Suzuki XL7' - Tên xe mới: 'Suzuki XL7 GLX' - Điểm tương đồng: 95\n",
      "Tên xe cũ: 'VinFast LUX SA2.0 Tieu chuan' - Tên xe mới: 'Vinfast Lux SA2.0 Tieu chuan' - Điểm tương đồng: 100\n",
      "Tên xe cũ: 'VinFast LUX A2.0 Cao cap' - Tên xe mới: 'Vinfast Lux A2.0 Cao cap' - Điểm tương đồng: 100\n",
      "Tên xe cũ: 'VinFast LUX A2.0 Tieu chuan' - Tên xe mới: 'Vinfast Lux A2.0 Tieu chuan' - Điểm tương đồng: 100\n",
      "Tên xe cũ: 'BMW 320i Sport Line' - Tên xe mới: 'BMW 320i Sport Line' - Điểm tương đồng: 100\n",
      "Tên xe cũ: 'Mazda 3 Sport 2.0L Signature Luxury' - Tên xe mới: 'Mazda 3 2.0L Signature Luxury' - Điểm tương đồng: 95\n",
      "Tên xe cũ: 'Peugeot Traveller Premium' - Tên xe mới: 'Peugeot Traveller 2.0 Premium' - Điểm tương đồng: 95\n",
      "Tên xe cũ: 'Toyota Land Cruiser' - Tên xe mới: 'Toyota Land Cruiser VX V8' - Điểm tương đồng: 95\n",
      "Tên xe cũ: 'Toyota Land Cruiser' - Tên xe mới: 'Toyota Land Cruiser VX V8' - Điểm tương đồng: 95\n",
      "Tên xe cũ: 'Mitsubishi Xpander 1.5 MT' - Tên xe mới: 'Mitsubishi Xpander MT' - Điểm tương đồng: 95\n",
      "Tên xe cũ: 'Hyundai Santa Fe 2.4L Xang Cao cap' - Tên xe mới: 'Hyundai SantaFe 2.4 Xang cao cap' - Điểm tương đồng: 97\n",
      "Tên xe cũ: 'Toyota Vios 1.5E MT' - Tên xe mới: 'Toyota Vios 1.5 E MT' - Điểm tương đồng: 97\n",
      "Tên xe cũ: 'Honda Civic 1.8 MT' - Tên xe mới: 'Honda Civic 1.8 E' - Điểm tương đồng: 91\n",
      "Tên xe cũ: 'Suzuki XL7' - Tên xe mới: 'Suzuki XL7 GLX' - Điểm tương đồng: 95\n",
      "Tên xe cũ: 'Toyota Land Cruiser Prado VX' - Tên xe mới: 'Toyota Land Cruiser Prado 2.7 AT VX' - Điểm tương đồng: 95\n",
      "Tên xe cũ: 'Hyundai Elantra 2.0 AT' - Tên xe mới: 'Hyundai Elantra 2.0 AT' - Điểm tương đồng: 100\n",
      "Tên xe cũ: 'Mitsubishi Xpander 1.5 MT' - Tên xe mới: 'Mitsubishi Xpander MT' - Điểm tương đồng: 95\n",
      "Tên xe cũ: 'Mercedes-Benz GLK 300 4Matic' - Tên xe mới: 'Mercedes-Benz GLC 300 4MATIC' - Điểm tương đồng: 96\n",
      "Tên xe cũ: 'Toyota Wigo 1.2 G AT' - Tên xe mới: 'Toyota Wigo 1.2 G AT' - Điểm tương đồng: 100\n",
      "Tên xe cũ: 'Toyota Land Cruiser Prado' - Tên xe mới: 'Toyota Land Cruiser Prado 2.7 AT VX' - Điểm tương đồng: 95\n",
      "Tên xe cũ: 'Hyundai Accent 1.4 AT Dac biet' - Tên xe mới: 'Hyundai Accent 1.4AT Dac biet' - Điểm tương đồng: 98\n",
      "Tên xe cũ: 'Hyundai Grand i10 Sedan 1.2 AT' - Tên xe mới: 'Hyundai Grand i10 Sedan 1.2 AT' - Điểm tương đồng: 100\n",
      "Tên xe cũ: 'Porsche Macan' - Tên xe mới: 'Porsche Macan 2.0' - Điểm tương đồng: 95\n",
      "Tên xe cũ: 'Porsche Macan' - Tên xe mới: 'Porsche Macan 2.0' - Điểm tương đồng: 95\n",
      "Tên xe cũ: 'Porsche Macan Turbo' - Tên xe mới: 'Porsche Macan Turbo' - Điểm tương đồng: 100\n",
      "Tên xe cũ: 'Porsche Macan' - Tên xe mới: 'Porsche Macan 2.0' - Điểm tương đồng: 95\n",
      "Tên xe cũ: 'Porsche Macan S' - Tên xe mới: 'Porsche Macan S' - Điểm tương đồng: 100\n",
      "Tên xe cũ: 'Porsche Macan' - Tên xe mới: 'Porsche Macan 2.0' - Điểm tương đồng: 95\n",
      "Tên xe cũ: 'Porsche Macan S' - Tên xe mới: 'Porsche Macan S' - Điểm tương đồng: 100\n",
      "Tên xe cũ: 'Porsche Macan' - Tên xe mới: 'Porsche Macan 2.0' - Điểm tương đồng: 95\n",
      "Tên xe cũ: 'Porsche Macan Turbo' - Tên xe mới: 'Porsche Macan Turbo' - Điểm tương đồng: 100\n",
      "Tên xe cũ: 'Porsche Macan' - Tên xe mới: 'Porsche Macan 2.0' - Điểm tương đồng: 95\n",
      "Tên xe cũ: 'Porsche Macan S' - Tên xe mới: 'Porsche Macan S' - Điểm tương đồng: 100\n",
      "Tên xe cũ: 'Porsche Macan' - Tên xe mới: 'Porsche Macan 2.0' - Điểm tương đồng: 95\n",
      "Tên xe cũ: 'Hyundai Grand i10 Hatchback 1.2 AT' - Tên xe mới: 'Hyundai Grand i10 Hatchback 1.2 AT' - Điểm tương đồng: 100\n",
      "Tên xe cũ: 'Mitsubishi Xpander 1.5 AT' - Tên xe mới: 'Mitsubishi Xpander AT' - Điểm tương đồng: 95\n",
      "Tên xe cũ: 'Toyota Yaris 1.5G' - Tên xe mới: 'Toyota Yaris 1.5G CVT' - Điểm tương đồng: 95\n",
      "Tên xe cũ: 'Ford Ranger Wildtrak 3.2 4x4 AT' - Tên xe mới: 'Ford Ranger Wildtrak 2.0L 4x4 AT' - Điểm tương đồng: 92\n",
      "Tên xe cũ: 'Mazda CX-5 2.5L Signature Premium AWD' - Tên xe mới: 'Mazda CX-5 2.5 Signature Premium AWD' - Điểm tương đồng: 99\n",
      "Tên xe cũ: 'Mercedes-Benz GLC 200' - Tên xe mới: 'Mercedes-Benz GLC 200 2.0 I4' - Điểm tương đồng: 95\n",
      "Tên xe cũ: 'BMW 730Li' - Tên xe mới: 'BMW 730Li 2.0' - Điểm tương đồng: 95\n",
      "Tên xe cũ: 'Toyota Fortuner 2.4 AT' - Tên xe mới: 'Toyota Fortuner 2.4 AT 4x2 2021' - Điểm tương đồng: 95\n",
      "Tên xe cũ: 'Mercedes-Benz GLC 300 4Matic' - Tên xe mới: 'Mercedes-Benz GLC 300 4MATIC' - Điểm tương đồng: 100\n",
      "Tên xe cũ: 'Mercedes-Benz GLC 300 4Matic' - Tên xe mới: 'Mercedes-Benz GLC 300 4MATIC' - Điểm tương đồng: 100\n",
      "Tên xe cũ: 'Mercedes-Benz GLS 450 4Matic' - Tên xe mới: 'Mercedes-Benz GLE 450 4Matic' - Điểm tương đồng: 96\n",
      "Tên xe cũ: 'Hyundai Accent 1.4 MT' - Tên xe mới: 'Hyundai Accent 1.4 MT' - Điểm tương đồng: 100\n",
      "Tên xe cũ: 'VinFast LUX A2.0 Tieu chuan' - Tên xe mới: 'Vinfast Lux A2.0 Tieu chuan' - Điểm tương đồng: 100\n",
      "Tên xe cũ: 'Chevrolet Aveo MT' - Tên xe mới: 'Chevrolet Aveo LT' - Điểm tương đồng: 94\n",
      "Tên xe cũ: 'Mitsubishi Outlander 2.0 CVT' - Tên xe mới: 'Mitsubishi Outlander 2.0 CVT' - Điểm tương đồng: 100\n",
      "Tên xe cũ: 'Mercedes-Benz GLC 300' - Tên xe mới: 'Mercedes-Benz GLC 300 4MATIC' - Điểm tương đồng: 95\n",
      "Tên xe cũ: 'Mercedes-Benz GLC 300 4Matic' - Tên xe mới: 'Mercedes-Benz GLC 300 4MATIC' - Điểm tương đồng: 100\n",
      "Tên xe cũ: 'Mercedes-Benz CLA 250' - Tên xe mới: 'Mercedes-Benz CLA 250 2.0 I4' - Điểm tương đồng: 95\n",
      "Tên xe cũ: 'Toyota Corolla Cross 1.8 V' - Tên xe mới: 'Toyota Corolla Cross 1.8 HV' - Điểm tương đồng: 98\n",
      "Tên xe cũ: 'Mercedes-Benz CLA 250 4Matic' - Tên xe mới: 'Mercedes-Benz CLA 250 4Matic' - Điểm tương đồng: 100\n",
      "Tên xe cũ: 'Toyota Corolla Cross 1.8 V' - Tên xe mới: 'Toyota Corolla Cross 1.8 HV' - Điểm tương đồng: 98\n",
      "Tên xe cũ: 'Mitsubishi Xpander' - Tên xe mới: 'Mitsubishi Xpander MT' - Điểm tương đồng: 95\n",
      "Tên xe cũ: 'Suzuki XL7' - Tên xe mới: 'Suzuki XL7 GLX' - Điểm tương đồng: 95\n",
      "Tên xe cũ: 'Mitsubishi Xpander Cross 1.5 AT' - Tên xe mới: 'Mitsubishi Xpander Cross 1.5 AT' - Điểm tương đồng: 100\n",
      "Tên xe cũ: 'Mitsubishi Xpander 1.5 AT' - Tên xe mới: 'Mitsubishi Xpander AT' - Điểm tương đồng: 95\n",
      "Tên xe cũ: 'Mitsubishi Xpander' - Tên xe mới: 'Mitsubishi Xpander MT' - Điểm tương đồng: 95\n",
      "Tên xe cũ: 'VinFast LUX SA2.0 Tieu chuan' - Tên xe mới: 'Vinfast Lux SA2.0 Tieu chuan' - Điểm tương đồng: 100\n",
      "Tên xe cũ: 'Mercedes-Benz GLC 200' - Tên xe mới: 'Mercedes-Benz GLC 200 2.0 I4' - Điểm tương đồng: 95\n",
      "Tên xe cũ: 'Mercedes-Benz GLC 200 4Matic' - Tên xe mới: 'Mercedes-Benz GLC 200 4Matic' - Điểm tương đồng: 100\n",
      "Tên xe cũ: 'Mercedes-Benz GLC 250 4Matic' - Tên xe mới: 'Mercedes-Benz GLC 250 4Matic' - Điểm tương đồng: 100\n",
      "Tên xe cũ: 'Peugeot 5008' - Tên xe mới: 'Peugeot 5008 AT' - Điểm tương đồng: 95\n"
     ]
    },
    {
     "name": "stderr",
     "output_type": "stream",
     "text": [
      "C:\\Users\\Admin\\AppData\\Local\\Temp\\ipykernel_26584\\1741481242.py:9: SettingWithCopyWarning: \n",
      "A value is trying to be set on a copy of a slice from a DataFrame.\n",
      "Try using .loc[row_indexer,col_indexer] = value instead\n",
      "\n",
      "See the caveats in the documentation: https://pandas.pydata.org/pandas-docs/stable/user_guide/indexing.html#returning-a-view-versus-a-copy\n",
      "  df_used_Car['Body_Type'] = df_used_Car.apply(lambda row: find_body_type2(row) if pd.isna(row['Body_Type']) else row['Body_Type'], axis=1)\n"
     ]
    }
   ],
   "source": [
    "def find_body_type2(row):\n",
    "    match = process.extractOne(row['name'], df_newcar_inf['Name'], score_cutoff=90)\n",
    "    if match and match[1] > 90:\n",
    "        print(f\"Tên xe cũ: '{row['name']}' - Tên xe mới: '{match[0]}' - Điểm tương đồng: {match[1]}\")\n",
    "        index = df_newcar_inf[df_newcar_inf['Name'] == match[0]].index\n",
    "        return df_newcar_inf.loc[index, 'Body_Type'].values[0]\n",
    "    return None\n",
    "\n",
    "df_used_Car['Body_Type'] = df_used_Car.apply(lambda row: find_body_type2(row) if pd.isna(row['Body_Type']) else row['Body_Type'], axis=1)"
   ]
  },
  {
   "cell_type": "code",
   "execution_count": 920,
   "metadata": {},
   "outputs": [
    {
     "name": "stdout",
     "output_type": "stream",
     "text": [
      "Tên xe cũ: 'Lexus RX 350' - Tên xe mới: 'Lexus RX 350' - Điểm tương đồng: 100\n",
      "Tên xe cũ: 'Lexus LX 570' - Tên xe mới: 'Lexus LX 570' - Điểm tương đồng: 100\n",
      "Tên xe cũ: 'Toyota Vios' - Tên xe mới: 'Toyota Vios 1.5G' - Điểm tương đồng: 95\n",
      "Tên xe cũ: 'Lexus RX 200t' - Tên xe mới: 'Lexus RX 200t' - Điểm tương đồng: 100\n",
      "Tên xe cũ: 'Mercedes-Benz Maybach S450' - Tên xe mới: 'Mercedes Benz Maybach S400' - Điểm tương đồng: 96\n",
      "Tên xe cũ: 'Mazda 6 2.0 Premium' - Tên xe mới: 'Mazda 6 2.0L Premium' - Điểm tương đồng: 97\n",
      "Tên xe cũ: 'VinFast VF9 Plus' - Tên xe mới: 'VinFast VF9 Plus' - Điểm tương đồng: 100\n",
      "Tên xe cũ: 'Mercedes-Benz GLS 450' - Tên xe mới: 'Mercedes Benz GLS 450 4Matic' - Điểm tương đồng: 95\n",
      "Tên xe cũ: 'Mercedes-Benz C250' - Tên xe mới: 'Mercedes Benz C class C250' - Điểm tương đồng: 95\n",
      "Tên xe cũ: 'Lexus LM 350' - Tên xe mới: 'Lexus LM 350' - Điểm tương đồng: 100\n",
      "Tên xe cũ: 'Toyota Camry 2.0E' - Tên xe mới: 'Toyota Camry 2.0E' - Điểm tương đồng: 100\n",
      "Tên xe cũ: 'Peugeot 2008 GT Line' - Tên xe mới: 'Peugeot 2008 GT Line 1.2 AT' - Điểm tương đồng: 95\n",
      "Tên xe cũ: 'Mazda CX-8 Premium AWD' - Tên xe mới: 'Mazda CX8 Premium AWD' - Điểm tương đồng: 98\n",
      "Tên xe cũ: 'Toyota Camry 2.0E' - Tên xe mới: 'Toyota Camry 2.0E' - Điểm tương đồng: 100\n",
      "Tên xe cũ: 'VinFast VF8 Plus' - Tên xe mới: 'VinFast VF8 Plus' - Điểm tương đồng: 100\n",
      "Tên xe cũ: 'VinFast VF9 Plus' - Tên xe mới: 'VinFast VF9 Plus' - Điểm tương đồng: 100\n",
      "Tên xe cũ: 'Lexus LX 600 Urban' - Tên xe mới: 'Lexus LX 600 Urban' - Điểm tương đồng: 100\n",
      "Tên xe cũ: 'Mercedes-Benz E250' - Tên xe mới: 'Mercedes Benz E class E250' - Điểm tương đồng: 95\n",
      "Tên xe cũ: 'Toyota Vios' - Tên xe mới: 'Toyota Vios 1.5G' - Điểm tương đồng: 95\n",
      "Tên xe cũ: 'Toyota Innova 2.0E' - Tên xe mới: 'Toyota Innova 2.0E' - Điểm tương đồng: 100\n",
      "Tên xe cũ: 'Mercedes-Benz C180 AMG' - Tên xe mới: 'Mercedes Benz C class C180 AMG' - Điểm tương đồng: 95\n",
      "Tên xe cũ: 'Kia Carnival 2.2D Luxury' - Tên xe mới: 'Kia Carnival Luxury 2.2D' - Điểm tương đồng: 95\n",
      "Tên xe cũ: 'Peugeot 3008 Allure' - Tên xe mới: 'Peugeot 3008 Allure 1.6 AT' - Điểm tương đồng: 95\n",
      "Tên xe cũ: 'Toyota Yaris 1.3G' - Tên xe mới: 'Toyota Yaris 1.3G' - Điểm tương đồng: 100\n",
      "Tên xe cũ: 'Toyota Camry 2.0E' - Tên xe mới: 'Toyota Camry 2.0E' - Điểm tương đồng: 100\n",
      "Tên xe cũ: 'Honda City' - Tên xe mới: 'Honda City 1.5' - Điểm tương đồng: 95\n",
      "Tên xe cũ: 'Toyota Vios 1.5G AT' - Tên xe mới: 'Toyota Vios 1.5G' - Điểm tương đồng: 95\n",
      "Tên xe cũ: 'Mercedes-Benz S400' - Tên xe mới: 'Mercedes Benz Maybach S400' - Điểm tương đồng: 95\n",
      "Tên xe cũ: 'Kia K5 2.0 Premium' - Tên xe mới: 'Kia K5 Premium 2.0 AT' - Điểm tương đồng: 95\n",
      "Tên xe cũ: 'Lexus RX 350' - Tên xe mới: 'Lexus RX 350' - Điểm tương đồng: 100\n",
      "Tên xe cũ: 'Toyota Veloz Cross 1.5 CVT TOP' - Tên xe mới: 'Toyota Veloz Cross Top 1.5 CVT' - Điểm tương đồng: 95\n",
      "Tên xe cũ: 'Lexus ES 250' - Tên xe mới: 'Lexus ES 250' - Điểm tương đồng: 100\n",
      "Tên xe cũ: 'Mercedes-Benz S450' - Tên xe mới: 'Mercedes Benz S class S450' - Điểm tương đồng: 95\n",
      "Tên xe cũ: 'Mercedes-Benz GLC 200 V1' - Tên xe mới: 'Mercedes Benz GLC 200' - Điểm tương đồng: 95\n",
      "Tên xe cũ: 'Toyota Innova 2.0G' - Tên xe mới: 'Toyota Innova 2.0G' - Điểm tương đồng: 100\n",
      "Tên xe cũ: 'VinFast VF e34' - Tên xe mới: 'VinFast VF e34 AT' - Điểm tương đồng: 95\n",
      "Tên xe cũ: 'VinFast VF e34' - Tên xe mới: 'VinFast VF e34 AT' - Điểm tương đồng: 95\n",
      "Tên xe cũ: 'Toyota Innova 2.0E' - Tên xe mới: 'Toyota Innova 2.0E' - Điểm tương đồng: 100\n",
      "Tên xe cũ: 'Mercedes-Benz S450' - Tên xe mới: 'Mercedes Benz S class S450' - Điểm tương đồng: 95\n",
      "Tên xe cũ: 'Ferrari F8 Spider' - Tên xe mới: 'Ferrari F8 Spyder' - Điểm tương đồng: 94\n",
      "Tên xe cũ: 'Mitsubishi Triton' - Tên xe mới: 'Mitsubishi Triton 4x2 AT' - Điểm tương đồng: 95\n",
      "Tên xe cũ: 'VinFast VF8 Eco' - Tên xe mới: 'VinFast VF8 Eco' - Điểm tương đồng: 100\n",
      "Tên xe cũ: 'VinFast VF9 Plus' - Tên xe mới: 'VinFast VF9 Plus' - Điểm tương đồng: 100\n",
      "Tên xe cũ: 'VinFast VF8 Plus' - Tên xe mới: 'VinFast VF8 Plus' - Điểm tương đồng: 100\n",
      "Tên xe cũ: 'Toyota Innova 2.0G' - Tên xe mới: 'Toyota Innova 2.0G' - Điểm tương đồng: 100\n",
      "Tên xe cũ: 'Kia Carnival 2.2D Premium' - Tên xe mới: 'Kia Carnival Premium 2.2D' - Điểm tương đồng: 95\n",
      "Tên xe cũ: 'Toyota Camry 2.5HV' - Tên xe mới: 'Toyota Camry 2.5HV' - Điểm tương đồng: 100\n",
      "Tên xe cũ: 'Mercedes-Benz GLC 200 V1' - Tên xe mới: 'Mercedes Benz GLC 200' - Điểm tương đồng: 95\n",
      "Tên xe cũ: 'Mini Countryman' - Tên xe mới: 'Mini Cooper Countryman' - Điểm tương đồng: 95\n"
     ]
    },
    {
     "name": "stderr",
     "output_type": "stream",
     "text": [
      "C:\\Users\\Admin\\AppData\\Local\\Temp\\ipykernel_26584\\2792897167.py:9: SettingWithCopyWarning: \n",
      "A value is trying to be set on a copy of a slice from a DataFrame.\n",
      "Try using .loc[row_indexer,col_indexer] = value instead\n",
      "\n",
      "See the caveats in the documentation: https://pandas.pydata.org/pandas-docs/stable/user_guide/indexing.html#returning-a-view-versus-a-copy\n",
      "  df_used_Car['Body_Type'] = df_used_Car.apply(lambda row: find_body_type3(row) if pd.isna(row['Body_Type']) else row['Body_Type'], axis=1)\n"
     ]
    }
   ],
   "source": [
    "def find_body_type3(row):\n",
    "    match = process.extractOne(row['name'], df_bonbanh_inf['Name'], score_cutoff=90)\n",
    "    if match and match[1] > 90:\n",
    "        print(f\"Tên xe cũ: '{row['name']}' - Tên xe mới: '{match[0]}' - Điểm tương đồng: {match[1]}\")\n",
    "        index = df_bonbanh_inf[df_bonbanh_inf['Name'] == match[0]].index\n",
    "        return df_bonbanh_inf.loc[index, 'Bodytype'].values[0]\n",
    "    return None\n",
    "\n",
    "df_used_Car['Body_Type'] = df_used_Car.apply(lambda row: find_body_type3(row) if pd.isna(row['Body_Type']) else row['Body_Type'], axis=1)"
   ]
  },
  {
   "cell_type": "code",
   "execution_count": 921,
   "metadata": {},
   "outputs": [
    {
     "name": "stdout",
     "output_type": "stream",
     "text": [
      "Tên xe cũ: 'Honda CR-V' - Tên xe tương tự: 'Honda CR-V 2.0' - Điểm tương đồng: 95\n",
      "Tên xe cũ: 'Honda City 1.5 TOP CVT' - Tên xe tương tự: 'Honda City 1.5 CVT' - Điểm tương đồng: 95\n",
      "Tên xe cũ: 'Honda CR-V' - Tên xe tương tự: 'Honda CR-V 2.0' - Điểm tương đồng: 95\n",
      "Tên xe cũ: 'Mazda 3 1.5L Sedan' - Tên xe tương tự: 'Mazda 3 Sedan 1.5L Luxury' - Điểm tương đồng: 95\n",
      "Tên xe cũ: 'Peugeot 2008' - Tên xe tương tự: 'Peugeot 5008' - Điểm tương đồng: 92\n",
      "Tên xe cũ: 'Ford Transit' - Tên xe tương tự: 'Ford Transit SVP Ban trung' - Điểm tương đồng: 90\n",
      "Tên xe cũ: 'VinFast LUX A2.0' - Tên xe tương tự: 'VinFast LUX A2.0 Cao cap' - Điểm tương đồng: 90\n",
      "Tên xe cũ: 'Mazda 3' - Tên xe tương tự: 'Mazda 3 Sedan 1.5L Luxury' - Điểm tương đồng: 90\n",
      "Tên xe cũ: 'Volkswagen Scirocco 1.4' - Tên xe tương tự: 'Volkswagen Scirocco' - Điểm tương đồng: 95\n",
      "Tên xe cũ: 'Honda CR-V' - Tên xe tương tự: 'Honda CR-V 2.0' - Điểm tương đồng: 95\n",
      "Tên xe cũ: 'Ford EcoSport' - Tên xe tương tự: 'Ford EcoSport Titanium 1.0L AT' - Điểm tương đồng: 90\n",
      "Tên xe cũ: 'Toyota Alphard' - Tên xe tương tự: 'Toyota Alphard Executive Lounge' - Điểm tương đồng: 90\n",
      "Tên xe cũ: 'Ford Focus' - Tên xe tương tự: 'Ford Focus 1.5L EcoBoost Sport' - Điểm tương đồng: 90\n",
      "Tên xe cũ: 'Honda City 1.5 TOP CVT' - Tên xe tương tự: 'Honda City 1.5 CVT' - Điểm tương đồng: 95\n",
      "Tên xe cũ: 'Lexus LX 600 Ultra Luxury' - Tên xe tương tự: 'Lexus LX 600' - Điểm tương đồng: 90\n",
      "Tên xe cũ: 'Mazda CX-5' - Tên xe tương tự: 'Mazda CX-5 2.5 2WD' - Điểm tương đồng: 90\n",
      "Tên xe cũ: 'Ford EcoSport' - Tên xe tương tự: 'Ford EcoSport Titanium 1.0L AT' - Điểm tương đồng: 90\n",
      "Tên xe cũ: 'Ford Everest' - Tên xe tương tự: 'Ford Everest Titanium 2.0 AT 4x2' - Điểm tương đồng: 90\n",
      "Tên xe cũ: 'Kia K5' - Tên xe tương tự: 'Kia K5 2.0 Premium' - Điểm tương đồng: 90\n",
      "Tên xe cũ: 'Hyundai Getz 1.1 MT' - Tên xe tương tự: 'Hyundai Getz' - Điểm tương đồng: 90\n",
      "Tên xe cũ: 'Ford Ranger' - Tên xe tương tự: 'Ford Ranger Raptor' - Điểm tương đồng: 90\n",
      "Tên xe cũ: 'Ford Ranger' - Tên xe tương tự: 'Ford Ranger Raptor' - Điểm tương đồng: 90\n",
      "Tên xe cũ: 'Hyundai i30 1.6 AT' - Tên xe tương tự: 'Hyundai i20 1.4 AT' - Điểm tương đồng: 89\n",
      "Tên xe cũ: 'Hyundai Kona' - Tên xe tương tự: 'Hyundai Kona 1.6 Turbo' - Điểm tương đồng: 90\n",
      "Tên xe cũ: 'VinFast VF e34 Tieu chuan' - Tên xe tương tự: 'VinFast VF e34' - Điểm tương đồng: 90\n",
      "Tên xe cũ: 'Honda Jazz V' - Tên xe tương tự: 'Honda Jazz RS' - Điểm tương đồng: 88\n",
      "Tên xe cũ: 'Mercedes-Benz E400' - Tên xe tương tự: 'Mercedes-Benz E300' - Điểm tương đồng: 94\n",
      "Tên xe cũ: 'Honda HR-V' - Tên xe tương tự: 'Honda HR-V RS' - Điểm tương đồng: 95\n",
      "Tên xe cũ: 'Honda CR-V' - Tên xe tương tự: 'Honda CR-V 2.0' - Điểm tương đồng: 95\n",
      "Tên xe cũ: 'Hyundai Avante 1.6 AT' - Tên xe tương tự: 'Hyundai Avante 1.6 MT' - Điểm tương đồng: 95\n",
      "Tên xe cũ: 'VinFast Fadil' - Tên xe tương tự: 'VinFast Fadil Tieu Chuan' - Điểm tương đồng: 90\n",
      "Tên xe cũ: 'Volkswagen Scirocco' - Tên xe tương tự: 'Volkswagen Scirocco 1.4' - Điểm tương đồng: 95\n"
     ]
    },
    {
     "name": "stderr",
     "output_type": "stream",
     "text": [
      "C:\\Users\\Admin\\AppData\\Local\\Temp\\ipykernel_26584\\2399812481.py:15: SettingWithCopyWarning: \n",
      "A value is trying to be set on a copy of a slice from a DataFrame.\n",
      "Try using .loc[row_indexer,col_indexer] = value instead\n",
      "\n",
      "See the caveats in the documentation: https://pandas.pydata.org/pandas-docs/stable/user_guide/indexing.html#returning-a-view-versus-a-copy\n",
      "  df_used_Car['Body_Type'] = df_used_Car.apply(\n"
     ]
    }
   ],
   "source": [
    "def find_body_type(row, df):\n",
    "    filtered_df = df[df['name'] != row['name']]\n",
    "\n",
    "    match = process.extractOne(row['name'], filtered_df['name'], score_cutoff=87)\n",
    "    \n",
    "    if match and match[1] > 87:\n",
    "        similar_car_name = match[0]\n",
    "        print(f\"Tên xe cũ: '{row['name']}' - Tên xe tương tự: '{similar_car_name}' - Điểm tương đồng: {match[1]}\")\n",
    "\n",
    "        body_type = df.loc[df['name'] == similar_car_name, 'Body_Type'].values[0]\n",
    "        return body_type\n",
    "\n",
    "    return None\n",
    "\n",
    "df_used_Car['Body_Type'] = df_used_Car.apply(\n",
    "    lambda row: find_body_type(row, df_used_Car) if pd.isna(row['Body_Type']) else row['Body_Type'], \n",
    "    axis=1\n",
    ")"
   ]
  },
  {
   "cell_type": "code",
   "execution_count": 922,
   "metadata": {},
   "outputs": [
    {
     "name": "stdout",
     "output_type": "stream",
     "text": [
      "<class 'pandas.core.frame.DataFrame'>\n",
      "Index: 1170 entries, 0 to 1173\n",
      "Data columns (total 12 columns):\n",
      " #   Column        Non-Null Count  Dtype \n",
      "---  ------        --------------  ----- \n",
      " 0   Public Year   1170 non-null   int64 \n",
      " 1   Body_Type     1158 non-null   object\n",
      " 2   Origin        1170 non-null   object\n",
      " 3   Mileage       1170 non-null   int64 \n",
      " 4   City          1170 non-null   object\n",
      " 5   Transmission  1170 non-null   object\n",
      " 6   Fuel_Type     1170 non-null   object\n",
      " 7   Price         1170 non-null   int64 \n",
      " 8   sale_date     1170 non-null   object\n",
      " 9   Manufacturer  1170 non-null   object\n",
      " 10  name          1170 non-null   object\n",
      " 11  Year          1170 non-null   int64 \n",
      "dtypes: int64(4), object(8)\n",
      "memory usage: 118.8+ KB\n"
     ]
    }
   ],
   "source": [
    "df_used_Car.info()"
   ]
  },
  {
   "cell_type": "code",
   "execution_count": 923,
   "metadata": {},
   "outputs": [
    {
     "data": {
      "text/plain": [
       "42                  Toyota Zace\n",
       "51                  Toyota Zace\n",
       "66            Daewoo Lacetti SE\n",
       "498                 Toyota Zace\n",
       "505     Volkswagen Scirocco 1.4\n",
       "521                  Ford Laser\n",
       "544                Toyota Hiace\n",
       "573            MG 5 1.5L Luxury\n",
       "589                Renault Wind\n",
       "784                 Nissan Juke\n",
       "1143        Volkswagen Scirocco\n",
       "1153                Peugeot 408\n",
       "Name: name, dtype: object"
      ]
     },
     "execution_count": 923,
     "metadata": {},
     "output_type": "execute_result"
    }
   ],
   "source": [
    "df_used_Car['name'][df_used_Car['Body_Type'].isna()]"
   ]
  },
  {
   "cell_type": "code",
   "execution_count": 924,
   "metadata": {},
   "outputs": [],
   "source": [
    "df_used_Car.loc[521, 'Body_Type'] = 'Sedan'\n",
    "df_used_Car.loc[573, 'Body_Type'] = 'Crossover'\n",
    "df_used_Car.loc[589, 'Body_Type'] = 'Convertible'\n",
    "df_used_Car.loc[784, 'Body_Type'] = 'SUV'\n",
    "df_used_Car.loc[1153, 'Body_Type'] = 'Crossover'"
   ]
  },
  {
   "cell_type": "code",
   "execution_count": 925,
   "metadata": {},
   "outputs": [
    {
     "data": {
      "text/plain": [
       "42                  Toyota Zace\n",
       "51                  Toyota Zace\n",
       "66            Daewoo Lacetti SE\n",
       "498                 Toyota Zace\n",
       "505     Volkswagen Scirocco 1.4\n",
       "544                Toyota Hiace\n",
       "1143        Volkswagen Scirocco\n",
       "Name: name, dtype: object"
      ]
     },
     "execution_count": 925,
     "metadata": {},
     "output_type": "execute_result"
    }
   ],
   "source": [
    "df_used_Car['name'][df_used_Car['Body_Type'].isna()]"
   ]
  },
  {
   "cell_type": "code",
   "execution_count": 926,
   "metadata": {},
   "outputs": [
    {
     "data": {
      "text/plain": [
       "array(['SUV', 'Sedan', 'Ban Tai', 'Hatchback', None, 'MPV', 'Van/Minivan',\n",
       "       'Crossover', 'Sport Car', 'Coupe', 'Convertible', 'Minibus',\n",
       "       'Ban tai', 'Van', 'Xe tai'], dtype=object)"
      ]
     },
     "execution_count": 926,
     "metadata": {},
     "output_type": "execute_result"
    }
   ],
   "source": [
    "df_used_Car['Body_Type'].unique()"
   ]
  },
  {
   "cell_type": "markdown",
   "metadata": {},
   "source": [
    "### Final"
   ]
  },
  {
   "cell_type": "code",
   "execution_count": 927,
   "metadata": {},
   "outputs": [],
   "source": [
    "df_used_Car.columns = df_used_Car.columns.str.title()"
   ]
  },
  {
   "cell_type": "code",
   "execution_count": 928,
   "metadata": {},
   "outputs": [
    {
     "name": "stdout",
     "output_type": "stream",
     "text": [
      "<class 'pandas.core.frame.DataFrame'>\n",
      "Index: 1170 entries, 0 to 1173\n",
      "Data columns (total 12 columns):\n",
      " #   Column        Non-Null Count  Dtype \n",
      "---  ------        --------------  ----- \n",
      " 0   Public Year   1170 non-null   int64 \n",
      " 1   Body_Type     1163 non-null   object\n",
      " 2   Origin        1170 non-null   object\n",
      " 3   Mileage       1170 non-null   int64 \n",
      " 4   City          1170 non-null   object\n",
      " 5   Transmission  1170 non-null   object\n",
      " 6   Fuel_Type     1170 non-null   object\n",
      " 7   Price         1170 non-null   int64 \n",
      " 8   Sale_Date     1170 non-null   object\n",
      " 9   Manufacturer  1170 non-null   object\n",
      " 10  Name          1170 non-null   object\n",
      " 11  Year          1170 non-null   int64 \n",
      "dtypes: int64(4), object(8)\n",
      "memory usage: 151.1+ KB\n"
     ]
    }
   ],
   "source": [
    "df_used_Car.info()"
   ]
  },
  {
   "cell_type": "markdown",
   "metadata": {},
   "source": [
    "# Merge data"
   ]
  },
  {
   "cell_type": "code",
   "execution_count": 929,
   "metadata": {},
   "outputs": [
    {
     "name": "stdout",
     "output_type": "stream",
     "text": [
      "<class 'pandas.core.frame.DataFrame'>\n",
      "Index: 1170 entries, 0 to 1173\n",
      "Data columns (total 12 columns):\n",
      " #   Column        Non-Null Count  Dtype \n",
      "---  ------        --------------  ----- \n",
      " 0   Public Year   1170 non-null   int64 \n",
      " 1   Body_Type     1163 non-null   object\n",
      " 2   Origin        1170 non-null   object\n",
      " 3   Mileage       1170 non-null   int64 \n",
      " 4   City          1170 non-null   object\n",
      " 5   Transmission  1170 non-null   object\n",
      " 6   Fuel_Type     1170 non-null   object\n",
      " 7   Price         1170 non-null   int64 \n",
      " 8   Sale_Date     1170 non-null   object\n",
      " 9   Manufacturer  1170 non-null   object\n",
      " 10  Name          1170 non-null   object\n",
      " 11  Year          1170 non-null   int64 \n",
      "dtypes: int64(4), object(8)\n",
      "memory usage: 151.1+ KB\n"
     ]
    }
   ],
   "source": [
    "df_used_Car.info()"
   ]
  },
  {
   "cell_type": "code",
   "execution_count": 930,
   "metadata": {},
   "outputs": [],
   "source": [
    "df_bonbanh_inf = df_bonbanh_inf.rename(columns={'Bodytype': 'Body_Type', 'Selldate':'Sale_Date', 'Fueltype': 'Fuel_Type'})"
   ]
  },
  {
   "cell_type": "code",
   "execution_count": 931,
   "metadata": {},
   "outputs": [
    {
     "name": "stdout",
     "output_type": "stream",
     "text": [
      "<class 'pandas.core.frame.DataFrame'>\n",
      "Index: 5357 entries, 0 to 5439\n",
      "Data columns (total 13 columns):\n",
      " #   Column        Non-Null Count  Dtype \n",
      "---  ------        --------------  ----- \n",
      " 0   Name          5357 non-null   object\n",
      " 1   Price         5357 non-null   int64 \n",
      " 2   Sale_Date     5357 non-null   object\n",
      " 3   Public Year   5357 non-null   int64 \n",
      " 4   Mileage       5357 non-null   int64 \n",
      " 5   Origin        5357 non-null   object\n",
      " 6   Body_Type     5357 non-null   object\n",
      " 7   Seats         5357 non-null   int64 \n",
      " 8   City          5357 non-null   object\n",
      " 9   Year          5357 non-null   int64 \n",
      " 10  Fuel_Type     5357 non-null   object\n",
      " 11  Engine        5357 non-null   int64 \n",
      " 12  Manufacturer  5357 non-null   object\n",
      "dtypes: int64(6), object(7)\n",
      "memory usage: 715.0+ KB\n"
     ]
    }
   ],
   "source": [
    "df_bonbanh_inf.info()"
   ]
  },
  {
   "cell_type": "code",
   "execution_count": 932,
   "metadata": {},
   "outputs": [
    {
     "data": {
      "text/html": [
       "<div>\n",
       "<style scoped>\n",
       "    .dataframe tbody tr th:only-of-type {\n",
       "        vertical-align: middle;\n",
       "    }\n",
       "\n",
       "    .dataframe tbody tr th {\n",
       "        vertical-align: top;\n",
       "    }\n",
       "\n",
       "    .dataframe thead th {\n",
       "        text-align: right;\n",
       "    }\n",
       "</style>\n",
       "<table border=\"1\" class=\"dataframe\">\n",
       "  <thead>\n",
       "    <tr style=\"text-align: right;\">\n",
       "      <th></th>\n",
       "      <th>Price</th>\n",
       "      <th>Public Year</th>\n",
       "      <th>Mileage</th>\n",
       "      <th>Seats</th>\n",
       "      <th>Year</th>\n",
       "      <th>Engine</th>\n",
       "    </tr>\n",
       "  </thead>\n",
       "  <tbody>\n",
       "    <tr>\n",
       "      <th>count</th>\n",
       "      <td>5357.000000</td>\n",
       "      <td>5357.000000</td>\n",
       "      <td>5.357000e+03</td>\n",
       "      <td>5357.000000</td>\n",
       "      <td>5357.000000</td>\n",
       "      <td>5357.000000</td>\n",
       "    </tr>\n",
       "    <tr>\n",
       "      <th>mean</th>\n",
       "      <td>1346.485346</td>\n",
       "      <td>2019.655031</td>\n",
       "      <td>5.018477e+04</td>\n",
       "      <td>5.572335</td>\n",
       "      <td>4.344969</td>\n",
       "      <td>2151.810715</td>\n",
       "    </tr>\n",
       "    <tr>\n",
       "      <th>std</th>\n",
       "      <td>1575.819671</td>\n",
       "      <td>2.625224</td>\n",
       "      <td>1.228567e+05</td>\n",
       "      <td>1.147229</td>\n",
       "      <td>2.625224</td>\n",
       "      <td>851.792955</td>\n",
       "    </tr>\n",
       "    <tr>\n",
       "      <th>min</th>\n",
       "      <td>155.000000</td>\n",
       "      <td>2004.000000</td>\n",
       "      <td>0.000000e+00</td>\n",
       "      <td>2.000000</td>\n",
       "      <td>0.000000</td>\n",
       "      <td>0.000000</td>\n",
       "    </tr>\n",
       "    <tr>\n",
       "      <th>25%</th>\n",
       "      <td>545.000000</td>\n",
       "      <td>2018.000000</td>\n",
       "      <td>2.300000e+04</td>\n",
       "      <td>5.000000</td>\n",
       "      <td>2.000000</td>\n",
       "      <td>1600.000000</td>\n",
       "    </tr>\n",
       "    <tr>\n",
       "      <th>50%</th>\n",
       "      <td>785.000000</td>\n",
       "      <td>2020.000000</td>\n",
       "      <td>4.600000e+04</td>\n",
       "      <td>5.000000</td>\n",
       "      <td>4.000000</td>\n",
       "      <td>2000.000000</td>\n",
       "    </tr>\n",
       "    <tr>\n",
       "      <th>75%</th>\n",
       "      <td>1399.000000</td>\n",
       "      <td>2022.000000</td>\n",
       "      <td>6.900000e+04</td>\n",
       "      <td>7.000000</td>\n",
       "      <td>6.000000</td>\n",
       "      <td>2400.000000</td>\n",
       "    </tr>\n",
       "    <tr>\n",
       "      <th>max</th>\n",
       "      <td>26999.000000</td>\n",
       "      <td>2024.000000</td>\n",
       "      <td>8.000000e+06</td>\n",
       "      <td>47.000000</td>\n",
       "      <td>20.000000</td>\n",
       "      <td>6800.000000</td>\n",
       "    </tr>\n",
       "  </tbody>\n",
       "</table>\n",
       "</div>"
      ],
      "text/plain": [
       "              Price  Public Year       Mileage        Seats         Year  \\\n",
       "count   5357.000000  5357.000000  5.357000e+03  5357.000000  5357.000000   \n",
       "mean    1346.485346  2019.655031  5.018477e+04     5.572335     4.344969   \n",
       "std     1575.819671     2.625224  1.228567e+05     1.147229     2.625224   \n",
       "min      155.000000  2004.000000  0.000000e+00     2.000000     0.000000   \n",
       "25%      545.000000  2018.000000  2.300000e+04     5.000000     2.000000   \n",
       "50%      785.000000  2020.000000  4.600000e+04     5.000000     4.000000   \n",
       "75%     1399.000000  2022.000000  6.900000e+04     7.000000     6.000000   \n",
       "max    26999.000000  2024.000000  8.000000e+06    47.000000    20.000000   \n",
       "\n",
       "            Engine  \n",
       "count  5357.000000  \n",
       "mean   2151.810715  \n",
       "std     851.792955  \n",
       "min       0.000000  \n",
       "25%    1600.000000  \n",
       "50%    2000.000000  \n",
       "75%    2400.000000  \n",
       "max    6800.000000  "
      ]
     },
     "execution_count": 932,
     "metadata": {},
     "output_type": "execute_result"
    }
   ],
   "source": [
    "df_bonbanh_inf.describe()"
   ]
  },
  {
   "cell_type": "markdown",
   "metadata": {},
   "source": [
    "Can merge: Name, Public Year, Mileage, Body_Type, Origin, City, Fuel_Type, Sale_Date, Manufacturer, Year, Price \\\\\\\n",
    "Error: Seats, Engine, Transmission"
   ]
  },
  {
   "cell_type": "code",
   "execution_count": 933,
   "metadata": {},
   "outputs": [],
   "source": [
    "# merge_keys = ['Name', 'Public Year', 'Mileage', 'Body_Type', 'Origin', 'City', 'Fuel_Type', 'Sale_Date', 'Manufacturer', 'Year', 'Price']\n",
    "\n",
    "# final_data = pd.merge(df_bonbanh_inf, df_used_Car, on=merge_keys, how='outer')\n",
    "# final_data.info()"
   ]
  },
  {
   "cell_type": "code",
   "execution_count": 934,
   "metadata": {},
   "outputs": [],
   "source": [
    "# def find_engine(row, df):\n",
    "#     filtered_df = df[df['Name'] != row['Name']]\n",
    "\n",
    "#     match = process.extractOne(row['Name'], filtered_df['Name'], score_cutoff=90)\n",
    "    \n",
    "#     if match and match[1] > 87:\n",
    "#         similar_car_name = match[0]\n",
    "#         print(f\"Tên xe cũ: '{row['Name']}' - Tên xe tương tự: '{similar_car_name}' - Điểm tương đồng: {match[1]}\")\n",
    "\n",
    "#         engine_values = df.loc[df['Name'] == similar_car_name, ['Engine', 'Public Year']]\n",
    "        \n",
    "#         if not engine_values.empty:\n",
    "#             engine_value = engine_values.iloc[0]['Engine']\n",
    "#             similar_year = engine_values.iloc[0]['Public Year']\n",
    "\n",
    "#             if similar_year == row['Public Year']:\n",
    "#                 return engine_value\n",
    "        \n",
    "#         print(f\"Không tìm thấy giá trị Engine cho tên xe '{similar_car_name}' hoặc năm không phù hợp.\")\n",
    "\n",
    "#     return None\n",
    "\n",
    "# final_data['Engine'] = final_data.apply(\n",
    "#     lambda row: find_engine(row, final_data) if pd.isna(row['Engine']) else row['Engine'], \n",
    "#     axis=1\n",
    "# )"
   ]
  },
  {
   "cell_type": "code",
   "execution_count": 935,
   "metadata": {},
   "outputs": [],
   "source": [
    "final_data = df_bonbanh_inf"
   ]
  },
  {
   "cell_type": "code",
   "execution_count": 936,
   "metadata": {},
   "outputs": [
    {
     "name": "stdout",
     "output_type": "stream",
     "text": [
      "<class 'pandas.core.frame.DataFrame'>\n",
      "Index: 5357 entries, 0 to 5439\n",
      "Data columns (total 13 columns):\n",
      " #   Column        Non-Null Count  Dtype \n",
      "---  ------        --------------  ----- \n",
      " 0   Name          5357 non-null   object\n",
      " 1   Price         5357 non-null   int64 \n",
      " 2   Sale_Date     5357 non-null   object\n",
      " 3   Public Year   5357 non-null   int64 \n",
      " 4   Mileage       5357 non-null   int64 \n",
      " 5   Origin        5357 non-null   object\n",
      " 6   Body_Type     5357 non-null   object\n",
      " 7   Seats         5357 non-null   int64 \n",
      " 8   City          5357 non-null   object\n",
      " 9   Year          5357 non-null   int64 \n",
      " 10  Fuel_Type     5357 non-null   object\n",
      " 11  Engine        5357 non-null   int64 \n",
      " 12  Manufacturer  5357 non-null   object\n",
      "dtypes: int64(6), object(7)\n",
      "memory usage: 715.0+ KB\n"
     ]
    }
   ],
   "source": [
    "final_data.info()"
   ]
  },
  {
   "cell_type": "code",
   "execution_count": 937,
   "metadata": {},
   "outputs": [
    {
     "name": "stdout",
     "output_type": "stream",
     "text": [
      "<class 'pandas.core.frame.DataFrame'>\n",
      "Index: 4713 entries, 0 to 5439\n",
      "Data columns (total 13 columns):\n",
      " #   Column        Non-Null Count  Dtype \n",
      "---  ------        --------------  ----- \n",
      " 0   Name          4713 non-null   object\n",
      " 1   Price         4713 non-null   int64 \n",
      " 2   Sale_Date     4713 non-null   object\n",
      " 3   Public Year   4713 non-null   int64 \n",
      " 4   Mileage       4713 non-null   int64 \n",
      " 5   Origin        4713 non-null   object\n",
      " 6   Body_Type     4713 non-null   object\n",
      " 7   Seats         4713 non-null   int64 \n",
      " 8   City          4713 non-null   object\n",
      " 9   Year          4713 non-null   int64 \n",
      " 10  Fuel_Type     4713 non-null   object\n",
      " 11  Engine        4713 non-null   int64 \n",
      " 12  Manufacturer  4713 non-null   object\n",
      "dtypes: int64(6), object(7)\n",
      "memory usage: 515.5+ KB\n"
     ]
    }
   ],
   "source": [
    "Q1 = final_data['Price'].quantile(0.25)\n",
    "Q3 = final_data['Price'].quantile(0.75)\n",
    "IQR = Q3 - Q1\n",
    "\n",
    "lower_bound = Q1 - 1.5 * IQR\n",
    "upper_bound = Q3 + 1.5 * IQR\n",
    "\n",
    "final_data = final_data[(final_data['Price'] >= lower_bound) & (final_data['Price'] <= upper_bound)]\n",
    "final_data.info()"
   ]
  },
  {
   "cell_type": "code",
   "execution_count": 938,
   "metadata": {},
   "outputs": [
    {
     "name": "stdout",
     "output_type": "stream",
     "text": [
      "<class 'pandas.core.frame.DataFrame'>\n",
      "Index: 4713 entries, 0 to 5439\n",
      "Data columns (total 13 columns):\n",
      " #   Column        Non-Null Count  Dtype \n",
      "---  ------        --------------  ----- \n",
      " 0   Name          4713 non-null   object\n",
      " 1   Price         4713 non-null   int64 \n",
      " 2   Sale_Date     4713 non-null   object\n",
      " 3   Public Year   4713 non-null   int64 \n",
      " 4   Mileage       4713 non-null   int64 \n",
      " 5   Origin        4713 non-null   object\n",
      " 6   Body_Type     4713 non-null   object\n",
      " 7   Seats         4713 non-null   int64 \n",
      " 8   City          4713 non-null   object\n",
      " 9   Year          4713 non-null   int64 \n",
      " 10  Fuel_Type     4713 non-null   object\n",
      " 11  Engine        4713 non-null   int64 \n",
      " 12  Manufacturer  4713 non-null   object\n",
      "dtypes: int64(6), object(7)\n",
      "memory usage: 515.5+ KB\n"
     ]
    }
   ],
   "source": [
    "final_data.info()"
   ]
  },
  {
   "cell_type": "markdown",
   "metadata": {},
   "source": [
    "### Formating\n"
   ]
  },
  {
   "cell_type": "code",
   "execution_count": 939,
   "metadata": {},
   "outputs": [
    {
     "name": "stdout",
     "output_type": "stream",
     "text": [
      "Giá trị duy nhất trong 'Origin': ['Lap rap' 'Nhap khau']\n",
      "Giá trị duy nhất trong 'Body_Type': ['Sedan' 'SUV' 'Crossover' 'Ban tai' 'Van' 'Hatchback' 'Convertible'\n",
      " 'Coupe']\n",
      "Giá trị duy nhất trong 'City': ['Ha Noi' 'TP HCM' 'Hai Phong' 'Dak Lak' 'Ninh Binh' 'Bac Ninh'\n",
      " 'Binh Duong' 'Gia Lai' 'Nghe An' 'Quang Ninh' 'Ba Ria Vung Tau'\n",
      " 'Hai Duong' 'Long An']\n",
      "Giá trị duy nhất trong 'Fuel_Type': ['Xang' 'Dau' 'Hybrid' 'Dien']\n",
      "Giá trị duy nhất trong 'Manufacturer': ['Hyundai' 'MG' 'Toyota' 'Mercedes' 'Ford' 'Mitsubishi' 'Kia' 'Mini'\n",
      " 'Honda' 'Peugeot' 'Nissan' 'Lexus' 'Mazda' 'Audi' 'VinFast' 'BMW'\n",
      " 'Chevrolet' 'Bentley' 'Land Rover' 'Volkswagen' 'Porsche' 'Suzuki'\n",
      " 'Volvo' 'Subaru' 'Isuzu' 'Infiniti' 'Ssangyong' 'Jaguar' 'Maserati'\n",
      " 'Lincoln' 'Skoda']\n"
     ]
    }
   ],
   "source": [
    "for column in ['Origin', 'Body_Type', 'City', 'Fuel_Type', 'Manufacturer']:\n",
    "    unique_values = final_data[column].unique()\n",
    "    print(f\"Giá trị duy nhất trong '{column}': {unique_values}\")"
   ]
  },
  {
   "cell_type": "code",
   "execution_count": 940,
   "metadata": {},
   "outputs": [
    {
     "name": "stderr",
     "output_type": "stream",
     "text": [
      "C:\\Users\\Admin\\AppData\\Local\\Temp\\ipykernel_26584\\3328532522.py:1: SettingWithCopyWarning: \n",
      "A value is trying to be set on a copy of a slice from a DataFrame.\n",
      "Try using .loc[row_indexer,col_indexer] = value instead\n",
      "\n",
      "See the caveats in the documentation: https://pandas.pydata.org/pandas-docs/stable/user_guide/indexing.html#returning-a-view-versus-a-copy\n",
      "  final_data['City'] = final_data['City'].replace({\n"
     ]
    }
   ],
   "source": [
    "final_data['City'] = final_data['City'].replace({\n",
    "    'Tp.HCM': 'TP HCM'\n",
    "})"
   ]
  },
  {
   "cell_type": "markdown",
   "metadata": {},
   "source": [
    "### Binning"
   ]
  },
  {
   "cell_type": "code",
   "execution_count": 941,
   "metadata": {},
   "outputs": [
    {
     "data": {
      "text/html": [
       "<div>\n",
       "<style scoped>\n",
       "    .dataframe tbody tr th:only-of-type {\n",
       "        vertical-align: middle;\n",
       "    }\n",
       "\n",
       "    .dataframe tbody tr th {\n",
       "        vertical-align: top;\n",
       "    }\n",
       "\n",
       "    .dataframe thead th {\n",
       "        text-align: right;\n",
       "    }\n",
       "</style>\n",
       "<table border=\"1\" class=\"dataframe\">\n",
       "  <thead>\n",
       "    <tr style=\"text-align: right;\">\n",
       "      <th></th>\n",
       "      <th>Price</th>\n",
       "      <th>Public Year</th>\n",
       "      <th>Mileage</th>\n",
       "      <th>Seats</th>\n",
       "      <th>Year</th>\n",
       "      <th>Engine</th>\n",
       "    </tr>\n",
       "  </thead>\n",
       "  <tbody>\n",
       "    <tr>\n",
       "      <th>count</th>\n",
       "      <td>4713.000000</td>\n",
       "      <td>4713.000000</td>\n",
       "      <td>4.713000e+03</td>\n",
       "      <td>4713.000000</td>\n",
       "      <td>4713.000000</td>\n",
       "      <td>4713.000000</td>\n",
       "    </tr>\n",
       "    <tr>\n",
       "      <th>mean</th>\n",
       "      <td>889.503925</td>\n",
       "      <td>2019.657119</td>\n",
       "      <td>5.121911e+04</td>\n",
       "      <td>5.564821</td>\n",
       "      <td>4.342881</td>\n",
       "      <td>1961.500106</td>\n",
       "    </tr>\n",
       "    <tr>\n",
       "      <th>std</th>\n",
       "      <td>529.661509</td>\n",
       "      <td>2.638036</td>\n",
       "      <td>1.304379e+05</td>\n",
       "      <td>0.929890</td>\n",
       "      <td>2.638036</td>\n",
       "      <td>578.090479</td>\n",
       "    </tr>\n",
       "    <tr>\n",
       "      <th>min</th>\n",
       "      <td>155.000000</td>\n",
       "      <td>2004.000000</td>\n",
       "      <td>0.000000e+00</td>\n",
       "      <td>2.000000</td>\n",
       "      <td>0.000000</td>\n",
       "      <td>0.000000</td>\n",
       "    </tr>\n",
       "    <tr>\n",
       "      <th>25%</th>\n",
       "      <td>525.000000</td>\n",
       "      <td>2018.000000</td>\n",
       "      <td>2.400000e+04</td>\n",
       "      <td>5.000000</td>\n",
       "      <td>2.000000</td>\n",
       "      <td>1500.000000</td>\n",
       "    </tr>\n",
       "    <tr>\n",
       "      <th>50%</th>\n",
       "      <td>720.000000</td>\n",
       "      <td>2020.000000</td>\n",
       "      <td>4.700000e+04</td>\n",
       "      <td>5.000000</td>\n",
       "      <td>4.000000</td>\n",
       "      <td>2000.000000</td>\n",
       "    </tr>\n",
       "    <tr>\n",
       "      <th>75%</th>\n",
       "      <td>1090.000000</td>\n",
       "      <td>2022.000000</td>\n",
       "      <td>7.000000e+04</td>\n",
       "      <td>7.000000</td>\n",
       "      <td>6.000000</td>\n",
       "      <td>2200.000000</td>\n",
       "    </tr>\n",
       "    <tr>\n",
       "      <th>max</th>\n",
       "      <td>2680.000000</td>\n",
       "      <td>2024.000000</td>\n",
       "      <td>8.000000e+06</td>\n",
       "      <td>8.000000</td>\n",
       "      <td>20.000000</td>\n",
       "      <td>6200.000000</td>\n",
       "    </tr>\n",
       "  </tbody>\n",
       "</table>\n",
       "</div>"
      ],
      "text/plain": [
       "             Price  Public Year       Mileage        Seats         Year  \\\n",
       "count  4713.000000  4713.000000  4.713000e+03  4713.000000  4713.000000   \n",
       "mean    889.503925  2019.657119  5.121911e+04     5.564821     4.342881   \n",
       "std     529.661509     2.638036  1.304379e+05     0.929890     2.638036   \n",
       "min     155.000000  2004.000000  0.000000e+00     2.000000     0.000000   \n",
       "25%     525.000000  2018.000000  2.400000e+04     5.000000     2.000000   \n",
       "50%     720.000000  2020.000000  4.700000e+04     5.000000     4.000000   \n",
       "75%    1090.000000  2022.000000  7.000000e+04     7.000000     6.000000   \n",
       "max    2680.000000  2024.000000  8.000000e+06     8.000000    20.000000   \n",
       "\n",
       "            Engine  \n",
       "count  4713.000000  \n",
       "mean   1961.500106  \n",
       "std     578.090479  \n",
       "min       0.000000  \n",
       "25%    1500.000000  \n",
       "50%    2000.000000  \n",
       "75%    2200.000000  \n",
       "max    6200.000000  "
      ]
     },
     "execution_count": 941,
     "metadata": {},
     "output_type": "execute_result"
    }
   ],
   "source": [
    "final_data.describe()"
   ]
  },
  {
   "cell_type": "code",
   "execution_count": 942,
   "metadata": {},
   "outputs": [
    {
     "name": "stderr",
     "output_type": "stream",
     "text": [
      "C:\\Users\\Admin\\AppData\\Local\\Temp\\ipykernel_26584\\1394480854.py:3: SettingWithCopyWarning: \n",
      "A value is trying to be set on a copy of a slice from a DataFrame.\n",
      "Try using .loc[row_indexer,col_indexer] = value instead\n",
      "\n",
      "See the caveats in the documentation: https://pandas.pydata.org/pandas-docs/stable/user_guide/indexing.html#returning-a-view-versus-a-copy\n",
      "  final_data['Price-binned'] = pd.qcut(final_data['Price'], q=4, labels=['Low', 'Medium', 'High', 'Luxury'])\n"
     ]
    }
   ],
   "source": [
    "nins = [0, 300, 800, 2000, float('inf')]\n",
    "\n",
    "final_data['Price-binned'] = pd.qcut(final_data['Price'], q=4, labels=['Low', 'Medium', 'High', 'Luxury'])"
   ]
  },
  {
   "cell_type": "code",
   "execution_count": 943,
   "metadata": {},
   "outputs": [
    {
     "data": {
      "text/plain": [
       "['Low', 'High', 'Medium', 'Luxury']\n",
       "Categories (4, object): ['Low' < 'Medium' < 'High' < 'Luxury']"
      ]
     },
     "execution_count": 943,
     "metadata": {},
     "output_type": "execute_result"
    }
   ],
   "source": [
    "final_data['Price-binned'].unique()"
   ]
  },
  {
   "cell_type": "markdown",
   "metadata": {},
   "source": [
    "### Data Normalization (Min - max scaling)"
   ]
  },
  {
   "cell_type": "markdown",
   "metadata": {},
   "source": [
    "### Encode(One-hot-encoding)"
   ]
  },
  {
   "cell_type": "code",
   "execution_count": 944,
   "metadata": {},
   "outputs": [
    {
     "name": "stdout",
     "output_type": "stream",
     "text": [
      "<class 'pandas.core.frame.DataFrame'>\n",
      "Index: 4713 entries, 0 to 5439\n",
      "Data columns (total 14 columns):\n",
      " #   Column        Non-Null Count  Dtype   \n",
      "---  ------        --------------  -----   \n",
      " 0   Name          4713 non-null   object  \n",
      " 1   Price         4713 non-null   int64   \n",
      " 2   Sale_Date     4713 non-null   object  \n",
      " 3   Public Year   4713 non-null   int64   \n",
      " 4   Mileage       4713 non-null   int64   \n",
      " 5   Origin        4713 non-null   object  \n",
      " 6   Body_Type     4713 non-null   object  \n",
      " 7   Seats         4713 non-null   int64   \n",
      " 8   City          4713 non-null   object  \n",
      " 9   Year          4713 non-null   int64   \n",
      " 10  Fuel_Type     4713 non-null   object  \n",
      " 11  Engine        4713 non-null   int64   \n",
      " 12  Manufacturer  4713 non-null   object  \n",
      " 13  Price-binned  4713 non-null   category\n",
      "dtypes: category(1), int64(6), object(7)\n",
      "memory usage: 520.3+ KB\n"
     ]
    }
   ],
   "source": [
    "final_data.info()"
   ]
  },
  {
   "cell_type": "code",
   "execution_count": 945,
   "metadata": {},
   "outputs": [],
   "source": [
    "final_data_encoded = pd.get_dummies(final_data, columns=['Origin', 'Body_Type', 'City', 'Fuel_Type', 'Manufacturer', 'Price-binned'])"
   ]
  },
  {
   "cell_type": "code",
   "execution_count": 946,
   "metadata": {},
   "outputs": [
    {
     "name": "stdout",
     "output_type": "stream",
     "text": [
      "<class 'pandas.core.frame.DataFrame'>\n",
      "Index: 4713 entries, 0 to 5439\n",
      "Data columns (total 70 columns):\n",
      " #   Column                   Non-Null Count  Dtype \n",
      "---  ------                   --------------  ----- \n",
      " 0   Name                     4713 non-null   object\n",
      " 1   Price                    4713 non-null   int64 \n",
      " 2   Sale_Date                4713 non-null   object\n",
      " 3   Public Year              4713 non-null   int64 \n",
      " 4   Mileage                  4713 non-null   int64 \n",
      " 5   Seats                    4713 non-null   int64 \n",
      " 6   Year                     4713 non-null   int64 \n",
      " 7   Engine                   4713 non-null   int64 \n",
      " 8   Origin_Lap rap           4713 non-null   bool  \n",
      " 9   Origin_Nhap khau         4713 non-null   bool  \n",
      " 10  Body_Type_Ban tai        4713 non-null   bool  \n",
      " 11  Body_Type_Convertible    4713 non-null   bool  \n",
      " 12  Body_Type_Coupe          4713 non-null   bool  \n",
      " 13  Body_Type_Crossover      4713 non-null   bool  \n",
      " 14  Body_Type_Hatchback      4713 non-null   bool  \n",
      " 15  Body_Type_SUV            4713 non-null   bool  \n",
      " 16  Body_Type_Sedan          4713 non-null   bool  \n",
      " 17  Body_Type_Van            4713 non-null   bool  \n",
      " 18  City_Ba Ria Vung Tau     4713 non-null   bool  \n",
      " 19  City_Bac Ninh            4713 non-null   bool  \n",
      " 20  City_Binh Duong          4713 non-null   bool  \n",
      " 21  City_Dak Lak             4713 non-null   bool  \n",
      " 22  City_Gia Lai             4713 non-null   bool  \n",
      " 23  City_Ha Noi              4713 non-null   bool  \n",
      " 24  City_Hai Duong           4713 non-null   bool  \n",
      " 25  City_Hai Phong           4713 non-null   bool  \n",
      " 26  City_Long An             4713 non-null   bool  \n",
      " 27  City_Nghe An             4713 non-null   bool  \n",
      " 28  City_Ninh Binh           4713 non-null   bool  \n",
      " 29  City_Quang Ninh          4713 non-null   bool  \n",
      " 30  City_TP HCM              4713 non-null   bool  \n",
      " 31  Fuel_Type_Dau            4713 non-null   bool  \n",
      " 32  Fuel_Type_Dien           4713 non-null   bool  \n",
      " 33  Fuel_Type_Hybrid         4713 non-null   bool  \n",
      " 34  Fuel_Type_Xang           4713 non-null   bool  \n",
      " 35  Manufacturer_Audi        4713 non-null   bool  \n",
      " 36  Manufacturer_BMW         4713 non-null   bool  \n",
      " 37  Manufacturer_Bentley     4713 non-null   bool  \n",
      " 38  Manufacturer_Chevrolet   4713 non-null   bool  \n",
      " 39  Manufacturer_Ford        4713 non-null   bool  \n",
      " 40  Manufacturer_Honda       4713 non-null   bool  \n",
      " 41  Manufacturer_Hyundai     4713 non-null   bool  \n",
      " 42  Manufacturer_Infiniti    4713 non-null   bool  \n",
      " 43  Manufacturer_Isuzu       4713 non-null   bool  \n",
      " 44  Manufacturer_Jaguar      4713 non-null   bool  \n",
      " 45  Manufacturer_Kia         4713 non-null   bool  \n",
      " 46  Manufacturer_Land Rover  4713 non-null   bool  \n",
      " 47  Manufacturer_Lexus       4713 non-null   bool  \n",
      " 48  Manufacturer_Lincoln     4713 non-null   bool  \n",
      " 49  Manufacturer_MG          4713 non-null   bool  \n",
      " 50  Manufacturer_Maserati    4713 non-null   bool  \n",
      " 51  Manufacturer_Mazda       4713 non-null   bool  \n",
      " 52  Manufacturer_Mercedes    4713 non-null   bool  \n",
      " 53  Manufacturer_Mini        4713 non-null   bool  \n",
      " 54  Manufacturer_Mitsubishi  4713 non-null   bool  \n",
      " 55  Manufacturer_Nissan      4713 non-null   bool  \n",
      " 56  Manufacturer_Peugeot     4713 non-null   bool  \n",
      " 57  Manufacturer_Porsche     4713 non-null   bool  \n",
      " 58  Manufacturer_Skoda       4713 non-null   bool  \n",
      " 59  Manufacturer_Ssangyong   4713 non-null   bool  \n",
      " 60  Manufacturer_Subaru      4713 non-null   bool  \n",
      " 61  Manufacturer_Suzuki      4713 non-null   bool  \n",
      " 62  Manufacturer_Toyota      4713 non-null   bool  \n",
      " 63  Manufacturer_VinFast     4713 non-null   bool  \n",
      " 64  Manufacturer_Volkswagen  4713 non-null   bool  \n",
      " 65  Manufacturer_Volvo       4713 non-null   bool  \n",
      " 66  Price-binned_Low         4713 non-null   bool  \n",
      " 67  Price-binned_Medium      4713 non-null   bool  \n",
      " 68  Price-binned_High        4713 non-null   bool  \n",
      " 69  Price-binned_Luxury      4713 non-null   bool  \n",
      "dtypes: bool(62), int64(6), object(2)\n",
      "memory usage: 616.7+ KB\n"
     ]
    }
   ],
   "source": [
    "final_data_encoded.info()"
   ]
  },
  {
   "cell_type": "markdown",
   "metadata": {},
   "source": [
    "Map boolean to 0 1"
   ]
  },
  {
   "cell_type": "code",
   "execution_count": 947,
   "metadata": {},
   "outputs": [
    {
     "name": "stdout",
     "output_type": "stream",
     "text": [
      "<class 'pandas.core.frame.DataFrame'>\n",
      "Index: 4713 entries, 0 to 5439\n",
      "Data columns (total 70 columns):\n",
      " #   Column                   Non-Null Count  Dtype \n",
      "---  ------                   --------------  ----- \n",
      " 0   Name                     4713 non-null   object\n",
      " 1   Price                    4713 non-null   int64 \n",
      " 2   Sale_Date                4713 non-null   object\n",
      " 3   Public Year              4713 non-null   int64 \n",
      " 4   Mileage                  4713 non-null   int64 \n",
      " 5   Seats                    4713 non-null   int64 \n",
      " 6   Year                     4713 non-null   int64 \n",
      " 7   Engine                   4713 non-null   int64 \n",
      " 8   Origin_Lap rap           4713 non-null   int64 \n",
      " 9   Origin_Nhap khau         4713 non-null   int64 \n",
      " 10  Body_Type_Ban tai        4713 non-null   int64 \n",
      " 11  Body_Type_Convertible    4713 non-null   int64 \n",
      " 12  Body_Type_Coupe          4713 non-null   int64 \n",
      " 13  Body_Type_Crossover      4713 non-null   int64 \n",
      " 14  Body_Type_Hatchback      4713 non-null   int64 \n",
      " 15  Body_Type_SUV            4713 non-null   int64 \n",
      " 16  Body_Type_Sedan          4713 non-null   int64 \n",
      " 17  Body_Type_Van            4713 non-null   int64 \n",
      " 18  City_Ba Ria Vung Tau     4713 non-null   int64 \n",
      " 19  City_Bac Ninh            4713 non-null   int64 \n",
      " 20  City_Binh Duong          4713 non-null   int64 \n",
      " 21  City_Dak Lak             4713 non-null   int64 \n",
      " 22  City_Gia Lai             4713 non-null   int64 \n",
      " 23  City_Ha Noi              4713 non-null   int64 \n",
      " 24  City_Hai Duong           4713 non-null   int64 \n",
      " 25  City_Hai Phong           4713 non-null   int64 \n",
      " 26  City_Long An             4713 non-null   int64 \n",
      " 27  City_Nghe An             4713 non-null   int64 \n",
      " 28  City_Ninh Binh           4713 non-null   int64 \n",
      " 29  City_Quang Ninh          4713 non-null   int64 \n",
      " 30  City_TP HCM              4713 non-null   int64 \n",
      " 31  Fuel_Type_Dau            4713 non-null   int64 \n",
      " 32  Fuel_Type_Dien           4713 non-null   int64 \n",
      " 33  Fuel_Type_Hybrid         4713 non-null   int64 \n",
      " 34  Fuel_Type_Xang           4713 non-null   int64 \n",
      " 35  Manufacturer_Audi        4713 non-null   int64 \n",
      " 36  Manufacturer_BMW         4713 non-null   int64 \n",
      " 37  Manufacturer_Bentley     4713 non-null   int64 \n",
      " 38  Manufacturer_Chevrolet   4713 non-null   int64 \n",
      " 39  Manufacturer_Ford        4713 non-null   int64 \n",
      " 40  Manufacturer_Honda       4713 non-null   int64 \n",
      " 41  Manufacturer_Hyundai     4713 non-null   int64 \n",
      " 42  Manufacturer_Infiniti    4713 non-null   int64 \n",
      " 43  Manufacturer_Isuzu       4713 non-null   int64 \n",
      " 44  Manufacturer_Jaguar      4713 non-null   int64 \n",
      " 45  Manufacturer_Kia         4713 non-null   int64 \n",
      " 46  Manufacturer_Land Rover  4713 non-null   int64 \n",
      " 47  Manufacturer_Lexus       4713 non-null   int64 \n",
      " 48  Manufacturer_Lincoln     4713 non-null   int64 \n",
      " 49  Manufacturer_MG          4713 non-null   int64 \n",
      " 50  Manufacturer_Maserati    4713 non-null   int64 \n",
      " 51  Manufacturer_Mazda       4713 non-null   int64 \n",
      " 52  Manufacturer_Mercedes    4713 non-null   int64 \n",
      " 53  Manufacturer_Mini        4713 non-null   int64 \n",
      " 54  Manufacturer_Mitsubishi  4713 non-null   int64 \n",
      " 55  Manufacturer_Nissan      4713 non-null   int64 \n",
      " 56  Manufacturer_Peugeot     4713 non-null   int64 \n",
      " 57  Manufacturer_Porsche     4713 non-null   int64 \n",
      " 58  Manufacturer_Skoda       4713 non-null   int64 \n",
      " 59  Manufacturer_Ssangyong   4713 non-null   int64 \n",
      " 60  Manufacturer_Subaru      4713 non-null   int64 \n",
      " 61  Manufacturer_Suzuki      4713 non-null   int64 \n",
      " 62  Manufacturer_Toyota      4713 non-null   int64 \n",
      " 63  Manufacturer_VinFast     4713 non-null   int64 \n",
      " 64  Manufacturer_Volkswagen  4713 non-null   int64 \n",
      " 65  Manufacturer_Volvo       4713 non-null   int64 \n",
      " 66  Price-binned_Low         4713 non-null   int64 \n",
      " 67  Price-binned_Medium      4713 non-null   int64 \n",
      " 68  Price-binned_High        4713 non-null   int64 \n",
      " 69  Price-binned_Luxury      4713 non-null   int64 \n",
      "dtypes: int64(68), object(2)\n",
      "memory usage: 2.6+ MB\n"
     ]
    }
   ],
   "source": [
    "bool_columns = final_data_encoded.select_dtypes(include=['bool']).columns\n",
    "final_data_encoded[bool_columns] = final_data_encoded[bool_columns].astype(int)\n",
    "final_data_encoded.info()"
   ]
  },
  {
   "cell_type": "markdown",
   "metadata": {},
   "source": [
    "# Store data"
   ]
  },
  {
   "cell_type": "markdown",
   "metadata": {},
   "source": [
    "## Create table"
   ]
  },
  {
   "cell_type": "code",
   "execution_count": 948,
   "metadata": {},
   "outputs": [],
   "source": [
    "conn = pyodbc.connect(connection_string)\n",
    "cursor = conn.cursor()\n",
    "\n",
    "cursor.execute('''\n",
    "    CREATE TABLE final_data (\n",
    "        Name NVARCHAR(100),\n",
    "        Price FLOAT,\n",
    "        Sale_Date NVARCHAR(50),\n",
    "        Public_Year INT,\n",
    "        Mileage FLOAT,\n",
    "        Origin NVARCHAR(100),\n",
    "        Body_Type NVARCHAR(100),\n",
    "        Seats INT,\n",
    "        City NVARCHAR(100),\n",
    "        Year INT,\n",
    "        Fuel_Type NVARCHAR(50),\n",
    "        Engine INT,\n",
    "        Manufacturer NVARCHAR(100),\n",
    "        Price_binned NVARCHAR(50)\n",
    "    )\n",
    "''')\n",
    "\n",
    "conn.commit()"
   ]
  },
  {
   "cell_type": "markdown",
   "metadata": {},
   "source": [
    "## Insert"
   ]
  },
  {
   "cell_type": "code",
   "execution_count": 949,
   "metadata": {},
   "outputs": [],
   "source": [
    "cursor.execute('DELETE FROM final_data')\n",
    "\n",
    "for index, row in final_data.iterrows():\n",
    "    cursor.execute(''' \n",
    "        INSERT INTO final_data (Name, Price, Sale_Date, Public_Year, Mileage, Origin, Body_Type, Seats, City, Year, Fuel_Type, Engine, Manufacturer, Price_binned) \n",
    "        VALUES (?, ?, ?, ?, ?, ?, ?, ?, ?, ?, ?, ?, ?, ?)\n",
    "    ''', \n",
    "    row['Name'], row['Price'], row['Sale_Date'], row['Public Year'], row['Mileage'], \n",
    "    row['Origin'], row['Body_Type'], row['Seats'], row['City'], row['Year'], \n",
    "    row['Fuel_Type'], row['Engine'], row['Manufacturer'], row['Price-binned'])\n",
    "\n",
    "conn.commit()\n",
    "cursor.close()\n",
    "conn.close()\n"
   ]
  }
 ],
 "metadata": {
  "kernelspec": {
   "display_name": "Python 3",
   "language": "python",
   "name": "python3"
  },
  "language_info": {
   "codemirror_mode": {
    "name": "ipython",
    "version": 3
   },
   "file_extension": ".py",
   "mimetype": "text/x-python",
   "name": "python",
   "nbconvert_exporter": "python",
   "pygments_lexer": "ipython3",
   "version": "3.11.9"
  }
 },
 "nbformat": 4,
 "nbformat_minor": 2
}
