{
 "cells": [
  {
   "cell_type": "markdown",
   "metadata": {},
   "source": [
    "# Import libraries"
   ]
  },
  {
   "cell_type": "code",
   "execution_count": 1,
   "metadata": {},
   "outputs": [],
   "source": [
    "from selenium import webdriver\n",
    "from selenium.webdriver.edge.service import Service\n",
    "from selenium.webdriver.edge.options import Options\n",
    "from selenium.webdriver.common.by import By\n",
    "import time\n",
    "import random\n",
    "import pandas as pd\n",
    "import numpy as np\n",
    "from selenium.common.exceptions import NoSuchElementException, ElementClickInterceptedException\n",
    "from selenium.webdriver.support.ui import WebDriverWait\n",
    "from selenium.webdriver.support import expected_conditions as EC\n",
    "from fuzzywuzzy import fuzz\n",
    "from unidecode import unidecode"
   ]
  },
  {
   "cell_type": "markdown",
   "metadata": {},
   "source": [
    "# View info of the data"
   ]
  },
  {
   "cell_type": "code",
   "execution_count": 2,
   "metadata": {},
   "outputs": [
    {
     "name": "stdout",
     "output_type": "stream",
     "text": [
      "<class 'pandas.core.frame.DataFrame'>\n",
      "RangeIndex: 587 entries, 0 to 586\n",
      "Data columns (total 2 columns):\n",
      " #   Column  Non-Null Count  Dtype \n",
      "---  ------  --------------  ----- \n",
      " 0   name    587 non-null    object\n",
      " 1   link    587 non-null    object\n",
      "dtypes: object(2)\n",
      "memory usage: 9.3+ KB\n"
     ]
    }
   ],
   "source": [
    "vehicle_data = pd.read_csv('new_cars_data.csv')\n",
    "vehicle_data.info()"
   ]
  },
  {
   "cell_type": "markdown",
   "metadata": {},
   "source": [
    "# Crawling"
   ]
  },
  {
   "cell_type": "code",
   "execution_count": 3,
   "metadata": {},
   "outputs": [
    {
     "ename": "SessionNotCreatedException",
     "evalue": "Message: session not created: This version of Microsoft Edge WebDriver only supports Microsoft Edge version 128\nCurrent browser version is 130.0.2849.68 with binary path C:\\Program Files (x86)\\Microsoft\\Edge\\Application\\msedge.exe\nStacktrace:\n\tGetHandleVerifier [0x00007FF63BA43A22+10594]\n\tMicrosoft::Applications::Events::ILogConfiguration::operator* [0x00007FF63B9E0449+323337]\n\t(No symbol) [0x00007FF63B7FF16E]\n\t(No symbol) [0x00007FF63B837C1D]\n\t(No symbol) [0x00007FF63B8371E5]\n\t(No symbol) [0x00007FF63B833989]\n\t(No symbol) [0x00007FF63B82DF68]\n\t(No symbol) [0x00007FF63B8719CD]\n\t(No symbol) [0x00007FF63B8677E3]\n\t(No symbol) [0x00007FF63B83B3EC]\n\t(No symbol) [0x00007FF63B83A8CD]\n\t(No symbol) [0x00007FF63B83AFB1]\n\tMicrosoft::Applications::Events::EventProperty::empty [0x00007FF63BBCE4C4+918756]\n\tMicrosoft::Applications::Events::EventProperty::~EventProperty [0x00007FF63B96C9BF+54575]\n\tMicrosoft::Applications::Events::EventProperty::~EventProperty [0x00007FF63B95F557+199]\n\tMicrosoft::Applications::Events::EventProperty::empty [0x00007FF63BBCD24D+914029]\n\tMicrosoft::Applications::Events::ILogConfiguration::operator* [0x00007FF63B9E7ED1+354705]\n\tMicrosoft::Applications::Events::ILogConfiguration::operator* [0x00007FF63B9E4384+339524]\n\tMicrosoft::Applications::Events::ILogConfiguration::operator* [0x00007FF63B9E44B9+339833]\n\tMicrosoft::Applications::Events::ILogConfiguration::operator* [0x00007FF63B9DAD7C+301116]\n\tBaseThreadInitThunk [0x00007FFABF15257D+29]\n\tRtlUserThreadStart [0x00007FFAC03AAF08+40]\n",
     "output_type": "error",
     "traceback": [
      "\u001b[1;31m---------------------------------------------------------------------------\u001b[0m",
      "\u001b[1;31mSessionNotCreatedException\u001b[0m                Traceback (most recent call last)",
      "Cell \u001b[1;32mIn[3], line 7\u001b[0m\n\u001b[0;32m      3\u001b[0m options \u001b[38;5;241m=\u001b[39m Options()\n\u001b[0;32m      5\u001b[0m service \u001b[38;5;241m=\u001b[39m Service(executable_path\u001b[38;5;241m=\u001b[39medge_driver_path)\n\u001b[1;32m----> 7\u001b[0m driver \u001b[38;5;241m=\u001b[39m \u001b[43mwebdriver\u001b[49m\u001b[38;5;241;43m.\u001b[39;49m\u001b[43mEdge\u001b[49m\u001b[43m(\u001b[49m\u001b[43mservice\u001b[49m\u001b[38;5;241;43m=\u001b[39;49m\u001b[43mservice\u001b[49m\u001b[43m,\u001b[49m\u001b[43m \u001b[49m\u001b[43moptions\u001b[49m\u001b[38;5;241;43m=\u001b[39;49m\u001b[43moptions\u001b[49m\u001b[43m)\u001b[49m\n",
      "File \u001b[1;32m~\\AppData\\Local\\Packages\\PythonSoftwareFoundation.Python.3.11_qbz5n2kfra8p0\\LocalCache\\local-packages\\Python311\\site-packages\\selenium\\webdriver\\edge\\webdriver.py:45\u001b[0m, in \u001b[0;36mWebDriver.__init__\u001b[1;34m(self, options, service, keep_alive)\u001b[0m\n\u001b[0;32m     42\u001b[0m service \u001b[38;5;241m=\u001b[39m service \u001b[38;5;28;01mif\u001b[39;00m service \u001b[38;5;28;01melse\u001b[39;00m Service()\n\u001b[0;32m     43\u001b[0m options \u001b[38;5;241m=\u001b[39m options \u001b[38;5;28;01mif\u001b[39;00m options \u001b[38;5;28;01melse\u001b[39;00m Options()\n\u001b[1;32m---> 45\u001b[0m \u001b[38;5;28;43msuper\u001b[39;49m\u001b[43m(\u001b[49m\u001b[43m)\u001b[49m\u001b[38;5;241;43m.\u001b[39;49m\u001b[38;5;21;43m__init__\u001b[39;49m\u001b[43m(\u001b[49m\n\u001b[0;32m     46\u001b[0m \u001b[43m    \u001b[49m\u001b[43mbrowser_name\u001b[49m\u001b[38;5;241;43m=\u001b[39;49m\u001b[43mDesiredCapabilities\u001b[49m\u001b[38;5;241;43m.\u001b[39;49m\u001b[43mEDGE\u001b[49m\u001b[43m[\u001b[49m\u001b[38;5;124;43m\"\u001b[39;49m\u001b[38;5;124;43mbrowserName\u001b[39;49m\u001b[38;5;124;43m\"\u001b[39;49m\u001b[43m]\u001b[49m\u001b[43m,\u001b[49m\n\u001b[0;32m     47\u001b[0m \u001b[43m    \u001b[49m\u001b[43mvendor_prefix\u001b[49m\u001b[38;5;241;43m=\u001b[39;49m\u001b[38;5;124;43m\"\u001b[39;49m\u001b[38;5;124;43mms\u001b[39;49m\u001b[38;5;124;43m\"\u001b[39;49m\u001b[43m,\u001b[49m\n\u001b[0;32m     48\u001b[0m \u001b[43m    \u001b[49m\u001b[43moptions\u001b[49m\u001b[38;5;241;43m=\u001b[39;49m\u001b[43moptions\u001b[49m\u001b[43m,\u001b[49m\n\u001b[0;32m     49\u001b[0m \u001b[43m    \u001b[49m\u001b[43mservice\u001b[49m\u001b[38;5;241;43m=\u001b[39;49m\u001b[43mservice\u001b[49m\u001b[43m,\u001b[49m\n\u001b[0;32m     50\u001b[0m \u001b[43m    \u001b[49m\u001b[43mkeep_alive\u001b[49m\u001b[38;5;241;43m=\u001b[39;49m\u001b[43mkeep_alive\u001b[49m\u001b[43m,\u001b[49m\n\u001b[0;32m     51\u001b[0m \u001b[43m\u001b[49m\u001b[43m)\u001b[49m\n",
      "File \u001b[1;32m~\\AppData\\Local\\Packages\\PythonSoftwareFoundation.Python.3.11_qbz5n2kfra8p0\\LocalCache\\local-packages\\Python311\\site-packages\\selenium\\webdriver\\chromium\\webdriver.py:66\u001b[0m, in \u001b[0;36mChromiumDriver.__init__\u001b[1;34m(self, browser_name, vendor_prefix, options, service, keep_alive)\u001b[0m\n\u001b[0;32m     57\u001b[0m executor \u001b[38;5;241m=\u001b[39m ChromiumRemoteConnection(\n\u001b[0;32m     58\u001b[0m     remote_server_addr\u001b[38;5;241m=\u001b[39m\u001b[38;5;28mself\u001b[39m\u001b[38;5;241m.\u001b[39mservice\u001b[38;5;241m.\u001b[39mservice_url,\n\u001b[0;32m     59\u001b[0m     browser_name\u001b[38;5;241m=\u001b[39mbrowser_name,\n\u001b[1;32m   (...)\u001b[0m\n\u001b[0;32m     62\u001b[0m     ignore_proxy\u001b[38;5;241m=\u001b[39moptions\u001b[38;5;241m.\u001b[39m_ignore_local_proxy,\n\u001b[0;32m     63\u001b[0m )\n\u001b[0;32m     65\u001b[0m \u001b[38;5;28;01mtry\u001b[39;00m:\n\u001b[1;32m---> 66\u001b[0m     \u001b[38;5;28;43msuper\u001b[39;49m\u001b[43m(\u001b[49m\u001b[43m)\u001b[49m\u001b[38;5;241;43m.\u001b[39;49m\u001b[38;5;21;43m__init__\u001b[39;49m\u001b[43m(\u001b[49m\u001b[43mcommand_executor\u001b[49m\u001b[38;5;241;43m=\u001b[39;49m\u001b[43mexecutor\u001b[49m\u001b[43m,\u001b[49m\u001b[43m \u001b[49m\u001b[43moptions\u001b[49m\u001b[38;5;241;43m=\u001b[39;49m\u001b[43moptions\u001b[49m\u001b[43m)\u001b[49m\n\u001b[0;32m     67\u001b[0m \u001b[38;5;28;01mexcept\u001b[39;00m \u001b[38;5;167;01mException\u001b[39;00m:\n\u001b[0;32m     68\u001b[0m     \u001b[38;5;28mself\u001b[39m\u001b[38;5;241m.\u001b[39mquit()\n",
      "File \u001b[1;32m~\\AppData\\Local\\Packages\\PythonSoftwareFoundation.Python.3.11_qbz5n2kfra8p0\\LocalCache\\local-packages\\Python311\\site-packages\\selenium\\webdriver\\remote\\webdriver.py:212\u001b[0m, in \u001b[0;36mWebDriver.__init__\u001b[1;34m(self, command_executor, keep_alive, file_detector, options)\u001b[0m\n\u001b[0;32m    210\u001b[0m \u001b[38;5;28mself\u001b[39m\u001b[38;5;241m.\u001b[39m_authenticator_id \u001b[38;5;241m=\u001b[39m \u001b[38;5;28;01mNone\u001b[39;00m\n\u001b[0;32m    211\u001b[0m \u001b[38;5;28mself\u001b[39m\u001b[38;5;241m.\u001b[39mstart_client()\n\u001b[1;32m--> 212\u001b[0m \u001b[38;5;28;43mself\u001b[39;49m\u001b[38;5;241;43m.\u001b[39;49m\u001b[43mstart_session\u001b[49m\u001b[43m(\u001b[49m\u001b[43mcapabilities\u001b[49m\u001b[43m)\u001b[49m\n\u001b[0;32m    214\u001b[0m \u001b[38;5;28mself\u001b[39m\u001b[38;5;241m.\u001b[39m_websocket_connection \u001b[38;5;241m=\u001b[39m \u001b[38;5;28;01mNone\u001b[39;00m\n\u001b[0;32m    215\u001b[0m \u001b[38;5;28mself\u001b[39m\u001b[38;5;241m.\u001b[39m_script \u001b[38;5;241m=\u001b[39m \u001b[38;5;28;01mNone\u001b[39;00m\n",
      "File \u001b[1;32m~\\AppData\\Local\\Packages\\PythonSoftwareFoundation.Python.3.11_qbz5n2kfra8p0\\LocalCache\\local-packages\\Python311\\site-packages\\selenium\\webdriver\\remote\\webdriver.py:299\u001b[0m, in \u001b[0;36mWebDriver.start_session\u001b[1;34m(self, capabilities)\u001b[0m\n\u001b[0;32m    292\u001b[0m \u001b[38;5;250m\u001b[39m\u001b[38;5;124;03m\"\"\"Creates a new session with the desired capabilities.\u001b[39;00m\n\u001b[0;32m    293\u001b[0m \n\u001b[0;32m    294\u001b[0m \u001b[38;5;124;03m:Args:\u001b[39;00m\n\u001b[0;32m    295\u001b[0m \u001b[38;5;124;03m - capabilities - a capabilities dict to start the session with.\u001b[39;00m\n\u001b[0;32m    296\u001b[0m \u001b[38;5;124;03m\"\"\"\u001b[39;00m\n\u001b[0;32m    298\u001b[0m caps \u001b[38;5;241m=\u001b[39m _create_caps(capabilities)\n\u001b[1;32m--> 299\u001b[0m response \u001b[38;5;241m=\u001b[39m \u001b[38;5;28;43mself\u001b[39;49m\u001b[38;5;241;43m.\u001b[39;49m\u001b[43mexecute\u001b[49m\u001b[43m(\u001b[49m\u001b[43mCommand\u001b[49m\u001b[38;5;241;43m.\u001b[39;49m\u001b[43mNEW_SESSION\u001b[49m\u001b[43m,\u001b[49m\u001b[43m \u001b[49m\u001b[43mcaps\u001b[49m\u001b[43m)\u001b[49m[\u001b[38;5;124m\"\u001b[39m\u001b[38;5;124mvalue\u001b[39m\u001b[38;5;124m\"\u001b[39m]\n\u001b[0;32m    300\u001b[0m \u001b[38;5;28mself\u001b[39m\u001b[38;5;241m.\u001b[39msession_id \u001b[38;5;241m=\u001b[39m response\u001b[38;5;241m.\u001b[39mget(\u001b[38;5;124m\"\u001b[39m\u001b[38;5;124msessionId\u001b[39m\u001b[38;5;124m\"\u001b[39m)\n\u001b[0;32m    301\u001b[0m \u001b[38;5;28mself\u001b[39m\u001b[38;5;241m.\u001b[39mcaps \u001b[38;5;241m=\u001b[39m response\u001b[38;5;241m.\u001b[39mget(\u001b[38;5;124m\"\u001b[39m\u001b[38;5;124mcapabilities\u001b[39m\u001b[38;5;124m\"\u001b[39m)\n",
      "File \u001b[1;32m~\\AppData\\Local\\Packages\\PythonSoftwareFoundation.Python.3.11_qbz5n2kfra8p0\\LocalCache\\local-packages\\Python311\\site-packages\\selenium\\webdriver\\remote\\webdriver.py:354\u001b[0m, in \u001b[0;36mWebDriver.execute\u001b[1;34m(self, driver_command, params)\u001b[0m\n\u001b[0;32m    352\u001b[0m response \u001b[38;5;241m=\u001b[39m \u001b[38;5;28mself\u001b[39m\u001b[38;5;241m.\u001b[39mcommand_executor\u001b[38;5;241m.\u001b[39mexecute(driver_command, params)\n\u001b[0;32m    353\u001b[0m \u001b[38;5;28;01mif\u001b[39;00m response:\n\u001b[1;32m--> 354\u001b[0m     \u001b[38;5;28;43mself\u001b[39;49m\u001b[38;5;241;43m.\u001b[39;49m\u001b[43merror_handler\u001b[49m\u001b[38;5;241;43m.\u001b[39;49m\u001b[43mcheck_response\u001b[49m\u001b[43m(\u001b[49m\u001b[43mresponse\u001b[49m\u001b[43m)\u001b[49m\n\u001b[0;32m    355\u001b[0m     response[\u001b[38;5;124m\"\u001b[39m\u001b[38;5;124mvalue\u001b[39m\u001b[38;5;124m\"\u001b[39m] \u001b[38;5;241m=\u001b[39m \u001b[38;5;28mself\u001b[39m\u001b[38;5;241m.\u001b[39m_unwrap_value(response\u001b[38;5;241m.\u001b[39mget(\u001b[38;5;124m\"\u001b[39m\u001b[38;5;124mvalue\u001b[39m\u001b[38;5;124m\"\u001b[39m, \u001b[38;5;28;01mNone\u001b[39;00m))\n\u001b[0;32m    356\u001b[0m     \u001b[38;5;28;01mreturn\u001b[39;00m response\n",
      "File \u001b[1;32m~\\AppData\\Local\\Packages\\PythonSoftwareFoundation.Python.3.11_qbz5n2kfra8p0\\LocalCache\\local-packages\\Python311\\site-packages\\selenium\\webdriver\\remote\\errorhandler.py:229\u001b[0m, in \u001b[0;36mErrorHandler.check_response\u001b[1;34m(self, response)\u001b[0m\n\u001b[0;32m    227\u001b[0m         alert_text \u001b[38;5;241m=\u001b[39m value[\u001b[38;5;124m\"\u001b[39m\u001b[38;5;124malert\u001b[39m\u001b[38;5;124m\"\u001b[39m]\u001b[38;5;241m.\u001b[39mget(\u001b[38;5;124m\"\u001b[39m\u001b[38;5;124mtext\u001b[39m\u001b[38;5;124m\"\u001b[39m)\n\u001b[0;32m    228\u001b[0m     \u001b[38;5;28;01mraise\u001b[39;00m exception_class(message, screen, stacktrace, alert_text)  \u001b[38;5;66;03m# type: ignore[call-arg]  # mypy is not smart enough here\u001b[39;00m\n\u001b[1;32m--> 229\u001b[0m \u001b[38;5;28;01mraise\u001b[39;00m exception_class(message, screen, stacktrace)\n",
      "\u001b[1;31mSessionNotCreatedException\u001b[0m: Message: session not created: This version of Microsoft Edge WebDriver only supports Microsoft Edge version 128\nCurrent browser version is 130.0.2849.68 with binary path C:\\Program Files (x86)\\Microsoft\\Edge\\Application\\msedge.exe\nStacktrace:\n\tGetHandleVerifier [0x00007FF63BA43A22+10594]\n\tMicrosoft::Applications::Events::ILogConfiguration::operator* [0x00007FF63B9E0449+323337]\n\t(No symbol) [0x00007FF63B7FF16E]\n\t(No symbol) [0x00007FF63B837C1D]\n\t(No symbol) [0x00007FF63B8371E5]\n\t(No symbol) [0x00007FF63B833989]\n\t(No symbol) [0x00007FF63B82DF68]\n\t(No symbol) [0x00007FF63B8719CD]\n\t(No symbol) [0x00007FF63B8677E3]\n\t(No symbol) [0x00007FF63B83B3EC]\n\t(No symbol) [0x00007FF63B83A8CD]\n\t(No symbol) [0x00007FF63B83AFB1]\n\tMicrosoft::Applications::Events::EventProperty::empty [0x00007FF63BBCE4C4+918756]\n\tMicrosoft::Applications::Events::EventProperty::~EventProperty [0x00007FF63B96C9BF+54575]\n\tMicrosoft::Applications::Events::EventProperty::~EventProperty [0x00007FF63B95F557+199]\n\tMicrosoft::Applications::Events::EventProperty::empty [0x00007FF63BBCD24D+914029]\n\tMicrosoft::Applications::Events::ILogConfiguration::operator* [0x00007FF63B9E7ED1+354705]\n\tMicrosoft::Applications::Events::ILogConfiguration::operator* [0x00007FF63B9E4384+339524]\n\tMicrosoft::Applications::Events::ILogConfiguration::operator* [0x00007FF63B9E44B9+339833]\n\tMicrosoft::Applications::Events::ILogConfiguration::operator* [0x00007FF63B9DAD7C+301116]\n\tBaseThreadInitThunk [0x00007FFABF15257D+29]\n\tRtlUserThreadStart [0x00007FFAC03AAF08+40]\n"
     ]
    }
   ],
   "source": [
    "edge_driver_path = \"C:/Users/Admin/Downloads/edgedriver_win64/msedgedriver.exe\"\n",
    "\n",
    "options = Options()\n",
    "\n",
    "service = Service(executable_path=edge_driver_path)\n",
    "\n",
    "driver = webdriver.Edge(service=service, options=options)\n"
   ]
  },
  {
   "cell_type": "code",
   "execution_count": null,
   "metadata": {},
   "outputs": [
    {
     "name": "stdout",
     "output_type": "stream",
     "text": [
      "                            name  \\\n",
      "0                 Kia Morning MT   \n",
      "1              Suzuki Celerio MT   \n",
      "2                 Kia Morning AT   \n",
      "3           Toyota Wigo 1.2 G MT   \n",
      "4             Suzuki Celerio CVT   \n",
      "..                           ...   \n",
      "582     Mercedes-AMG G65 6.0 V12   \n",
      "583  Aston Martin Vanquish S V12   \n",
      "584        Rolls-Royce Ghost V12   \n",
      "585     Rolls-Royce Cullinan V12   \n",
      "586         Rolls-Royce Dawn V12   \n",
      "\n",
      "                                                  link  manufacturer  \\\n",
      "0              https://xebiz.vn/gia-xe/kia-morning-mt/           Kia   \n",
      "1           https://xebiz.vn/gia-xe/suzuki-celerio-mt/        Suzuki   \n",
      "2              https://xebiz.vn/gia-xe/kia-morning-at/           Kia   \n",
      "3        https://xebiz.vn/gia-xe/toyota-wigo-1-2-g-mt/        Toyota   \n",
      "4          https://xebiz.vn/gia-xe/suzuki-celerio-cvt/        Suzuki   \n",
      "..                                                 ...           ...   \n",
      "582  https://xebiz.vn/gia-xe/mercedes-amg-g65-6-0-v12/      Mercedes   \n",
      "583  https://xebiz.vn/gia-xe/aston-martin-vanquish-...  Aston Martin   \n",
      "584     https://xebiz.vn/gia-xe/rolls-royce-ghost-v12/   Rolls Royce   \n",
      "585  https://xebiz.vn/gia-xe/rolls-royce-cullinan-v12/   Rolls Royce   \n",
      "586      https://xebiz.vn/gia-xe/rolls-royce-dawn-v12/   Rolls Royce   \n",
      "\n",
      "        origin    body_type seating_capacity   engine torque transmission  \\\n",
      "0      Lắp ráp    Hatchback            5 chỗ  1248 cc   None       Số sàn   \n",
      "1    Nhập khẩu    Hatchback            5 chỗ   998 cc   None       Số sàn   \n",
      "2      Lắp ráp    Hatchback            5 chỗ  1248 cc   None      Tự động   \n",
      "3    Nhập khẩu    Hatchback            5 chỗ  1197 cc   None       Số sàn   \n",
      "4    Nhập khẩu    Hatchback            5 chỗ   998 cc   None   Vô cấp CVT   \n",
      "..         ...          ...              ...      ...    ...          ...   \n",
      "582  Nhập khẩu          SUV            5 chỗ  5980 cc   None      Tự động   \n",
      "583  Nhập khẩu        Coupe            2 chỗ  5935 cc   None      Tự động   \n",
      "584  Nhập khẩu        Sedan            5 chỗ  6592 cc   None      Tự động   \n",
      "585  Nhập khẩu          SUV            4 chỗ  6755 cc   None      Tự động   \n",
      "586  Nhập khẩu  Convertible            4 chỗ  6592 cc   None      Tự động   \n",
      "\n",
      "              max_power drive fuel_type fuel_capacity  \n",
      "0    64.1 kW @ 6000 rpm   FWD      Xăng        35 Lít  \n",
      "1    50.6 kW @ 6000 rpm   2WD      Xăng        35 Lít  \n",
      "2    64.1 kW @ 6000 rpm   FWD      Xăng        35 Lít  \n",
      "3     64 kW @ 86600 rpm   FWD      Xăng        33 Lít  \n",
      "4    50.6 kW @ 6000 rpm   2WD      Xăng        35 Lít  \n",
      "..                  ...   ...       ...           ...  \n",
      "582   463 kW @ 5000 rpm   4WD      Xăng        96 Lít  \n",
      "583   433 kW @ 7000 rpm   RWD      Xăng        77 Lít  \n",
      "584   420 kW @ 5250 rpm   RWD      Xăng        82 Lít  \n",
      "585                       AWD      Xăng         0 Lít  \n",
      "586   442 kW @ 5250 rpm   RWD      Xăng         0 Lít  \n",
      "\n",
      "[587 rows x 13 columns]\n"
     ]
    }
   ],
   "source": [
    "detailed_vehicle_data = []\n",
    "\n",
    "for index, vehicle in vehicle_data.iterrows():\n",
    "    link = vehicle['link']\n",
    "    \n",
    "    driver.get(link)\n",
    "    WebDriverWait(driver, 10).until(EC.presence_of_element_located((By.CSS_SELECTOR, \".wpcm-content-block\")))\n",
    "\n",
    "    try:\n",
    "        try:\n",
    "            manufacturer = driver.find_element(By.XPATH, \"//th[text()='Hãng xe']/following-sibling::td/span\").text\n",
    "        except:\n",
    "            manufacturer = None\n",
    "\n",
    "        try:\n",
    "            origin = driver.find_element(By.XPATH, \"//th[text()='Xuất xứ']/following-sibling::td/span\").text\n",
    "        except:\n",
    "            origin = None\n",
    "\n",
    "        try:\n",
    "            body_type = driver.find_element(By.XPATH, \"//th[text()='Kiểu dáng']/following-sibling::td/span\").text\n",
    "        except:\n",
    "            body_type = None\n",
    "\n",
    "        try:\n",
    "            seating_capacity = driver.find_element(By.XPATH, \"//th[text()='Số chỗ']/following-sibling::td/span\").text\n",
    "        except:\n",
    "            seating_capacity = None\n",
    "\n",
    "        try:\n",
    "            engine = driver.find_element(By.XPATH, \"//th[text()='Động cơ']/following-sibling::td/span\").text\n",
    "        except:\n",
    "            engine = None\n",
    "\n",
    "        try:\n",
    "            torque = driver.find_element(By.XPATH, \"//th[text()='Mô-men xoắn']/following-sibling::td/span\").text\n",
    "        except:\n",
    "            torque = None\n",
    "\n",
    "        try:\n",
    "            transmission = driver.find_element(By.XPATH, \"//th[text()='Hộp số']/following-sibling::td/span\").text\n",
    "        except:\n",
    "            transmission = None\n",
    "\n",
    "        try:\n",
    "            max_power = driver.find_element(By.XPATH, \"//th[text()='Công suất tối đa']/following-sibling::td/span\").text\n",
    "        except:\n",
    "            max_power = None\n",
    "\n",
    "        try:\n",
    "            drive = driver.find_element(By.XPATH, \"//th[text()='Dẫn động']/following-sibling::td/span\").text\n",
    "        except:\n",
    "            drive = None\n",
    "\n",
    "        try:\n",
    "            fuel_type = driver.find_element(By.XPATH, \"//th[text()='Nhiên liệu']/following-sibling::td/span\").text\n",
    "        except:\n",
    "            fuel_type = None\n",
    "     \n",
    "        try:\n",
    "            fuel_capacity = driver.find_element(By.XPATH, \"//th[text()='Dung tích bình']/following-sibling::td/span\").text\n",
    "        except:\n",
    "            fuel_capacity = None\n",
    "        detailed_vehicle_data.append({\n",
    "            'name': vehicle['name'],\n",
    "            'link': link,\n",
    "            'manufacturer': manufacturer,\n",
    "            'origin': origin,\n",
    "            'body_type': body_type,\n",
    "            'seating_capacity': seating_capacity,\n",
    "            'engine': engine,\n",
    "            'torque': torque,\n",
    "            'transmission': transmission,\n",
    "            'max_power': max_power,\n",
    "            'drive': drive,\n",
    "            'fuel_type': fuel_type,\n",
    "            'fuel_capacity': fuel_capacity\n",
    "        })\n",
    "\n",
    "    except Exception as e:\n",
    "        print(f\"Error while extracting data from {link}: {e}\")\n",
    "\n",
    "new_cars_full_data = pd.DataFrame(detailed_vehicle_data)\n",
    "\n",
    "print(new_cars_full_data)\n",
    "\n",
    "driver.quit()"
   ]
  },
  {
   "cell_type": "markdown",
   "metadata": {},
   "source": [
    "# Save data"
   ]
  },
  {
   "cell_type": "code",
   "execution_count": null,
   "metadata": {},
   "outputs": [
    {
     "name": "stderr",
     "output_type": "stream",
     "text": [
      "C:\\Users\\Admin\\AppData\\Local\\Temp\\ipykernel_22476\\611645655.py:5: FutureWarning: DataFrame.applymap has been deprecated. Use DataFrame.map instead.\n",
      "  new_cars_full_data_no_diacritics = new_cars_full_data.applymap(lambda x: unidecode(x) if isinstance(x, str) else x)\n"
     ]
    }
   ],
   "source": [
    "new_cars_full_data.columns = [unidecode(col) for col in new_cars_full_data.columns]\n",
    "\n",
    "new_cars_full_data_no_diacritics = new_cars_full_data.applymap(lambda x: unidecode(x) if isinstance(x, str) else x)\n",
    "new_cars_full_data_no_diacritics.head()\n",
    "new_cars_full_data_no_diacritics.to_csv('new_cars_full_data.csv', index=False, encoding='utf-8')"
   ]
  }
 ],
 "metadata": {
  "kernelspec": {
   "display_name": "Python 3",
   "language": "python",
   "name": "python3"
  },
  "language_info": {
   "codemirror_mode": {
    "name": "ipython",
    "version": 3
   },
   "file_extension": ".py",
   "mimetype": "text/x-python",
   "name": "python",
   "nbconvert_exporter": "python",
   "pygments_lexer": "ipython3",
   "version": "3.11.9"
  }
 },
 "nbformat": 4,
 "nbformat_minor": 2
}
