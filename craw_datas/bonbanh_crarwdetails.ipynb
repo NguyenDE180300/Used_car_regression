{
 "cells": [
  {
   "cell_type": "code",
   "execution_count": 9,
   "metadata": {},
   "outputs": [],
   "source": [
    "from selenium import webdriver\n",
    "from selenium.webdriver.edge.service import Service\n",
    "from selenium.webdriver.edge.options import Options\n",
    "from selenium.webdriver.common.by import By\n",
    "import time\n",
    "import random\n",
    "import pandas as pd\n",
    "import numpy as np\n",
    "from selenium.common.exceptions import NoSuchElementException, ElementClickInterceptedException\n",
    "from selenium.webdriver.support.ui import WebDriverWait\n",
    "from selenium.webdriver.support import expected_conditions as EC\n",
    "from unidecode import unidecode"
   ]
  },
  {
   "cell_type": "code",
   "execution_count": 10,
   "metadata": {},
   "outputs": [],
   "source": [
    "\n",
    "\n",
    "proxies = [\n",
    "    \"174.138.54.65:80\",\n",
    "    \"68.178.168.41:80\",\n",
    "    \"20.111.54.16:8123\",\n",
    "    \"143.42.191.48:80\",\n",
    "    \"156.228.97.202:3128\",\n",
    "    \"104.207.38.3:3128\",\n",
    "    \"104.207.47.101:3128\",\n",
    "    \"104.207.61.18:3128\",\n",
    "    \"104.207.48.14:3128\",\n",
    "    \"159.203.61.169:3128\",\n",
    "    \"104.207.59.196:3128\",\n",
    "    \"45.43.83.95:6378\",\n",
    "    \"43.159.28.112:9278\"\n",
    "]\n"
   ]
  },
  {
   "cell_type": "code",
   "execution_count": null,
   "metadata": {},
   "outputs": [
    {
     "name": "stdout",
     "output_type": "stream",
     "text": [
      "<class 'pandas.core.frame.DataFrame'>\n",
      "RangeIndex: 36428 entries, 0 to 36427\n",
      "Data columns (total 3 columns):\n",
      " #   Column      Non-Null Count  Dtype \n",
      "---  ------      --------------  ----- \n",
      " 0   Unnamed: 0  36428 non-null  int64 \n",
      " 1   Link        36428 non-null  object\n",
      " 2   City        36428 non-null  object\n",
      "dtypes: int64(1), object(2)\n",
      "memory usage: 853.9+ KB\n"
     ]
    }
   ],
   "source": [
    "vehicle_data = pd.read_csv('bonbanh_used_cars_links.csv')\n",
    "vehicle_data.info()"
   ]
  },
  {
   "cell_type": "code",
   "execution_count": null,
   "metadata": {},
   "outputs": [
    {
     "name": "stdout",
     "output_type": "stream",
     "text": [
      "Đã xảy ra lỗi khi lấy dữ liệu từ link https://bonbanh.com/xe-toyota-land_cruiser-3.5-v6-2024-5355519: [Errno 13] Permission denied: 'bonbanh_used_cars_details2.csv'\n",
      "Đã xảy ra lỗi khi lấy dữ liệu từ link https://bonbanh.com/xe-hyundai-elantra-2.0-at-2021-5881883: [Errno 13] Permission denied: 'bonbanh_used_cars_details2.csv'\n",
      "Đã xảy ra lỗi khi lấy dữ liệu từ link https://bonbanh.com/xe-mercedes_benz-glc-200-4matic-2024-5371978: Message: no such element: Unable to locate element: {\"method\":\"css selector\",\"selector\":\".title h1\"}\n",
      "  (Session info: MicrosoftEdge=130.0.2849.68); For documentation on this error, please visit: https://www.selenium.dev/documentation/webdriver/troubleshooting/errors#no-such-element-exception\n",
      "Stacktrace:\n",
      "\tGetHandleVerifier [0x00007FF7D79EDC65+12853]\n",
      "\tMicrosoft::Applications::Events::EventProperty::empty [0x00007FF7D7C983B4+2250276]\n",
      "\tMicrosoft::Applications::Events::EventProperty::empty [0x00007FF7D7BD7696+1460486]\n",
      "\t(No symbol) [0x00007FF7D77E97CC]\n",
      "\t(No symbol) [0x00007FF7D77E990C]\n",
      "\t(No symbol) [0x00007FF7D7823857]\n",
      "\t(No symbol) [0x00007FF7D780853F]\n",
      "\t(No symbol) [0x00007FF7D77E0617]\n",
      "\t(No symbol) [0x00007FF7D7821431]\n",
      "\t(No symbol) [0x00007FF7D7808163]\n",
      "\t(No symbol) [0x00007FF7D77DFB54]\n",
      "\t(No symbol) [0x00007FF7D77DF000]\n",
      "\t(No symbol) [0x00007FF7D77DF741]\n",
      "\tMicrosoft::Applications::Events::EventProperty::empty [0x00007FF7D7B6CDA4+1024020]\n",
      "\tMicrosoft::Applications::Events::EventProperty::~EventProperty [0x00007FF7D7909A04+57108]\n",
      "\tMicrosoft::Applications::Events::EventProperty::empty [0x00007FF7D7B6BDA3+1019923]\n",
      "\tMicrosoft::Applications::Events::EventProperty::empty [0x00007FF7D7B6BA09+1019001]\n",
      "\tMicrosoft::Applications::Events::ILogConfiguration::operator* [0x00007FF7D798E021+394913]\n",
      "\tMicrosoft::Applications::Events::ILogConfiguration::operator* [0x00007FF7D798A944+380868]\n",
      "\tMicrosoft::Applications::Events::ILogConfiguration::operator* [0x00007FF7D798AA89+381193]\n",
      "\tMicrosoft::Applications::Events::ILogConfiguration::operator* [0x00007FF7D7982286+346374]\n",
      "\tBaseThreadInitThunk [0x00007FFABF15257D+29]\n",
      "\tRtlUserThreadStart [0x00007FFAC03AAF08+40]\n",
      "\n"
     ]
    },
    {
     "ename": "KeyboardInterrupt",
     "evalue": "",
     "output_type": "error",
     "traceback": [
      "\u001b[1;31m---------------------------------------------------------------------------\u001b[0m",
      "\u001b[1;31mKeyboardInterrupt\u001b[0m                         Traceback (most recent call last)",
      "Cell \u001b[1;32mIn[12], line 11\u001b[0m\n\u001b[0;32m      9\u001b[0m city \u001b[38;5;241m=\u001b[39m row[\u001b[38;5;124m'\u001b[39m\u001b[38;5;124mCity\u001b[39m\u001b[38;5;124m'\u001b[39m]\n\u001b[0;32m     10\u001b[0m driver\u001b[38;5;241m.\u001b[39mget(link)\n\u001b[1;32m---> 11\u001b[0m time\u001b[38;5;241m.\u001b[39msleep(\u001b[38;5;241m1\u001b[39m)\n\u001b[0;32m     13\u001b[0m \u001b[38;5;28;01mtry\u001b[39;00m:\n\u001b[0;32m     14\u001b[0m     car_details \u001b[38;5;241m=\u001b[39m {}\n",
      "\u001b[1;31mKeyboardInterrupt\u001b[0m: "
     ]
    }
   ],
   "source": [
    "options = Options()\n",
    "driver = webdriver.Edge()\n",
    "driver.get(\"https://bonbanh.com/oto\")\n",
    "data = []\n",
    "\n",
    "\n",
    "for index, row in vehicle_data.iterrows():\n",
    "    link = row['Link']\n",
    "    city = row['City']\n",
    "    driver.get(link)\n",
    "    time.sleep(1)\n",
    "\n",
    "    try:\n",
    "        car_details = {}\n",
    "        title_element = driver.find_element(By.CSS_SELECTOR, \".title h1\")\n",
    "        full_title = title_element.text.strip()\n",
    "        car_details['Tên xe'] = full_title\n",
    "\n",
    "        car_details['City'] = city\n",
    "\n",
    "        parts = full_title.split('-')\n",
    "        if len(parts) > 1:\n",
    "            price_part = parts[-1].strip()\n",
    "            car_details['Gia xe'] = price_part\n",
    "        else:\n",
    "            car_details['Gia xe'] = ''\n",
    "\n",
    "        date_element = driver.find_element(By.CSS_SELECTOR, \".notes\")\n",
    "        date_text = date_element.text.strip()\n",
    "        car_details['Ngay bán'] = date_text.split('Đăng ngày')[-1].strip().split('.')[0]\n",
    "\n",
    "        specs = driver.find_elements(By.CSS_SELECTOR, \".box_car_detail .row\")\n",
    "        for spec in specs:\n",
    "            label = spec.find_element(By.CLASS_NAME, \"label\").text.strip()\n",
    "            value = spec.find_element(By.CLASS_NAME, \"inp\").text.strip() if spec.find_element(By.CLASS_NAME, \"inp\") else ''\n",
    "            car_details[label] = value\n",
    "\n",
    "        car_details_no_diacritics = {unidecode(k): unidecode(v) if isinstance(v, str) else v for k, v in car_details.items()}\n",
    "\n",
    "        data.append(car_details_no_diacritics)\n",
    "\n",
    "        df = pd.DataFrame([car_details_no_diacritics])\n",
    "        df.to_csv('bonbanh_used_cars_details.csv', mode='a', header=False, encoding='utf-8', index=False)\n",
    "\n",
    "    except Exception as e:\n",
    "        print(f\"Đã xảy ra lỗi khi lấy dữ liệu từ link {link}: {e}\")\n",
    "\n",
    "driver.quit()"
   ]
  },
  {
   "cell_type": "code",
   "execution_count": null,
   "metadata": {},
   "outputs": [
    {
     "data": {
      "text/html": [
       "<div>\n",
       "<style scoped>\n",
       "    .dataframe tbody tr th:only-of-type {\n",
       "        vertical-align: middle;\n",
       "    }\n",
       "\n",
       "    .dataframe tbody tr th {\n",
       "        vertical-align: top;\n",
       "    }\n",
       "\n",
       "    .dataframe thead th {\n",
       "        text-align: right;\n",
       "    }\n",
       "</style>\n",
       "<table border=\"1\" class=\"dataframe\">\n",
       "  <thead>\n",
       "    <tr style=\"text-align: right;\">\n",
       "      <th></th>\n",
       "      <th>Ten xe</th>\n",
       "      <th>Gia xe</th>\n",
       "      <th>Ngay ban</th>\n",
       "      <th>Nam san xuat:</th>\n",
       "      <th>Tinh trang:</th>\n",
       "      <th>So Km da di:</th>\n",
       "      <th>Xuat xu:</th>\n",
       "      <th>Kieu dang:</th>\n",
       "      <th>Dong co:</th>\n",
       "      <th>Mau ngoai that:</th>\n",
       "      <th>Mau noi that:</th>\n",
       "      <th>So cho ngoi:</th>\n",
       "      <th>So cua:</th>\n",
       "    </tr>\n",
       "  </thead>\n",
       "  <tbody>\n",
       "    <tr>\n",
       "      <th>0</th>\n",
       "      <td>Xe Mercedes Benz S class S450L 2020 - 2 Ty 695...</td>\n",
       "      <td>2 Ty 695 Trieu</td>\n",
       "      <td>19/10/2024</td>\n",
       "      <td>2020</td>\n",
       "      <td>Xe da dung</td>\n",
       "      <td>39,000 Km</td>\n",
       "      <td>Lap rap trong nuoc</td>\n",
       "      <td>Sedan</td>\n",
       "      <td>Xang 3.0 L</td>\n",
       "      <td>Trang</td>\n",
       "      <td>Den</td>\n",
       "      <td>5 cho</td>\n",
       "      <td>4 cua</td>\n",
       "    </tr>\n",
       "  </tbody>\n",
       "</table>\n",
       "</div>"
      ],
      "text/plain": [
       "                                              Ten xe          Gia xe  \\\n",
       "0  Xe Mercedes Benz S class S450L 2020 - 2 Ty 695...  2 Ty 695 Trieu   \n",
       "\n",
       "      Ngay ban Nam san xuat: Tinh trang: So Km da di:            Xuat xu:  \\\n",
       "0  19/10/2024           2020  Xe da dung    39,000 Km  Lap rap trong nuoc   \n",
       "\n",
       "  Kieu dang:    Dong co: Mau ngoai that: Mau noi that: So cho ngoi: So cua:  \n",
       "0      Sedan  Xang 3.0 L           Trang           Den        5 cho   4 cua  "
      ]
     },
     "execution_count": 26,
     "metadata": {},
     "output_type": "execute_result"
    }
   ],
   "source": [
    "df.head()"
   ]
  }
 ],
 "metadata": {
  "kernelspec": {
   "display_name": "Python 3",
   "language": "python",
   "name": "python3"
  },
  "language_info": {
   "codemirror_mode": {
    "name": "ipython",
    "version": 3
   },
   "file_extension": ".py",
   "mimetype": "text/x-python",
   "name": "python",
   "nbconvert_exporter": "python",
   "pygments_lexer": "ipython3",
   "version": "3.11.9"
  }
 },
 "nbformat": 4,
 "nbformat_minor": 2
}
