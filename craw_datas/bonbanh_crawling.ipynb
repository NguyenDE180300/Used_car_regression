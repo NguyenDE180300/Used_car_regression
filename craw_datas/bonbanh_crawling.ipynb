{
 "cells": [
  {
   "cell_type": "code",
   "execution_count": 18,
   "metadata": {},
   "outputs": [],
   "source": [
    "from selenium import webdriver\n",
    "from selenium.webdriver.edge.service import Service\n",
    "from selenium.webdriver.edge.options import Options\n",
    "from selenium.webdriver.common.by import By\n",
    "import time\n",
    "import random\n",
    "import pandas as pd\n",
    "import numpy as np\n",
    "from selenium.common.exceptions import NoSuchElementException, ElementClickInterceptedException\n",
    "import unicodedata"
   ]
  },
  {
   "cell_type": "code",
   "execution_count": 19,
   "metadata": {},
   "outputs": [],
   "source": [
    "driver = webdriver.Edge()\n",
    "driver.get(\"https://bonbanh.com/ha-noi/oto-so-tu-dong-tu-nam-2014-cu-da-qua-su-dung\")"
   ]
  },
  {
   "cell_type": "code",
   "execution_count": 20,
   "metadata": {},
   "outputs": [
    {
     "name": "stdout",
     "output_type": "stream",
     "text": [
      "No more pages.\n",
      "                                                   Link    City\n",
      "0     https://bonbanh.com/xe-toyota-fortuner-2.4l-4x...  Hà Nội\n",
      "1     https://bonbanh.com/xe-mercedes_benz-maybach-s...  Hà Nội\n",
      "2     https://bonbanh.com/xe-landrover-range_rover-a...  Hà Nội\n",
      "3     https://bonbanh.com/xe-peugeot-3008-al-2022-59...  Hà Nội\n",
      "4     https://bonbanh.com/xe-mazda-cx5-premium-2.0-a...  Hà Nội\n",
      "...                                                 ...     ...\n",
      "5455  https://bonbanh.com/xe-honda-city-1.5top-2018-...  Hà Nội\n",
      "5456  https://bonbanh.com/xe-mitsubishi-xpander-prem...  Hà Nội\n",
      "5457  https://bonbanh.com/xe-toyota-fortuner-2.4l-4x...  Hà Nội\n",
      "5458  https://bonbanh.com/xe-bmw-3_series-320i-sport...  Hà Nội\n",
      "5459  https://bonbanh.com/xe-ford-ranger-xls-2.2l-4x...  Hà Nội\n",
      "\n",
      "[5460 rows x 2 columns]\n"
     ]
    }
   ],
   "source": [
    "car_links = []\n",
    "cities = []\n",
    "\n",
    "while True:\n",
    "    time.sleep(3)\n",
    "    car_items = driver.find_elements(By.CSS_SELECTOR, \"li.car-item a\")\n",
    "    city_items = driver.find_elements(By.CSS_SELECTOR, \"li.car-item div.cb4 b\")\n",
    "\n",
    "    for item, city in zip(car_items, city_items):\n",
    "        href = item.get_attribute(\"href\")\n",
    "        city_name = city.text if city else None\n",
    "        if href:\n",
    "            car_links.append(href)\n",
    "            cities.append(city_name)\n",
    "\n",
    "    try:\n",
    "        next_button = driver.find_element(By.XPATH, '//span[@class=\"bbl\" and contains(text(), \">\")]')\n",
    "        next_button.click()\n",
    "    except NoSuchElementException:\n",
    "        print(\"No more pages.\")\n",
    "        break\n",
    "    \n",
    "driver.quit()\n",
    "\n",
    "df = pd.DataFrame({'Link': car_links, 'City': cities})\n",
    "print(df)"
   ]
  },
  {
   "cell_type": "code",
   "execution_count": 21,
   "metadata": {},
   "outputs": [
    {
     "data": {
      "text/html": [
       "<div>\n",
       "<style scoped>\n",
       "    .dataframe tbody tr th:only-of-type {\n",
       "        vertical-align: middle;\n",
       "    }\n",
       "\n",
       "    .dataframe tbody tr th {\n",
       "        vertical-align: top;\n",
       "    }\n",
       "\n",
       "    .dataframe thead th {\n",
       "        text-align: right;\n",
       "    }\n",
       "</style>\n",
       "<table border=\"1\" class=\"dataframe\">\n",
       "  <thead>\n",
       "    <tr style=\"text-align: right;\">\n",
       "      <th></th>\n",
       "      <th>Link</th>\n",
       "      <th>City</th>\n",
       "    </tr>\n",
       "  </thead>\n",
       "  <tbody>\n",
       "    <tr>\n",
       "      <th>0</th>\n",
       "      <td>https://bonbanh.com/xe-toyota-fortuner-2.4l-4x...</td>\n",
       "      <td>Ha Noi</td>\n",
       "    </tr>\n",
       "    <tr>\n",
       "      <th>1</th>\n",
       "      <td>https://bonbanh.com/xe-mercedes_benz-maybach-s...</td>\n",
       "      <td>Ha Noi</td>\n",
       "    </tr>\n",
       "    <tr>\n",
       "      <th>2</th>\n",
       "      <td>https://bonbanh.com/xe-landrover-range_rover-a...</td>\n",
       "      <td>Ha Noi</td>\n",
       "    </tr>\n",
       "    <tr>\n",
       "      <th>3</th>\n",
       "      <td>https://bonbanh.com/xe-peugeot-3008-al-2022-59...</td>\n",
       "      <td>Ha Noi</td>\n",
       "    </tr>\n",
       "    <tr>\n",
       "      <th>4</th>\n",
       "      <td>https://bonbanh.com/xe-mazda-cx5-premium-2.0-a...</td>\n",
       "      <td>Ha Noi</td>\n",
       "    </tr>\n",
       "  </tbody>\n",
       "</table>\n",
       "</div>"
      ],
      "text/plain": [
       "                                                Link    City\n",
       "0  https://bonbanh.com/xe-toyota-fortuner-2.4l-4x...  Ha Noi\n",
       "1  https://bonbanh.com/xe-mercedes_benz-maybach-s...  Ha Noi\n",
       "2  https://bonbanh.com/xe-landrover-range_rover-a...  Ha Noi\n",
       "3  https://bonbanh.com/xe-peugeot-3008-al-2022-59...  Ha Noi\n",
       "4  https://bonbanh.com/xe-mazda-cx5-premium-2.0-a...  Ha Noi"
      ]
     },
     "execution_count": 21,
     "metadata": {},
     "output_type": "execute_result"
    }
   ],
   "source": [
    "def remove_diacritics(text):\n",
    "    return ''.join(\n",
    "        c for c in unicodedata.normalize('NFD', text)\n",
    "        if unicodedata.category(c) != 'Mn'\n",
    "    )\n",
    "\n",
    "df['City'] = df['City'].apply(remove_diacritics)\n",
    "df.head()"
   ]
  },
  {
   "cell_type": "code",
   "execution_count": 22,
   "metadata": {},
   "outputs": [
    {
     "name": "stdout",
     "output_type": "stream",
     "text": [
      "<class 'pandas.core.frame.DataFrame'>\n",
      "RangeIndex: 5460 entries, 0 to 5459\n",
      "Data columns (total 2 columns):\n",
      " #   Column  Non-Null Count  Dtype \n",
      "---  ------  --------------  ----- \n",
      " 0   Link    5460 non-null   object\n",
      " 1   City    5460 non-null   object\n",
      "dtypes: object(2)\n",
      "memory usage: 85.4+ KB\n"
     ]
    }
   ],
   "source": [
    "df.info()"
   ]
  },
  {
   "cell_type": "code",
   "execution_count": 23,
   "metadata": {},
   "outputs": [],
   "source": [
    "df.to_csv('bonbanh_used_cars_links2.csv')"
   ]
  }
 ],
 "metadata": {
  "kernelspec": {
   "display_name": "Python 3",
   "language": "python",
   "name": "python3"
  },
  "language_info": {
   "codemirror_mode": {
    "name": "ipython",
    "version": 3
   },
   "file_extension": ".py",
   "mimetype": "text/x-python",
   "name": "python",
   "nbconvert_exporter": "python",
   "pygments_lexer": "ipython3",
   "version": "3.11.9"
  }
 },
 "nbformat": 4,
 "nbformat_minor": 2
}
